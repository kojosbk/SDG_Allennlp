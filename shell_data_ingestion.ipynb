{
 "cells": [
  {
   "cell_type": "code",
   "execution_count": 7,
   "id": "02956209",
   "metadata": {},
   "outputs": [],
   "source": [
    "#Do not run, except you want to reset the list\n",
    "\n",
    "article_urls = []\n",
    "output_data = []"
   ]
  },
  {
   "cell_type": "code",
   "execution_count": 8,
   "id": "1db4f276",
   "metadata": {},
   "outputs": [],
   "source": [
    "#IMPORT DEPENDENCIES\n",
    "\n",
    "import newspaper\n",
    "from newspaper import Article\n",
    "from newspaper import fulltext\n",
    "import nltk\n",
    "import requests\n",
    "\n",
    "import pandas as pd\n",
    "import numpy as np\n"
   ]
  },
  {
   "cell_type": "code",
   "execution_count": 9,
   "id": "e77437ce",
   "metadata": {},
   "outputs": [],
   "source": [
    "shell_search_webpages = [\n",
    "                   'https://www.theguardian.com/business/royaldutchshell',\n",
    "                \n",
    "                  ]\n",
    "\n"
   ]
  },
  {
   "cell_type": "code",
   "execution_count": 10,
   "id": "abbdde80",
   "metadata": {},
   "outputs": [],
   "source": [
    "#Extract individual urls in the wepage and append them to the article_urls list\n",
    "#if \"active_url\" block was reset--in the first code block,un-comment the memoize_articles to prevent caching\n",
    "\n",
    "for webpage in shell_search_webpages:\n",
    "    news_portal = newspaper.build(webpage)#,memoize_articles=False)\n",
    "    for article in news_portal.articles:\n",
    "        article_urls.append(article.url) "
   ]
  },
  {
   "cell_type": "code",
   "execution_count": 22,
   "id": "b92455c6",
   "metadata": {},
   "outputs": [
    {
     "name": "stdout",
     "output_type": "stream",
     "text": [
      "['https://www.theguardian.com/mobile/2014/may/29/the-guardian-for-mobile-and-tablet', 'https://www.theguardian.com/environment/2022/sep/08/oil-and-gas-firms-green-investments-fail-to-match-promise-of-adverts-study', 'https://www.theguardian.com/business/2022/sep/07/uks-broadband-firms-set-for-17bn-windfall-with-above-inflation-price-rises', 'https://www.theguardian.com/business/2022/sep/02/shell-boss-ben-van-beurden-prepares-to-stand-down-reports-say', 'https://www.theguardian.com/environment/2022/sep/01/south-african-court-bans-offshore-oil-and-gas-exploration-by-shell', 'https://www.theguardian.com/business/2022/aug/29/european-gas-shortages-likely-to-last-several-winters-shell-chief-rationing-europe-russia', 'https://www.theguardian.com/business/2022/aug/25/shell-pay-536000-overcharging-prepayment-meter-customers', 'https://www.theguardian.com/world/2022/aug/22/fears-earthquakes-dutch-gas-field-energy-crisis', 'https://www.theguardian.com/environment/2022/aug/18/the-church-of-england-is-on-board-in-pursuit-of-a-net-zero-world', 'https://www.theguardian.com/environment/2022/aug/17/church-of-england-pension-bosss-shares-shell-clive-mather', 'https://www.theguardian.com/business/2022/aug/06/bp-social-media-influence-ads-labour-windfall-tax', 'https://www.theguardian.com/commentisfree/2022/aug/04/energy-companies-bleeding-british-families-governmental-control', 'https://www.theguardian.com/business/2022/aug/03/shell-staff-bonus-record-profits-oil-gas-prices', 'https://www.theguardian.com/commentisfree/picture/2022/jul/30/tory-candidates-fiddle-while-the-world-burns-cartoon', 'https://www.theguardian.com/business/2022/jul/29/oil-gas-company-profits-fuel-prices-shell-exxon-chevron', 'https://www.theguardian.com/business/nils-pratley-on-finance/2022/jul/28/with-such-eye-watering-profits-shell-should-invest-more-in-low-carbon-transition', 'https://www.theguardian.com/business/2022/jul/28/an-insult-soaring-profits-at-shell-and-centrica-cause-outrage', 'https://www.theguardian.com/business/live/2022/jul/28/shell-profits-record-households-cost-of-living-us-economy-gdp-business-live', 'https://www.theguardian.com/business/2022/jul/28/shell-posts-10bn-quarterly-profits-as-households-struggle-with-bills', 'https://www.theguardian.com/business/2022/jul/24/heat-is-on-for-energy-firms-as-high-prices-send-profits-soaring', 'https://www.theguardian.com/environment/2022/jul/21/wellcome-trust-sells-stakes-in-large-oil-and-mining-companies', 'https://www.theguardian.com/global/ng-interactive/2022/apr/13/first-edition-sign-up-guardian', 'https://www.theguardian.com/info/2016/mar/03/terms-and-conditions-for-subscription-content-sales', 'https://www.theguardian.com/info/2016/may/13/terms-and-conditions-for-non-subscription-content-sales', 'https://workforus.theguardian.com/index.php/faqs/interviews/how-will-my-work-impact-environment-and-local-community-2-2-2-2-2/', 'https://workforus.theguardian.com/index.php/faqs/interviews/how-will-my-work-impact-environment-and-local-community-2-2-2-2-2-2/', 'https://workforus.theguardian.com/index.php/faqs/interviews/how-will-my-work-impact-environment-and-local-community-2-2-2-2-2-21/', 'https://workforus.theguardian.com/index.php/faqs/interviews/how-will-my-work-impact-environment-and-local-community-2-2-2-2-2-22/', 'https://workforus.theguardian.com/index.php/faqs/interviews/how-will-my-work-impact-environment-and-local-community-2-2-2-2-2-23/', 'https://workforus.theguardian.com/index.php/faqs/interviews/how-will-my-work-impact-environment-and-local-community-2-2-2-2-2-24/', 'https://workforus.theguardian.com/index.php/faqs/interviews/how-will-my-work-impact-environment-and-local-community-2-2-2-2-2-25/', 'https://holidays.theguardian.com/holidays/dubrovnik-montenegro-and-the-dalmatian-coast-98f26abccea1e135c7de851045299d0a', 'https://holidays.theguardian.com/holidays/belfast-and-the-titanic-experience-7eb8c1ab41a27071abc87dedb3009f58', 'https://holidays.theguardian.com/holidays/small-group-bath-somerset-and-glastonbury-235d3ef69cf5a8e1956935bde816af1f', 'https://holidays.theguardian.com/holidays/the-danubes-imperial-cities-and-yuletide-markets-ms-thomas-hardy-22482fa51adfc9a574ad8ba1c0554c05', 'https://holidays.theguardian.com/holidays/the-danubes-imperial-cities-and-yuletide-markets-ms-william-wordsworth-53ebc061338c8a8b6b916bc0771060f1', 'https://holidays.theguardian.com/holidays/amsterdam-kinderdijk-and-the-dutch-bulbfields-ms-emily-bront-d90b521d1f11e72eeee63639901c49a2', 'https://holidays.theguardian.com/holidays/enchanting-rhine-and-yuletide-markets-ms-emily-bront-bdb4b08eaf7ed0b1a387a2aa4c8f7d67', 'https://holidays.theguardian.com/holidays/burgundy-the-river-rhone-and-provence-ms-lord-byron-df6f02a2e2ab50571ef5c61f12535939', 'https://holidays.theguardian.com/holidays/burgundy-the-river-rhone-and-provence-ms-william-shakespeare-179954d684149f86a44e78a81a42deff', 'https://holidays.theguardian.com/holidays/bruges-medieval-flanders-amsterdam-and-the-dutch-bulbfields-ms-oscar-wilde-d0fff20be5a56429e74f3c541d666d53', 'https://holidays.theguardian.com/holidays/rhine-and-moselle-ms-emily-bront-348536fcf0b9d850bd8061f24c69a823', 'https://www.theguardian.com/world/live/2022/sep/14/russia-ukraine-war-latest-kyiv-aims-to-consolidate-gains-in-kharkiv-biden-says-war-will-be-long-haul-live', 'https://www.theguardian.com/world/2022/sep/13/ukraine-reclaim-control-of-kharkiv-and-towns-seized-at-onset-of-russian-invasion', 'https://www.theguardian.com/world/2022/sep/13/ukraines-advances-pose-question-for-world-can-kyiv-actually-win', 'https://www.theguardian.com/world/2022/sep/13/long-term-military-investment-proposed-as-alternative-to-ukraine-joining-nato', 'https://www.theguardian.com/world/2022/sep/14/russia-ukraine-at-a-glance-what-we-know-on-day-203-of-the-invasion', 'https://www.theguardian.com/world/2022/sep/13/balakliia-residents-take-stock-after-ukraine-recaptures-frontline-town', 'https://www.theguardian.com/uk-news/live/2022/sep/14/king-charles-iii-prince-william-harry-accompany-queen-elizabeth-ii-coffin-casket-westminster-hall-lie-lying-in-state-live-updates-latest-news', 'https://www.theguardian.com/media/2022/sep/14/final-homecoming-front-pages-as-the-queens-coffin-arrives-at-buckingham-palace', 'https://www.theguardian.com/uk-news/2022/sep/13/king-charles-staff-given-redundancy-notice-during-church-service-for-queen', 'https://www.theguardian.com/uk-news/2022/sep/14/the-sovereigns-wealth-uk-royal-familys-finances-explained', 'https://www.theguardian.com/world/2022/sep/14/strength-of-limitless-china-russia-ties-to-be-tested-at-summit', 'https://www.theguardian.com/environment/2022/sep/14/fossil-fuel-non-proliferation-treaty-who-environmental-vandilism', 'https://www.theguardian.com/world/2022/sep/14/record-number-of-young-people-in-japan-rejecting-marriage-survey-shows', 'https://www.theguardian.com/world/2022/sep/14/vietnam-climate-activists-united-nations-human-rights', 'https://www.theguardian.com/us-news/2022/sep/13/arlington-national-cemetery-confederate-memorial', 'https://www.theguardian.com/world/2022/sep/13/deadly-clashes-erupt-in-disputed-territory-between-azerbaijan-and-armenia', 'https://www.theguardian.com/world/2022/sep/14/kazakhstan-to-change-name-of-capital-from-nur-sultan-back-to-astana', 'https://www.theguardian.com/us-news/2022/sep/14/girl-who-killed-accused-rapist-must-pay-his-family-150000', 'https://www.theguardian.com/business/2022/sep/14/uk-inflation-falls-amid-cost-of-living-crisis', 'https://www.theguardian.com/world/2022/sep/14/slavery-family-racist-history-ancestors-wrongdoing', 'https://www.theguardian.com/environment/2022/sep/14/unstoppable-bird-flu-epidemic-causes-growing-alarm-among-dutch-farmers', 'https://www.theguardian.com/lifeandstyle/2022/sep/14/a-moment-that-changed-me-as-i-recovered-from-spinal-surgery-the-death-of-princess-diana-made-me-value-life', 'https://www.theguardian.com/environment/2022/sep/14/discovered-in-the-deep-the-transparent-crustacean-with-enormous-eyes-cystisoma', 'https://www.theguardian.com/books/2022/sep/14/shrines-of-gaiety-by-kate-atkinson-review-exuberant-nightclub-saga', 'https://www.theguardian.com/environment/2022/sep/14/we-are-not-going-away-the-volunteers-fighting-back-against-englands-polluted-rivers', 'https://www.theguardian.com/world/2022/sep/14/the-hospital-has-nothing-pakistans-floods-put-pregnant-women-in-danger', 'https://www.theguardian.com/culture/2022/sep/13/high-octane-visions-blurred-distorted-genius-photographer-william-klein', 'https://www.theguardian.com/world/2022/sep/13/first-climate-lawsuit-russia-emissions', 'https://www.theguardian.com/environment/2022/sep/12/weather-tracker-parts-of-europe-swelter-again-but-autumn-chill-on-the-way', 'https://www.theguardian.com/environment/2022/sep/12/us-west-megadrought-climate-disaster', 'https://www.theguardian.com/environment/2022/sep/12/colorado-drought-water-alfalfa-farmers-conservation', 'https://www.theguardian.com/commentisfree/2022/sep/14/celebrities-let-me-fix-this-for-you-youre-not-humbled-to-win-something-you-are-honoured', 'https://www.theguardian.com/commentisfree/2022/sep/14/there-is-no-single-national-mood-just-ask-britains-republicans', 'https://www.theguardian.com/commentisfree/2022/sep/14/suspicious-glare-police-black-britons-disgrace-chris-kaba', 'https://www.theguardian.com/commentisfree/2022/sep/13/britain-free-speech-heckles-prince-andrew', 'https://www.theguardian.com/commentisfree/2022/sep/14/hollow-cloying-veneration-greeted-the-queens-death-now-history-calls-on-us-to-get-an-australian-head-of-state', 'https://www.theguardian.com/commentisfree/2022/sep/13/uk-better-insulated-homes-putin-fossil-fuel-giants', 'https://www.theguardian.com/football/2022/sep/14/borussia-dortmund-marco-reus-erling-haaland-manchester-city-champions-league', 'https://www.theguardian.com/football/2022/sep/13/guardiola-not-worried-about-prospect-of-manchester-city-facing-fixture-pileup', 'https://www.theguardian.com/football/2022/sep/13/sporting-lisbon-tottenham-champions-league-match-report', 'https://www.theguardian.com/football/2022/sep/13/champions-league-roundup-club-brugge-pull-off-shock-4-0-win-at-porto', 'https://www.theguardian.com/football/2022/sep/13/bayern-munich-barcelona-champions-league-match-report', 'https://www.theguardian.com/football/2022/sep/13/giovanni-van-bronckhorst-tells-rangers-players-to-improve-for-napoli-clash', 'https://www.theguardian.com/football/2022/sep/13/klopp-liverpool-bravery-ajax-first-step-champions-league-boehly', 'https://www.theguardian.com/football/2022/sep/13/liverpool-ajax-champions-league-match-report', 'https://www.theguardian.com/sport/2022/sep/13/smriti-mandhana-leads-indias-stroll-to-t20-victory-over-england', 'https://www.theguardian.com/sport/live/2022/sep/13/england-v-india-second-womens-t20-cricket-international-live', 'https://www.theguardian.com/sport/2022/sep/13/anthony-joshua-world-heavyweight-title-fight-clash-with-tyson-fury-is-on-boxing', 'https://www.theguardian.com/sport/2022/sep/13/worthy-of-the-stasi-british-cycling-in-queens-funeral-u-turn-after-ridicule', 'https://www.theguardian.com/sport/2022/sep/13/brendon-mccullum-plays-down-role-england-test-resurgence', 'https://www.theguardian.com/us-news/2022/sep/14/louisiana-woman-skull-less-fetus-new-york-abortion', 'https://www.theguardian.com/australia-news/2022/sep/14/australia-must-set-higher-climate-ambitions-to-avert-impending-disaster-pacific-island-leaders-say', 'https://www.theguardian.com/world/2022/sep/13/canada-deadly-rampage-toronto-police-officer', 'https://www.theguardian.com/books/2022/sep/14/trump-iran-assassination-fear-suleimani-drone-strike-divider-book-baker-glasser', 'https://www.theguardian.com/business/2022/sep/13/gas-prices-eu-fall-sharply-goldman-sachs-eu-russia', 'https://www.theguardian.com/business/2022/sep/13/us-inflation-rate-august-2022-gas-prices', 'https://www.theguardian.com/global-development/2022/sep/14/vietnam-urged-to-free-green-activist-nguy-thi-khanh-as-it-bids-to-join-un-human-rights-council', 'https://www.theguardian.com/world/2022/sep/13/russia-foreign-election-interference-state-department', 'https://www.theguardian.com/us-news/2022/sep/13/alex-jones-conspiracy-theorist-defamation-trial-sandy-hook', 'https://www.theguardian.com/global-development/2022/sep/13/hungary-tightens-abortion-access-with-listen-to-foetal-heartbeat-rule', 'https://www.theguardian.com/world/ng-interactive/2022/aug/22/little-warrior-the-boxer-breaking-away-from-venezuelan-poverty-documentary', 'https://www.theguardian.com/help/ng-interactive/2017/mar/17/contact-the-guardian-securely', 'https://www.theguardian.com/film/filmblog/2022/sep/13/jean-luc-godard-dead-breathless-bardot-french-new-wave', 'https://www.theguardian.com/film/2022/sep/13/jean-luc-godard-obituary', 'https://www.theguardian.com/film/gallery/2022/sep/13/jean-luc-godard-a-life-in-pictures', 'https://www.theguardian.com/film/2022/sep/13/jean-luc-godard-chose-to-end-life-through-assisted-dying-lawyer-confirms', 'https://www.theguardian.com/tv-and-radio/2022/sep/13/a-victory-for-the-ages-the-biggest-surprises-at-the-2022-emmys', 'https://www.theguardian.com/tv-and-radio/2022/sep/13/ted-lasso-actor-brett-goldstein-roy-kent-wins-and-swears-again-at-emmys', 'https://www.theguardian.com/books/2022/sep/13/margaret-atwood-and-neil-gaiman-among-authors-signed-up-for-ukrainian-book-festival', 'https://www.theguardian.com/film/2022/sep/13/whats-love-got-to-do-with-it-review-slick-richard-curtis-esque-britcom', 'https://www.theguardian.com/books/2022/sep/13/folio-from-world-masterpiece-illuminated-manuscript-goes-up-for-auction', 'https://www.theguardian.com/music/2022/sep/13/tartan-pyjamas-laundry-mashup-masters-jockstrap', 'https://www.theguardian.com/lifeandstyle/2022/sep/13/double-rinse-and-avoid-fragrance-doing-laundry-with-sensitive-skin', 'https://www.theguardian.com/lifeandstyle/2022/sep/13/scientists-find-out-the-best-way-to-soothe-a-crying-baby', 'https://www.theguardian.com/travel/2022/sep/13/sail-swim-hike-a-walking-and-boating-adventure-along-croatias-dalmatian-coast', 'https://www.theguardian.com/food/2022/sep/13/nigel-slater-midweek-dinner-labne-grilled-plums-poppy-seed-crumble', 'https://www.theguardian.com/lifeandstyle/2022/sep/12/how-we-met-he-rolled-up-his-sleeves-i-saw-his-forearms-and-something-in-my-mind-went-click', 'https://www.theguardian.com/food/2022/sep/12/thomasina-miers-recipe-greens-on-toast-tomato-jam', 'https://www.theguardian.com/news/series/the-long-read', 'https://www.theguardian.com/uk-news/2022/sep/13/its-a-huge-honour-military-rehearse-for-queen-elizabeth-funeral-procession', 'https://www.theguardian.com/world/2022/sep/13/apathy-in-new-zealand-but-little-desire-for-change-as-king-charless-reign-begins', 'https://www.theguardian.com/technology/2022/sep/13/unboxing-bad-baby-evil-santa-youtube-swamped-creepy-kids-content', 'https://www.theguardian.com/us-news/2022/sep/13/ontario-california-amazon-warehouses', 'https://www.theguardian.com/us-news/2022/sep/13/the-strain-is-the-worst-of-my-lifetime-how-bill-gates-is-staying-optimistic', 'https://www.theguardian.com/world/2022/sep/12/desperation-grows-in-hard-hit-chengdus-indefinite-covid-lockdown', 'https://www.theguardian.com/music/2022/sep/06/post-your-questions-for-paul-heaton-and-jacqui-abbott', 'https://www.theguardian.com/world/2022/may/16/russians-tell-us-what-the-mood-is-like-in-your-country', 'https://www.theguardian.com/world/2022/jan/26/living-in-ukraine-how-have-you-been-affected-by-the-current-situation', 'https://www.theguardian.com/community/2015/sep/02/guardianwitness-send-us-a-story', 'https://www.theguardian.com/news/series/todayinfocus', 'https://www.theguardian.com/news/audio/2022/sep/14/will-liz-trusss-energy-plan-keep-britain-warm-this-winter-podcast', 'https://www.theguardian.com/uk-news/video/2022/sep/10/like-part-of-my-britishness-has-gone-the-view-from-londons-streets-as-charles-becomes-king', 'https://www.theguardian.com/uk-news/video/2022/sep/08/queen-elizabeth-ii-in-her-own-words-video-obituary', 'https://www.theguardian.com/uk-news/video/2022/sep/08/remembering-the-queens-great-sense-of-humour-video', 'https://www.theguardian.com/world/video/2022/sep/06/bolsonaro-war-on-the-amazon-examining-evidence-of-crimes-against-indigenous-people-video', 'https://www.theguardian.com/politics/video/2022/sep/06/the-30-hours-that-brought-liz-truss-to-no-10-video-timeline', 'https://www.theguardian.com/world/video/2022/sep/01/the-ukrainians-living-on-a-nuclear-frontline-this-is-inhumanity-video', 'https://www.theguardian.com/world/video/2022/sep/04/plague-proportion-new-zealands-wallaby-hunters-cull-invasive-species-video', 'https://www.theguardian.com/world/video/2022/aug/27/i-count-myself-as-a-black-ukrainian-the-fashion-designer-starting-again-in-budapest-video', 'https://www.theguardian.com/football/video/2022/aug/26/rockets-and-air-raids-how-ukrainian-football-is-rising-from-the-rubble-video', 'https://www.theguardian.com/news/series/ten-best-photographs-of-the-day', 'https://www.theguardian.com/uk-news/gallery/2022/sep/13/a-lantern-show-and-a-wildfire-tuesdays-best-photos', 'https://www.theguardian.com/artanddesign/gallery/2022/sep/13/all-bound-for-moormerland-dreams-of-a-small-german-town-in-pictures', 'https://www.theguardian.com/artanddesign/gallery/2022/sep/13/acclaimed-photographer-roger-bamber-a-life-in-pictures', 'https://www.theguardian.com/news/gallery/2022/sep/11/whacky-racing-and-harvest-moon-the-weekends-best-photos', 'https://www.theguardian.com/film/gallery/2022/sep/12/marsha-hunt-a-life-in-pictures', 'https://www.theguardian.com/uk-news/gallery/2022/sep/11/the-queens-coffin-in-scotland-and-the-kings-proclamations-in-pictures', 'https://www.theguardian.com/world/live/2022/sep/13/russia-ukraine-war-blinken-hails-significant-progress-as-ukraines-forces-reach-russian-border-in-north']\n"
     ]
    }
   ],
   "source": [
    "print(article_urls)"
   ]
  },
  {
   "cell_type": "code",
   "execution_count": 11,
   "id": "f563b760",
   "metadata": {},
   "outputs": [
    {
     "data": {
      "text/plain": [
       "150"
      ]
     },
     "execution_count": 11,
     "metadata": {},
     "output_type": "execute_result"
    }
   ],
   "source": [
    "len(article_urls)"
   ]
  },
  {
   "cell_type": "code",
   "execution_count": 16,
   "id": "4bd6ac2e",
   "metadata": {},
   "outputs": [],
   "source": [
    "error_readings = 0 #variable to count fetch url errors\n",
    "\n",
    "def scrape_article():\n",
    "    for url in article_urls:\n",
    "        try:\n",
    "            article = Article(url) #pass the url through the Article object\n",
    "            article.download() #download the published article of the url\n",
    "            \n",
    "            #NLP preparation\n",
    "            article.parse() #prepare the article for nlp extractions\n",
    "            article.download('punkt') #download 'punkt' to enable tokenization\n",
    "            article.nlp() #enable Natural Language Processing\n",
    "            \n",
    "            #Extract html text\n",
    "            html = requests.get(url).text\n",
    "            text = fulltext(html)\n",
    "            \n",
    "            output = [article.title,article.authors,url,text,article.summary,article.keywords,article.publish_date]\n",
    "            output_data.append(output)\n",
    "        except:\n",
    "            error_readings += 1\n",
    "\n",
    "\n",
    "scrape_article()       "
   ]
  },
  {
   "cell_type": "code",
   "execution_count": 17,
   "id": "62b92846",
   "metadata": {},
   "outputs": [
    {
     "data": {
      "text/plain": [
       "148"
      ]
     },
     "execution_count": 17,
     "metadata": {},
     "output_type": "execute_result"
    }
   ],
   "source": [
    "len(output_data)"
   ]
  },
  {
   "cell_type": "code",
   "execution_count": 18,
   "id": "a50db5b5",
   "metadata": {},
   "outputs": [
    {
     "data": {
      "text/plain": [
       "0"
      ]
     },
     "execution_count": 18,
     "metadata": {},
     "output_type": "execute_result"
    }
   ],
   "source": [
    "error_readings"
   ]
  },
  {
   "cell_type": "code",
   "execution_count": 19,
   "id": "a418b6dc",
   "metadata": {},
   "outputs": [],
   "source": [
    "df = pd.DataFrame(output_data)\n",
    "df.columns = [\"title\",\"authors\",\"url\",\"text\",\"summary\",\"keywords\",\"publish_date\"]"
   ]
  },
  {
   "cell_type": "code",
   "execution_count": 20,
   "id": "d6f78e4f",
   "metadata": {},
   "outputs": [
    {
     "data": {
      "text/html": [
       "<div>\n",
       "<style scoped>\n",
       "    .dataframe tbody tr th:only-of-type {\n",
       "        vertical-align: middle;\n",
       "    }\n",
       "\n",
       "    .dataframe tbody tr th {\n",
       "        vertical-align: top;\n",
       "    }\n",
       "\n",
       "    .dataframe thead th {\n",
       "        text-align: right;\n",
       "    }\n",
       "</style>\n",
       "<table border=\"1\" class=\"dataframe\">\n",
       "  <thead>\n",
       "    <tr style=\"text-align: right;\">\n",
       "      <th></th>\n",
       "      <th>title</th>\n",
       "      <th>authors</th>\n",
       "      <th>url</th>\n",
       "      <th>text</th>\n",
       "      <th>summary</th>\n",
       "      <th>keywords</th>\n",
       "      <th>publish_date</th>\n",
       "    </tr>\n",
       "  </thead>\n",
       "  <tbody>\n",
       "    <tr>\n",
       "      <th>0</th>\n",
       "      <td>Introducing the new Guardian app for Android a...</td>\n",
       "      <td>[]</td>\n",
       "      <td>https://www.theguardian.com/mobile/2014/may/29...</td>\n",
       "      <td>As it happens not after it happened\\n\\nGet the...</td>\n",
       "      <td>As it happens not after it happenedGet the lat...</td>\n",
       "      <td>[happenedget, ios, tier, real, happens, premiu...</td>\n",
       "      <td>2014-05-29</td>\n",
       "    </tr>\n",
       "    <tr>\n",
       "      <th>1</th>\n",
       "      <td>Oil and gas firms’ green investments fail to m...</td>\n",
       "      <td>[Damien Gayle]</td>\n",
       "      <td>https://www.theguardian.com/environment/2022/s...</td>\n",
       "      <td>Big oil and gas companies are spending tens of...</td>\n",
       "      <td>Big oil and gas companies are spending tens of...</td>\n",
       "      <td>[study, influencemap, promise, companies, capi...</td>\n",
       "      <td>2022-09-08</td>\n",
       "    </tr>\n",
       "    <tr>\n",
       "      <th>2</th>\n",
       "      <td>UK’s broadband firms set for £1.7bn windfall w...</td>\n",
       "      <td>[Mark Sweney]</td>\n",
       "      <td>https://www.theguardian.com/business/2022/sep/...</td>\n",
       "      <td>The UK’s biggest broadband providers are to be...</td>\n",
       "      <td>The UK’s biggest broadband providers are to be...</td>\n",
       "      <td>[privacy, provider, rises, service, broadband,...</td>\n",
       "      <td>2022-09-07</td>\n",
       "    </tr>\n",
       "    <tr>\n",
       "      <th>3</th>\n",
       "      <td>Shell boss Ben van Beurden prepares to stand d...</td>\n",
       "      <td>[Kalyeena Makortoff]</td>\n",
       "      <td>https://www.theguardian.com/business/2022/sep/...</td>\n",
       "      <td>Shell’s long-serving chief executive, Ben van ...</td>\n",
       "      <td>Shell’s long-serving chief executive, Ben van ...</td>\n",
       "      <td>[van, reports, oil, privacy, shell, energy, pr...</td>\n",
       "      <td>2022-09-02</td>\n",
       "    </tr>\n",
       "    <tr>\n",
       "      <th>4</th>\n",
       "      <td>South African court bans offshore oil and gas ...</td>\n",
       "      <td>[]</td>\n",
       "      <td>https://www.theguardian.com/environment/2022/s...</td>\n",
       "      <td>A South African court has upheld a ban imposed...</td>\n",
       "      <td>A South African court has upheld a ban imposed...</td>\n",
       "      <td>[judgment, marine, gas, energy, sq, african, w...</td>\n",
       "      <td>2022-09-01</td>\n",
       "    </tr>\n",
       "    <tr>\n",
       "      <th>...</th>\n",
       "      <td>...</td>\n",
       "      <td>...</td>\n",
       "      <td>...</td>\n",
       "      <td>...</td>\n",
       "      <td>...</td>\n",
       "      <td>...</td>\n",
       "      <td>...</td>\n",
       "    </tr>\n",
       "    <tr>\n",
       "      <th>143</th>\n",
       "      <td>Acclaimed photographer Roger Bamber – a life i...</td>\n",
       "      <td>[Arnel Hecimovic, Photograph, Roger Bamber Ala...</td>\n",
       "      <td>https://www.theguardian.com/artanddesign/galle...</td>\n",
       "      <td>The photographer Roger Bamber had an unrivalle...</td>\n",
       "      <td>The photographer Roger Bamber had an unrivalle...</td>\n",
       "      <td>[pictures, wealth, work, acclaimed, rupert, te...</td>\n",
       "      <td>2022-09-13</td>\n",
       "    </tr>\n",
       "    <tr>\n",
       "      <th>144</th>\n",
       "      <td>Wacky racing and harvest moon: the weekend’s b...</td>\n",
       "      <td>[Mee-Lai Stone, Photograph, Philippe Lopez Afp...</td>\n",
       "      <td>https://www.theguardian.com/news/gallery/2022/...</td>\n",
       "      <td>Medoc, France Participants take part in the 36...</td>\n",
       "      <td>Medoc, France Participants take part in the 36...</td>\n",
       "      <td>[weekends, place, vineyards, sampling, racing,...</td>\n",
       "      <td>2022-09-11</td>\n",
       "    </tr>\n",
       "    <tr>\n",
       "      <th>145</th>\n",
       "      <td>Marsha Hunt: a life in pictures</td>\n",
       "      <td>[Greg Whitmore, Photograph, Paramount Everett ...</td>\n",
       "      <td>https://www.theguardian.com/film/gallery/2022/...</td>\n",
       "      <td>Filling the back rows of seats, a delegation o...</td>\n",
       "      <td>Filling the back rows of seats, a delegation o...</td>\n",
       "      <td>[pictures, wanted, work, things, wearing, stri...</td>\n",
       "      <td>2022-09-12</td>\n",
       "    </tr>\n",
       "    <tr>\n",
       "      <th>146</th>\n",
       "      <td>The Queen’s coffin in Scotland and the King’s ...</td>\n",
       "      <td>[Mee-Lai Stone, Photograph, Jeff J Mitchell Ge...</td>\n",
       "      <td>https://www.theguardian.com/uk-news/gallery/20...</td>\n",
       "      <td>A battalion of the Royal Welsh, supported by t...</td>\n",
       "      <td>A battalion of the Royal Welsh, supported by t...</td>\n",
       "      <td>[coffin, pictures, molly, darlingtonreuters, p...</td>\n",
       "      <td>2022-09-11</td>\n",
       "    </tr>\n",
       "    <tr>\n",
       "      <th>147</th>\n",
       "      <td>Saudi Arabia: man arrested after Mecca pilgrim...</td>\n",
       "      <td>[]</td>\n",
       "      <td>https://www.theguardian.com/world/2022/sep/13/...</td>\n",
       "      <td>Saudi authorities have arrested a man who clai...</td>\n",
       "      <td>Saudi authorities have arrested a man who clai...</td>\n",
       "      <td>[mosque, media, privacy, grand, umrah, man, me...</td>\n",
       "      <td>2022-09-13</td>\n",
       "    </tr>\n",
       "  </tbody>\n",
       "</table>\n",
       "<p>148 rows × 7 columns</p>\n",
       "</div>"
      ],
      "text/plain": [
       "                                                 title  \\\n",
       "0    Introducing the new Guardian app for Android a...   \n",
       "1    Oil and gas firms’ green investments fail to m...   \n",
       "2    UK’s broadband firms set for £1.7bn windfall w...   \n",
       "3    Shell boss Ben van Beurden prepares to stand d...   \n",
       "4    South African court bans offshore oil and gas ...   \n",
       "..                                                 ...   \n",
       "143  Acclaimed photographer Roger Bamber – a life i...   \n",
       "144  Wacky racing and harvest moon: the weekend’s b...   \n",
       "145                    Marsha Hunt: a life in pictures   \n",
       "146  The Queen’s coffin in Scotland and the King’s ...   \n",
       "147  Saudi Arabia: man arrested after Mecca pilgrim...   \n",
       "\n",
       "                                               authors  \\\n",
       "0                                                   []   \n",
       "1                                       [Damien Gayle]   \n",
       "2                                        [Mark Sweney]   \n",
       "3                                 [Kalyeena Makortoff]   \n",
       "4                                                   []   \n",
       "..                                                 ...   \n",
       "143  [Arnel Hecimovic, Photograph, Roger Bamber Ala...   \n",
       "144  [Mee-Lai Stone, Photograph, Philippe Lopez Afp...   \n",
       "145  [Greg Whitmore, Photograph, Paramount Everett ...   \n",
       "146  [Mee-Lai Stone, Photograph, Jeff J Mitchell Ge...   \n",
       "147                                                 []   \n",
       "\n",
       "                                                   url  \\\n",
       "0    https://www.theguardian.com/mobile/2014/may/29...   \n",
       "1    https://www.theguardian.com/environment/2022/s...   \n",
       "2    https://www.theguardian.com/business/2022/sep/...   \n",
       "3    https://www.theguardian.com/business/2022/sep/...   \n",
       "4    https://www.theguardian.com/environment/2022/s...   \n",
       "..                                                 ...   \n",
       "143  https://www.theguardian.com/artanddesign/galle...   \n",
       "144  https://www.theguardian.com/news/gallery/2022/...   \n",
       "145  https://www.theguardian.com/film/gallery/2022/...   \n",
       "146  https://www.theguardian.com/uk-news/gallery/20...   \n",
       "147  https://www.theguardian.com/world/2022/sep/13/...   \n",
       "\n",
       "                                                  text  \\\n",
       "0    As it happens not after it happened\\n\\nGet the...   \n",
       "1    Big oil and gas companies are spending tens of...   \n",
       "2    The UK’s biggest broadband providers are to be...   \n",
       "3    Shell’s long-serving chief executive, Ben van ...   \n",
       "4    A South African court has upheld a ban imposed...   \n",
       "..                                                 ...   \n",
       "143  The photographer Roger Bamber had an unrivalle...   \n",
       "144  Medoc, France Participants take part in the 36...   \n",
       "145  Filling the back rows of seats, a delegation o...   \n",
       "146  A battalion of the Royal Welsh, supported by t...   \n",
       "147  Saudi authorities have arrested a man who clai...   \n",
       "\n",
       "                                               summary  \\\n",
       "0    As it happens not after it happenedGet the lat...   \n",
       "1    Big oil and gas companies are spending tens of...   \n",
       "2    The UK’s biggest broadband providers are to be...   \n",
       "3    Shell’s long-serving chief executive, Ben van ...   \n",
       "4    A South African court has upheld a ban imposed...   \n",
       "..                                                 ...   \n",
       "143  The photographer Roger Bamber had an unrivalle...   \n",
       "144  Medoc, France Participants take part in the 36...   \n",
       "145  Filling the back rows of seats, a delegation o...   \n",
       "146  A battalion of the Royal Welsh, supported by t...   \n",
       "147  Saudi authorities have arrested a man who clai...   \n",
       "\n",
       "                                              keywords publish_date  \n",
       "0    [happenedget, ios, tier, real, happens, premiu...   2014-05-29  \n",
       "1    [study, influencemap, promise, companies, capi...   2022-09-08  \n",
       "2    [privacy, provider, rises, service, broadband,...   2022-09-07  \n",
       "3    [van, reports, oil, privacy, shell, energy, pr...   2022-09-02  \n",
       "4    [judgment, marine, gas, energy, sq, african, w...   2022-09-01  \n",
       "..                                                 ...          ...  \n",
       "143  [pictures, wealth, work, acclaimed, rupert, te...   2022-09-13  \n",
       "144  [weekends, place, vineyards, sampling, racing,...   2022-09-11  \n",
       "145  [pictures, wanted, work, things, wearing, stri...   2022-09-12  \n",
       "146  [coffin, pictures, molly, darlingtonreuters, p...   2022-09-11  \n",
       "147  [mosque, media, privacy, grand, umrah, man, me...   2022-09-13  \n",
       "\n",
       "[148 rows x 7 columns]"
      ]
     },
     "execution_count": 20,
     "metadata": {},
     "output_type": "execute_result"
    }
   ],
   "source": [
    "df"
   ]
  },
  {
   "cell_type": "code",
   "execution_count": null,
   "id": "3ed739fa",
   "metadata": {},
   "outputs": [],
   "source": []
  }
 ],
 "metadata": {
  "kernelspec": {
   "display_name": "Python 3 (ipykernel)",
   "language": "python",
   "name": "python3"
  },
  "language_info": {
   "codemirror_mode": {
    "name": "ipython",
    "version": 3
   },
   "file_extension": ".py",
   "mimetype": "text/x-python",
   "name": "python",
   "nbconvert_exporter": "python",
   "pygments_lexer": "ipython3",
   "version": "3.9.7"
  }
 },
 "nbformat": 4,
 "nbformat_minor": 5
}
