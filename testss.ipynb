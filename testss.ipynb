{
 "cells": [
  {
   "cell_type": "code",
   "execution_count": 1,
   "metadata": {},
   "outputs": [],
   "source": [
    "from allennlp.predictors.predictor import Predictor\n",
    "import numpy as np\n",
    "from scipy import stats\n",
    "import pandas as pd"
   ]
  },
  {
   "cell_type": "code",
   "execution_count": 2,
   "metadata": {},
   "outputs": [],
   "source": [
    "train = pd.read_csv('train.csv')"
   ]
  },
  {
   "cell_type": "code",
   "execution_count": 3,
   "metadata": {},
   "outputs": [
    {
     "data": {
      "text/html": [
       "<div>\n",
       "<style scoped>\n",
       "    .dataframe tbody tr th:only-of-type {\n",
       "        vertical-align: middle;\n",
       "    }\n",
       "\n",
       "    .dataframe tbody tr th {\n",
       "        vertical-align: top;\n",
       "    }\n",
       "\n",
       "    .dataframe thead th {\n",
       "        text-align: right;\n",
       "    }\n",
       "</style>\n",
       "<table border=\"1\" class=\"dataframe\">\n",
       "  <thead>\n",
       "    <tr style=\"text-align: right;\">\n",
       "      <th></th>\n",
       "      <th>doi</th>\n",
       "      <th>text_id</th>\n",
       "      <th>text</th>\n",
       "      <th>sdg</th>\n",
       "      <th>labels_negative</th>\n",
       "      <th>labels_positive</th>\n",
       "      <th>agreement</th>\n",
       "      <th>id</th>\n",
       "    </tr>\n",
       "  </thead>\n",
       "  <tbody>\n",
       "    <tr>\n",
       "      <th>0</th>\n",
       "      <td>10.18356/5950d914-en</td>\n",
       "      <td>bf7763beb5ad7a16764d1b7fa87ab018</td>\n",
       "      <td>Indicators for targets 9.b and 9.c have data a...</td>\n",
       "      <td>9</td>\n",
       "      <td>4</td>\n",
       "      <td>5</td>\n",
       "      <td>0.111111</td>\n",
       "      <td>1</td>\n",
       "    </tr>\n",
       "    <tr>\n",
       "      <th>1</th>\n",
       "      <td>10.18356/5950d914-en</td>\n",
       "      <td>b6415a528064b85fdde4b4c61239ed3a</td>\n",
       "      <td>Manufacturing value added as a percentage of G...</td>\n",
       "      <td>9</td>\n",
       "      <td>0</td>\n",
       "      <td>3</td>\n",
       "      <td>1.000000</td>\n",
       "      <td>2</td>\n",
       "    </tr>\n",
       "    <tr>\n",
       "      <th>2</th>\n",
       "      <td>10.18356/31959a6d-en</td>\n",
       "      <td>29127def7e81b999b87c8e887a4fe882</td>\n",
       "      <td>To Share or Not to Share: That is the Question...</td>\n",
       "      <td>5</td>\n",
       "      <td>2</td>\n",
       "      <td>7</td>\n",
       "      <td>0.555556</td>\n",
       "      <td>3</td>\n",
       "    </tr>\n",
       "    <tr>\n",
       "      <th>3</th>\n",
       "      <td>10.1787/eco/surveys-cze-2014-6-en</td>\n",
       "      <td>459db322b9e44630320fda76783e0f69</td>\n",
       "      <td>As of 2004, parents can work without losing th...</td>\n",
       "      <td>4</td>\n",
       "      <td>2</td>\n",
       "      <td>2</td>\n",
       "      <td>0.000000</td>\n",
       "      <td>4</td>\n",
       "    </tr>\n",
       "    <tr>\n",
       "      <th>4</th>\n",
       "      <td>10.1787/9789264119536-11-en</td>\n",
       "      <td>8b7d8c6c605fe9695d08ab03d601e0e9</td>\n",
       "      <td>A question of considerable policy relevance is...</td>\n",
       "      <td>10</td>\n",
       "      <td>1</td>\n",
       "      <td>4</td>\n",
       "      <td>0.600000</td>\n",
       "      <td>5</td>\n",
       "    </tr>\n",
       "  </tbody>\n",
       "</table>\n",
       "</div>"
      ],
      "text/plain": [
       "                                 doi                           text_id  \\\n",
       "0               10.18356/5950d914-en  bf7763beb5ad7a16764d1b7fa87ab018   \n",
       "1               10.18356/5950d914-en  b6415a528064b85fdde4b4c61239ed3a   \n",
       "2               10.18356/31959a6d-en  29127def7e81b999b87c8e887a4fe882   \n",
       "3  10.1787/eco/surveys-cze-2014-6-en  459db322b9e44630320fda76783e0f69   \n",
       "4        10.1787/9789264119536-11-en  8b7d8c6c605fe9695d08ab03d601e0e9   \n",
       "\n",
       "                                                text  sdg  labels_negative  \\\n",
       "0  Indicators for targets 9.b and 9.c have data a...    9                4   \n",
       "1  Manufacturing value added as a percentage of G...    9                0   \n",
       "2  To Share or Not to Share: That is the Question...    5                2   \n",
       "3  As of 2004, parents can work without losing th...    4                2   \n",
       "4  A question of considerable policy relevance is...   10                1   \n",
       "\n",
       "   labels_positive  agreement  id  \n",
       "0                5   0.111111   1  \n",
       "1                3   1.000000   2  \n",
       "2                7   0.555556   3  \n",
       "3                2   0.000000   4  \n",
       "4                4   0.600000   5  "
      ]
     },
     "execution_count": 3,
     "metadata": {},
     "output_type": "execute_result"
    }
   ],
   "source": [
    "train.head()"
   ]
  },
  {
   "cell_type": "code",
   "execution_count": 4,
   "metadata": {},
   "outputs": [
    {
     "name": "stderr",
     "output_type": "stream",
     "text": [
      "error loading _jsonnet (this is expected on Windows), treating C:\\Users\\SILAS_~1\\AppData\\Local\\Temp\\tmpnpi5hjyf\\config.json as plain json\n"
     ]
    }
   ],
   "source": [
    "predictor = Predictor.from_path(\"C:/Users/Silas_Dell/Downloads/Compressed/bidaf-elmo.2021-02-11.tar_2.gz\")"
   ]
  },
  {
   "cell_type": "code",
   "execution_count": null,
   "metadata": {},
   "outputs": [],
   "source": []
  },
  {
   "cell_type": "code",
   "execution_count": 5,
   "metadata": {},
   "outputs": [],
   "source": [
    "passage = '''Indicators for targets 9.b and 9.c have data available. Globally, \n",
    "energy efficiency and the use of cleaner fuels and technologies reduced carbon dioxide emissions \n",
    "per unit of value added by 13 per cent between 2000 and 2013. Although expenditure on research and \n",
    "development continues to grow globally, the poorest countries, especially those in Africa, spend a very small \n",
    "proportion of their GDP on such expenditure. In 2013, global investment in research and development stood at $1.7 trillion \n",
    "(purchasing power parity), up from $732 billion in 2000.\n",
    "this is labeled as '''"
   ]
  },
  {
   "cell_type": "code",
   "execution_count": 6,
   "metadata": {},
   "outputs": [],
   "source": [
    "train = train.head(3)"
   ]
  },
  {
   "cell_type": "markdown",
   "metadata": {},
   "source": [
    "### the holy grill"
   ]
  },
  {
   "cell_type": "code",
   "execution_count": 7,
   "metadata": {},
   "outputs": [],
   "source": [
    "result = []\n",
    "for i in range(len(train[\"text\"])):\n",
    "    result.append(predictor.predict(passage=train[\"text\"][i], question=\"numbers?\")[\"best_span_str\"])\n",
    "    \n",
    "    "
   ]
  },
  {
   "cell_type": "code",
   "execution_count": 8,
   "metadata": {},
   "outputs": [],
   "source": [
    "train[\"answers\"]=result"
   ]
  },
  {
   "cell_type": "code",
   "execution_count": 9,
   "metadata": {},
   "outputs": [],
   "source": [
    "def qestions(df,column,question):\n",
    "    result = []\n",
    "    for i in range(len(df[column])):\n",
    "        result.append(predictor.predict(passage=train[column][i], question=question)[\"best_span_str\"])\n",
    "    return result"
   ]
  },
  {
   "cell_type": "code",
   "execution_count": 10,
   "metadata": {},
   "outputs": [
    {
     "data": {
      "text/html": [
       "<div>\n",
       "<style scoped>\n",
       "    .dataframe tbody tr th:only-of-type {\n",
       "        vertical-align: middle;\n",
       "    }\n",
       "\n",
       "    .dataframe tbody tr th {\n",
       "        vertical-align: top;\n",
       "    }\n",
       "\n",
       "    .dataframe thead th {\n",
       "        text-align: right;\n",
       "    }\n",
       "</style>\n",
       "<table border=\"1\" class=\"dataframe\">\n",
       "  <thead>\n",
       "    <tr style=\"text-align: right;\">\n",
       "      <th></th>\n",
       "      <th>doi</th>\n",
       "      <th>text_id</th>\n",
       "      <th>text</th>\n",
       "      <th>sdg</th>\n",
       "      <th>labels_negative</th>\n",
       "      <th>labels_positive</th>\n",
       "      <th>agreement</th>\n",
       "      <th>id</th>\n",
       "      <th>answers</th>\n",
       "    </tr>\n",
       "  </thead>\n",
       "  <tbody>\n",
       "    <tr>\n",
       "      <th>0</th>\n",
       "      <td>10.18356/5950d914-en</td>\n",
       "      <td>bf7763beb5ad7a16764d1b7fa87ab018</td>\n",
       "      <td>Indicators for targets 9.b and 9.c have data a...</td>\n",
       "      <td>9</td>\n",
       "      <td>4</td>\n",
       "      <td>5</td>\n",
       "      <td>0.111111</td>\n",
       "      <td>1</td>\n",
       "      <td>energy efficiency</td>\n",
       "    </tr>\n",
       "    <tr>\n",
       "      <th>1</th>\n",
       "      <td>10.18356/5950d914-en</td>\n",
       "      <td>b6415a528064b85fdde4b4c61239ed3a</td>\n",
       "      <td>Manufacturing value added as a percentage of G...</td>\n",
       "      <td>9</td>\n",
       "      <td>0</td>\n",
       "      <td>3</td>\n",
       "      <td>1.000000</td>\n",
       "      <td>2</td>\n",
       "      <td>Manufacturing</td>\n",
       "    </tr>\n",
       "    <tr>\n",
       "      <th>2</th>\n",
       "      <td>10.18356/31959a6d-en</td>\n",
       "      <td>29127def7e81b999b87c8e887a4fe882</td>\n",
       "      <td>To Share or Not to Share: That is the Question...</td>\n",
       "      <td>5</td>\n",
       "      <td>2</td>\n",
       "      <td>7</td>\n",
       "      <td>0.555556</td>\n",
       "      <td>3</td>\n",
       "      <td>To Share or Not to Share</td>\n",
       "    </tr>\n",
       "  </tbody>\n",
       "</table>\n",
       "</div>"
      ],
      "text/plain": [
       "                    doi                           text_id  \\\n",
       "0  10.18356/5950d914-en  bf7763beb5ad7a16764d1b7fa87ab018   \n",
       "1  10.18356/5950d914-en  b6415a528064b85fdde4b4c61239ed3a   \n",
       "2  10.18356/31959a6d-en  29127def7e81b999b87c8e887a4fe882   \n",
       "\n",
       "                                                text  sdg  labels_negative  \\\n",
       "0  Indicators for targets 9.b and 9.c have data a...    9                4   \n",
       "1  Manufacturing value added as a percentage of G...    9                0   \n",
       "2  To Share or Not to Share: That is the Question...    5                2   \n",
       "\n",
       "   labels_positive  agreement  id                   answers  \n",
       "0                5   0.111111   1         energy efficiency  \n",
       "1                3   1.000000   2             Manufacturing  \n",
       "2                7   0.555556   3  To Share or Not to Share  "
      ]
     },
     "execution_count": 10,
     "metadata": {},
     "output_type": "execute_result"
    }
   ],
   "source": [
    "train[\"answers\"] = qestions(train,column= \"text\", question = \"which technology?\")\n",
    "train"
   ]
  },
  {
   "cell_type": "code",
   "execution_count": 11,
   "metadata": {},
   "outputs": [],
   "source": [
    "result = predictor.predict(passage=passage, question=\"how much was the investment?\")"
   ]
  },
  {
   "cell_type": "code",
   "execution_count": 12,
   "metadata": {},
   "outputs": [
    {
     "data": {
      "text/plain": [
       "'$1.7 trillion'"
      ]
     },
     "execution_count": 12,
     "metadata": {},
     "output_type": "execute_result"
    }
   ],
   "source": [
    "result[\"best_span_str\"]"
   ]
  },
  {
   "cell_type": "code",
   "execution_count": null,
   "metadata": {},
   "outputs": [],
   "source": [
    "def T5sum(train):\n",
    "    result = []\n",
    "    for i in range(len(train[\"text\"])):\n",
    "        result.append(tokenizer.encode(\"summarize: \"+train[\"text\"][i], return_tensors='pt', \n",
    "                                    max_length=tokenizer.model_max_length, \n",
    "                                    truncation=True))\n",
    "    # train[\"tokens_input\"]=result\n",
    "    \n",
    "    \n"
   ]
  }
 ],
 "metadata": {
  "kernelspec": {
   "display_name": "Python 3.10.0 64-bit",
   "language": "python",
   "name": "python3"
  },
  "language_info": {
   "codemirror_mode": {
    "name": "ipython",
    "version": 3
   },
   "file_extension": ".py",
   "mimetype": "text/x-python",
   "name": "python",
   "nbconvert_exporter": "python",
   "pygments_lexer": "ipython3",
   "version": "3.10.0"
  },
  "orig_nbformat": 4,
  "vscode": {
   "interpreter": {
    "hash": "320c1f05b41b6296d6cdeadbc8f37198b22e160db062b16d8b8cc9d95c25d782"
   }
  }
 },
 "nbformat": 4,
 "nbformat_minor": 2
}
