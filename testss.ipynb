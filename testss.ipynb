{
 "cells": [
  {
   "cell_type": "code",
   "execution_count": 2,
   "metadata": {},
   "outputs": [],
   "source": [
    "from allennlp.predictors.predictor import Predictor\n",
    "import numpy as np\n",
    "from scipy import stats\n",
    "import pandas as pd"
   ]
  },
  {
   "cell_type": "code",
   "execution_count": null,
   "metadata": {},
   "outputs": [],
   "source": [
    "train = pd.read_csv('train.csv')"
   ]
  },
  {
   "cell_type": "code",
   "execution_count": null,
   "metadata": {},
   "outputs": [
    {
     "data": {
      "text/html": [
       "<div>\n",
       "<style scoped>\n",
       "    .dataframe tbody tr th:only-of-type {\n",
       "        vertical-align: middle;\n",
       "    }\n",
       "\n",
       "    .dataframe tbody tr th {\n",
       "        vertical-align: top;\n",
       "    }\n",
       "\n",
       "    .dataframe thead th {\n",
       "        text-align: right;\n",
       "    }\n",
       "</style>\n",
       "<table border=\"1\" class=\"dataframe\">\n",
       "  <thead>\n",
       "    <tr style=\"text-align: right;\">\n",
       "      <th></th>\n",
       "      <th>doi</th>\n",
       "      <th>text_id</th>\n",
       "      <th>text</th>\n",
       "      <th>sdg</th>\n",
       "      <th>labels_negative</th>\n",
       "      <th>labels_positive</th>\n",
       "      <th>agreement</th>\n",
       "      <th>id</th>\n",
       "    </tr>\n",
       "  </thead>\n",
       "  <tbody>\n",
       "    <tr>\n",
       "      <th>0</th>\n",
       "      <td>10.18356/5950d914-en</td>\n",
       "      <td>bf7763beb5ad7a16764d1b7fa87ab018</td>\n",
       "      <td>Indicators for targets 9.b and 9.c have data a...</td>\n",
       "      <td>9</td>\n",
       "      <td>4</td>\n",
       "      <td>5</td>\n",
       "      <td>0.111111</td>\n",
       "      <td>1</td>\n",
       "    </tr>\n",
       "    <tr>\n",
       "      <th>1</th>\n",
       "      <td>10.18356/5950d914-en</td>\n",
       "      <td>b6415a528064b85fdde4b4c61239ed3a</td>\n",
       "      <td>Manufacturing value added as a percentage of G...</td>\n",
       "      <td>9</td>\n",
       "      <td>0</td>\n",
       "      <td>3</td>\n",
       "      <td>1.000000</td>\n",
       "      <td>2</td>\n",
       "    </tr>\n",
       "    <tr>\n",
       "      <th>2</th>\n",
       "      <td>10.18356/31959a6d-en</td>\n",
       "      <td>29127def7e81b999b87c8e887a4fe882</td>\n",
       "      <td>To Share or Not to Share: That is the Question...</td>\n",
       "      <td>5</td>\n",
       "      <td>2</td>\n",
       "      <td>7</td>\n",
       "      <td>0.555556</td>\n",
       "      <td>3</td>\n",
       "    </tr>\n",
       "    <tr>\n",
       "      <th>3</th>\n",
       "      <td>10.1787/eco/surveys-cze-2014-6-en</td>\n",
       "      <td>459db322b9e44630320fda76783e0f69</td>\n",
       "      <td>As of 2004, parents can work without losing th...</td>\n",
       "      <td>4</td>\n",
       "      <td>2</td>\n",
       "      <td>2</td>\n",
       "      <td>0.000000</td>\n",
       "      <td>4</td>\n",
       "    </tr>\n",
       "    <tr>\n",
       "      <th>4</th>\n",
       "      <td>10.1787/9789264119536-11-en</td>\n",
       "      <td>8b7d8c6c605fe9695d08ab03d601e0e9</td>\n",
       "      <td>A question of considerable policy relevance is...</td>\n",
       "      <td>10</td>\n",
       "      <td>1</td>\n",
       "      <td>4</td>\n",
       "      <td>0.600000</td>\n",
       "      <td>5</td>\n",
       "    </tr>\n",
       "  </tbody>\n",
       "</table>\n",
       "</div>"
      ],
      "text/plain": [
       "                                 doi                           text_id  \\\n",
       "0               10.18356/5950d914-en  bf7763beb5ad7a16764d1b7fa87ab018   \n",
       "1               10.18356/5950d914-en  b6415a528064b85fdde4b4c61239ed3a   \n",
       "2               10.18356/31959a6d-en  29127def7e81b999b87c8e887a4fe882   \n",
       "3  10.1787/eco/surveys-cze-2014-6-en  459db322b9e44630320fda76783e0f69   \n",
       "4        10.1787/9789264119536-11-en  8b7d8c6c605fe9695d08ab03d601e0e9   \n",
       "\n",
       "                                                text  sdg  labels_negative  \\\n",
       "0  Indicators for targets 9.b and 9.c have data a...    9                4   \n",
       "1  Manufacturing value added as a percentage of G...    9                0   \n",
       "2  To Share or Not to Share: That is the Question...    5                2   \n",
       "3  As of 2004, parents can work without losing th...    4                2   \n",
       "4  A question of considerable policy relevance is...   10                1   \n",
       "\n",
       "   labels_positive  agreement  id  \n",
       "0                5   0.111111   1  \n",
       "1                3   1.000000   2  \n",
       "2                7   0.555556   3  \n",
       "3                2   0.000000   4  \n",
       "4                4   0.600000   5  "
      ]
     },
     "execution_count": 3,
     "metadata": {},
     "output_type": "execute_result"
    }
   ],
   "source": [
    "train.head()"
   ]
  },
  {
   "cell_type": "code",
   "execution_count": 3,
   "metadata": {},
   "outputs": [
    {
     "name": "stderr",
     "output_type": "stream",
     "text": [
      "error loading _jsonnet (this is expected on Windows), treating C:\\Users\\SILAS_~1\\AppData\\Local\\Temp\\tmpbs1dv9nc\\config.json as plain json\n"
     ]
    }
   ],
   "source": [
    "predictor = Predictor.from_path(\"C:/Users/Silas_Dell/Downloads/Compressed/bidaf-elmo.2021-02-11.tar_2.gz\")"
   ]
  },
  {
   "cell_type": "code",
   "execution_count": null,
   "metadata": {},
   "outputs": [],
   "source": []
  },
  {
   "cell_type": "code",
   "execution_count": 4,
   "metadata": {},
   "outputs": [],
   "source": [
    "passage = '''TODAY it is God’s will that the good news of the Kingdom be preached in all the earth. (Mark 13:10; 1 Tim. 2:3, 4) This is Jehovah’s work, and it is so important that he has placed it under the direction of his beloved Son. We can be sure that under Jesus’ capable oversight, the preaching work will be completed to Jehovah’s \n",
    "satisfaction before the end comes.​—Matt. 24:14.'''"
   ]
  },
  {
   "cell_type": "code",
   "execution_count": null,
   "metadata": {},
   "outputs": [],
   "source": [
    "train = train.head(3)"
   ]
  },
  {
   "cell_type": "markdown",
   "metadata": {},
   "source": [
    "### the holy grill"
   ]
  },
  {
   "cell_type": "code",
   "execution_count": null,
   "metadata": {},
   "outputs": [],
   "source": [
    "result = []\n",
    "for i in range(len(train[\"text\"])):\n",
    "    result.append(predictor.predict(passage=train[\"text\"][i], question=\"numbers?\")[\"best_span_str\"])\n",
    "    \n",
    "    "
   ]
  },
  {
   "cell_type": "code",
   "execution_count": null,
   "metadata": {},
   "outputs": [],
   "source": [
    "train[\"answers\"]=result"
   ]
  },
  {
   "cell_type": "code",
   "execution_count": null,
   "metadata": {},
   "outputs": [],
   "source": [
    "def qestions(df,column,question):\n",
    "    result = []\n",
    "    for i in range(len(df[column])):\n",
    "        result.append(predictor.predict(passage=train[column][i], question=question)[\"best_span_str\"])\n",
    "    return result"
   ]
  },
  {
   "cell_type": "code",
   "execution_count": null,
   "metadata": {},
   "outputs": [
    {
     "data": {
      "text/html": [
       "<div>\n",
       "<style scoped>\n",
       "    .dataframe tbody tr th:only-of-type {\n",
       "        vertical-align: middle;\n",
       "    }\n",
       "\n",
       "    .dataframe tbody tr th {\n",
       "        vertical-align: top;\n",
       "    }\n",
       "\n",
       "    .dataframe thead th {\n",
       "        text-align: right;\n",
       "    }\n",
       "</style>\n",
       "<table border=\"1\" class=\"dataframe\">\n",
       "  <thead>\n",
       "    <tr style=\"text-align: right;\">\n",
       "      <th></th>\n",
       "      <th>doi</th>\n",
       "      <th>text_id</th>\n",
       "      <th>text</th>\n",
       "      <th>sdg</th>\n",
       "      <th>labels_negative</th>\n",
       "      <th>labels_positive</th>\n",
       "      <th>agreement</th>\n",
       "      <th>id</th>\n",
       "      <th>answers</th>\n",
       "    </tr>\n",
       "  </thead>\n",
       "  <tbody>\n",
       "    <tr>\n",
       "      <th>0</th>\n",
       "      <td>10.18356/5950d914-en</td>\n",
       "      <td>bf7763beb5ad7a16764d1b7fa87ab018</td>\n",
       "      <td>Indicators for targets 9.b and 9.c have data a...</td>\n",
       "      <td>9</td>\n",
       "      <td>4</td>\n",
       "      <td>5</td>\n",
       "      <td>0.111111</td>\n",
       "      <td>1</td>\n",
       "      <td>energy efficiency</td>\n",
       "    </tr>\n",
       "    <tr>\n",
       "      <th>1</th>\n",
       "      <td>10.18356/5950d914-en</td>\n",
       "      <td>b6415a528064b85fdde4b4c61239ed3a</td>\n",
       "      <td>Manufacturing value added as a percentage of G...</td>\n",
       "      <td>9</td>\n",
       "      <td>0</td>\n",
       "      <td>3</td>\n",
       "      <td>1.000000</td>\n",
       "      <td>2</td>\n",
       "      <td>Manufacturing</td>\n",
       "    </tr>\n",
       "    <tr>\n",
       "      <th>2</th>\n",
       "      <td>10.18356/31959a6d-en</td>\n",
       "      <td>29127def7e81b999b87c8e887a4fe882</td>\n",
       "      <td>To Share or Not to Share: That is the Question...</td>\n",
       "      <td>5</td>\n",
       "      <td>2</td>\n",
       "      <td>7</td>\n",
       "      <td>0.555556</td>\n",
       "      <td>3</td>\n",
       "      <td>To Share or Not to Share</td>\n",
       "    </tr>\n",
       "  </tbody>\n",
       "</table>\n",
       "</div>"
      ],
      "text/plain": [
       "                    doi                           text_id  \\\n",
       "0  10.18356/5950d914-en  bf7763beb5ad7a16764d1b7fa87ab018   \n",
       "1  10.18356/5950d914-en  b6415a528064b85fdde4b4c61239ed3a   \n",
       "2  10.18356/31959a6d-en  29127def7e81b999b87c8e887a4fe882   \n",
       "\n",
       "                                                text  sdg  labels_negative  \\\n",
       "0  Indicators for targets 9.b and 9.c have data a...    9                4   \n",
       "1  Manufacturing value added as a percentage of G...    9                0   \n",
       "2  To Share or Not to Share: That is the Question...    5                2   \n",
       "\n",
       "   labels_positive  agreement  id                   answers  \n",
       "0                5   0.111111   1         energy efficiency  \n",
       "1                3   1.000000   2             Manufacturing  \n",
       "2                7   0.555556   3  To Share or Not to Share  "
      ]
     },
     "execution_count": 10,
     "metadata": {},
     "output_type": "execute_result"
    }
   ],
   "source": [
    "train[\"answers\"] = qestions(train,column= \"text\", question = \"What is Jehovah’s will today?\")\n",
    "train"
   ]
  },
  {
   "cell_type": "code",
   "execution_count": 25,
   "metadata": {},
   "outputs": [],
   "source": [
    "passage = '''TODAY it is God’s will that the good news of the Kingdom be preached in all the earth. (Mark 13:10; 1 Tim. 2:3, 4) This is Jehovah’s work, and it is so important that he has placed it under the direction of his beloved Son. We can be sure that under Jesus’ capable oversight, the preaching work will be completed to Jehovah’s satisfaction before the end comes.​\n",
    " In this article, we will see how Jesus is using his “faithful and discreet slave” to provide spiritual food and to organize his followers for the greatest preaching campaign in history. (Matt. 24:45) We will also see what each one of us can do to support Jesus and the faithful slave.\n",
    "  Jesus is overseeing the preaching work. How can we be sure of that? Shortly before he ascended to heaven, Jesus met with a number of his faithful followers on a mountain in Galilee. He told them: “All authority has been given me in heaven and on the earth.” Note his very next statement: “Go, therefore, and make disciples of people of all the nations.” (Matt. 28:18, 19) So, among other things, Jesus has been given the authority to direct the preaching work.\n",
    "  Jesus stated that the preaching and disciple-making work would be accomplished in “all the nations” and that he would be with his followers “all the days until the conclusion of the system of things.” (Matt. 28:20) Those statements clearly indicate that the preaching work would continue under Jesus’ supervision right down to our day.\n",
    "  Jesus was not worried that there would be a shortage of workers during the conclusion of the system of things. He knew that the prophetic words of the psalmist would be fulfilled: “Your people will offer themselves willingly on the day of your military force.” (Ps. 110:3) If you are sharing in the preaching work, you are supporting Jesus and the faithful slave and are helping to fulfill that prophecy. The work is going ahead, but there are challenges.\n",
    "  One challenge that Kingdom preachers face is opposition. Apostates, \n",
    "  religious leaders, and politicians have given many the wrong impression about\n",
    "   our work. If our relatives, acquaintances, and workmates are misled by this \n",
    "   propaganda, they may pressure us to stop serving Jehovah and to stop preaching.\n",
    "    In some countries, the opposition takes the form of intimidation, threats, \n",
    "    arrests, and even imprisonment. We are not surprised at this reaction. \n",
    "    Jesus foretold: “You will be hated by all the nations on account of my name.” \n",
    "    (Matt. 24:9) The very fact that we are experiencing such hatred is proof that \n",
    "    we have Jehovah’s approval. (Matt. 5:11, 12) The Devil is behind this \n",
    "    opposition. But he is no match for Jesus! With Jesus’ support, the good news\n",
    "     is reaching people of all nations. Consider the evidence.\n",
    "  '''"
   ]
  },
  {
   "cell_type": "code",
   "execution_count": 26,
   "metadata": {},
   "outputs": [],
   "source": [
    "result = predictor.predict(passage=passage, question=\"What is one challenge that Kingdom preachers face today?\")"
   ]
  },
  {
   "cell_type": "code",
   "execution_count": 27,
   "metadata": {},
   "outputs": [
    {
     "data": {
      "text/plain": [
       "'opposition'"
      ]
     },
     "execution_count": 27,
     "metadata": {},
     "output_type": "execute_result"
    }
   ],
   "source": [
    "result[\"best_span_str\"]"
   ]
  },
  {
   "cell_type": "code",
   "execution_count": null,
   "metadata": {},
   "outputs": [],
   "source": [
    "def dummy_node(data: DataFrame) -> DataFrame:\n",
    "    \"\"\"Dummy node to read data\n",
    "\n",
    "    Args:\n",
    "        data: Data containing features and target.\n",
    "    Returns:\n",
    "        data.\n",
    "    \"\"\"\n",
    "\n",
    "\n",
    "    return data"
   ]
  }
 ],
 "metadata": {
  "kernelspec": {
   "display_name": "Python 3.10.0 64-bit",
   "language": "python",
   "name": "python3"
  },
  "language_info": {
   "codemirror_mode": {
    "name": "ipython",
    "version": 3
   },
   "file_extension": ".py",
   "mimetype": "text/x-python",
   "name": "python",
   "nbconvert_exporter": "python",
   "pygments_lexer": "ipython3",
   "version": "3.10.0"
  },
  "orig_nbformat": 4,
  "vscode": {
   "interpreter": {
    "hash": "320c1f05b41b6296d6cdeadbc8f37198b22e160db062b16d8b8cc9d95c25d782"
   }
  }
 },
 "nbformat": 4,
 "nbformat_minor": 2
}
