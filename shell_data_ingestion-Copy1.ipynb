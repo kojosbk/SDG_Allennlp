{
 "cells": [
  {
   "cell_type": "code",
   "execution_count": 72,
   "id": "02956209",
   "metadata": {},
   "outputs": [],
   "source": [
    "#Do not run, except you want to reset the list\n",
    "\n",
    "article_urls = []"
   ]
  },
  {
   "cell_type": "code",
   "execution_count": 2,
   "id": "1db4f276",
   "metadata": {},
   "outputs": [],
   "source": [
    "#IMPORT DEPENDENCIES\n",
    "\n",
    "import newspaper\n",
    "from newspaper import Article\n",
    "from newspaper import fulltext\n",
    "import nltk\n",
    "\n",
    "import requests\n",
    "import re\n",
    "\n",
    "import csv\n",
    "\n",
    "import pandas as pd\n",
    "import numpy as np\n",
    "\n",
    "from time import time\n",
    "from urllib.request import urlopen\n",
    "\n",
    "from pyspark import SparkContext\n",
    "from pyspark.sql import SparkSession"
   ]
  },
  {
   "cell_type": "code",
   "execution_count": 3,
   "id": "c4c86f79",
   "metadata": {},
   "outputs": [],
   "source": [
    "try:\n",
    "    sc = SparkContext.getOrCreate()\n",
    "    spark = SparkSession(sc)\n",
    "except:\n",
    "    pass"
   ]
  },
  {
   "cell_type": "code",
   "execution_count": 73,
   "id": "e77437ce",
   "metadata": {},
   "outputs": [],
   "source": [
    "shell_search_webpages = [\n",
    "                   'https://www.theguardian.com/',\n",
    "                   'https://www.newsnow.co.uk/',\n",
    "\n",
    "\n",
    "                  ]\n",
    "\n"
   ]
  },
  {
   "cell_type": "code",
   "execution_count": 74,
   "id": "abbdde80",
   "metadata": {},
   "outputs": [],
   "source": [
    "#Extract individual urls in the wepage and append them to the article_urls list\n",
    "#if \"active_url\" block was reset--in the first code block,un-comment the \"memoize_articles\" to prevent caching\n",
    "\n",
    "def fetch_links(webpage):\n",
    "    for webpage in webpage:\n",
    "        news_portal = newspaper.build(webpage,memoize_articles=False)\n",
    "        for article in news_portal.articles:\n",
    "            article_urls.append(article.url) \n",
    "            "
   ]
  },
  {
   "cell_type": "code",
   "execution_count": 75,
   "id": "197874b4",
   "metadata": {},
   "outputs": [],
   "source": [
    "fetch_links(shell_search_webpages)"
   ]
  },
  {
   "cell_type": "code",
   "execution_count": 76,
   "id": "f563b760",
   "metadata": {},
   "outputs": [
    {
     "data": {
      "text/plain": [
       "180"
      ]
     },
     "execution_count": 76,
     "metadata": {},
     "output_type": "execute_result"
    }
   ],
   "source": [
    "len(article_urls)"
   ]
  },
  {
   "cell_type": "code",
   "execution_count": 27,
   "id": "4bf8be6b",
   "metadata": {},
   "outputs": [
    {
     "name": "stdout",
     "output_type": "stream",
     "text": [
      "['https://www.theguardian.com/mobile/2014/may/29/the-guardian-for-mobile-and-tablet', 'https://www.theguardian.com/world/live/2022/sep/16/russia-ukraine-war-zelenskiy-compares-scenes-in-izium-to-bucha-massacre-live-updates', 'https://www.theguardian.com/world/2022/sep/16/ukraine-mass-grave-with-440-bodies-discovered-in-recaptured-izium-says-police-chief', 'https://www.theguardian.com/us-news/2022/sep/15/judge-raymond-drearie-trump-special-master-records-case', 'https://www.theguardian.com/uk-news/live/2022/sep/16/queen-elizabeth-ii-lying-in-state-westminster-hall-king-charles-iii-mourners-queue-london-live-news-latest-updates', 'https://www.theguardian.com/uk-news/2022/sep/16/welsh-first-minister-says-people-have-right-to-protest-during-king-charles-visit', 'https://www.theguardian.com/uk-news/2022/sep/16/chinese-delegation-banned-from-queens-lying-in-state', 'https://www.theguardian.com/uk-news/2022/sep/16/eight-of-queens-grandchildren-to-stand-vigil-prince-william-harry', 'https://www.theguardian.com/film/2022/sep/16/anne-heche-memoir-call-me-anne-release-date-january-2023', 'https://www.theguardian.com/business/2022/sep/16/world-bank-warns-higher-interest-rates-could-trigger-global-recession', 'https://www.theguardian.com/business/live/2022/sep/16/british-retail-sales-fall-more-sharply-expected-world-bank-warns-global-recession-business-live', 'https://www.theguardian.com/us-news/2022/sep/16/midterms-crime-fox-news-tucker-carlson-republicans-abortion', 'https://www.theguardian.com/technology/2022/sep/15/uber-computer-network-hack-report', 'https://www.theguardian.com/world/2022/sep/16/mexican-general-arrested-over-disappearance-of-43-students-in-2014', 'https://www.theguardian.com/world/2022/sep/16/son-of-fijian-prime-minister-faces-nsw-court-on-domestic-violence-related-charges', 'https://www.theguardian.com/world/2022/sep/16/zambia-debt-lenders-urged-to-cancel', 'https://www.theguardian.com/us-news/2022/sep/15/us-arms-package-ukraine-russia-invasion-aid', 'https://www.theguardian.com/world/2022/sep/16/germany-takes-subsidiary-of-russian-oil-giant-rosneft-under-state-control', 'https://www.theguardian.com/world/2022/sep/16/russia-ukraine-war-latest-what-we-know-on-day-205-of-the-invasion', 'https://www.theguardian.com/world/2022/sep/15/ukraine-kryvyi-rih-russian-missiles-strike-zelenskiy-von-der-leyen', 'https://www.theguardian.com/film/2022/sep/16/i-want-my-work-to-be-invisible-hollywoods-prosthetics-maestros-share-their-secrets', 'https://www.theguardian.com/music/2022/sep/16/marcus-mumford-i-didnt-just-want-to-hang-traumatic-stuff-out-there-and-trigger-people', 'https://www.theguardian.com/lifeandstyle/2022/sep/16/you-be-the-judge-should-my-influencer-flatmate-stop-filling-our-flat-with-freebies', 'https://www.theguardian.com/sport/2022/sep/16/roger-federer-tennis-greatest-shots-career-highlights', 'https://www.theguardian.com/lifeandstyle/2022/sep/16/experience-i-am-a-trauma-scene-cleaner', 'https://www.theguardian.com/world/2022/sep/16/when-mourning-ends-reality-will-hit-hard-european-journalists-on-britains-mood', 'https://www.theguardian.com/us-news/2022/sep/16/anduril-towers-surveillance-us-mexico-border-migrants', 'https://www.theguardian.com/lifeandstyle/2022/sep/16/i-feel-smothered-by-messages-my-partner-says-she-misses-me-but-its-only-been-four-hours', 'https://www.theguardian.com/environment/2022/sep/16/weather-tracker-typhoon-muifa-wreaks-havoc-in-china-after-summer-of-records', 'https://www.theguardian.com/environment/2022/sep/16/extreme-hunger-soaring-in-worlds-climate-hotspots-says-oxfam', 'https://www.theguardian.com/environment/2022/sep/15/pakistan-floods-made-up-to-50-worse-by-global-heating', 'https://www.theguardian.com/environment/2022/sep/15/ocean-conservancy-ngo-retracts-2015-waste-colonialism-report-blaming-five-asian-countries-for-most-plastic-pollution', 'https://www.theguardian.com/commentisfree/2022/sep/16/king-charles-government-hereditary-monarchy-survival', 'https://www.theguardian.com/commentisfree/2022/sep/16/liz-truss-bankers-bonuses-labour-champagne', 'https://www.theguardian.com/commentisfree/2022/sep/15/putin-balkans-war-ukraine-russia-serbian', 'https://www.theguardian.com/commentisfree/2022/sep/15/far-right-sweden-intolerance-liberalism-election-results', 'https://www.theguardian.com/commentisfree/2022/sep/15/dissenting-voices-royal-mourning-queen-silenced-cancel-culture', 'https://www.theguardian.com/commentisfree/2022/sep/15/republicans-wont-stop-until-abortion-is-banned-across-america-and-it-could-be', 'https://www.theguardian.com/sport/blog/2022/sep/15/farewell-roger-federer-greatest-player-era-tennis-greats', 'https://www.theguardian.com/sport/2022/sep/15/a-gamechanger-and-a-gentleman-roger-federer-finally-calls-time', 'https://www.theguardian.com/sport/2022/sep/15/a-champions-champion-fellow-players-and-athletes-pay-tribute-to-roger-federer', 'https://www.theguardian.com/football/live/2022/sep/16/wsl-kicks-off-premier-league-resumes-and-more-football-countdown-live', 'https://www.theguardian.com/football/2022/sep/15/toppling-chelsea-wsl-tough-arsenal-manchester-city', 'https://www.theguardian.com/sport/2022/sep/15/harsh-refereeing-steals-wallabies-victory-and-masks-all-blacks-opportune-weakness', 'https://www.theguardian.com/sport/2022/sep/15/controversy-reigns-as-all-blacks-bury-wallabies-bledisloe-cup-hopes', 'https://www.theguardian.com/football/blog/2022/sep/16/premier-league-10-things-to-look-out-for-this-weekend', 'https://www.theguardian.com/football/2022/sep/15/the-fiver-erling-haaland-goals-pastiche', 'https://www.theguardian.com/football/2022/sep/15/ronaldo-off-the-mark-with-a-penalty-in-manchester-uniteds-win-over-sheriff-tiraspol', 'https://www.theguardian.com/sport/2022/sep/16/chess-firouzja-sweeps-grand-tour-while-carlsen-v-niemann-saga-continues', 'https://www.theguardian.com/sport/2022/sep/15/chiefs-chargers-jaylen-watson-pick-six-thursday-night-football-justin-herbert-injury-nfl-football', 'https://www.theguardian.com/sport/2022/sep/15/dunkley-and-capsey-steer-england-to-t20-series-win-over-india', 'https://www.theguardian.com/world/2022/sep/15/hungary-is-no-longer-a-full-democracy-says-european-parliament', 'https://www.theguardian.com/us-news/2022/sep/16/columbia-whistleblower-us-news-rankings-michael-thaddeus', 'https://www.theguardian.com/world/2022/sep/16/new-zealand-suitcase-murders-south-korea-suspect-denies-charges', 'https://www.theguardian.com/us-news/2022/sep/15/biden-united-we-stand-summit-innitiatives', 'https://www.theguardian.com/politics/2022/sep/15/uk-to-unilaterally-continue-suspending-northern-ireland-border-checks', 'https://www.theguardian.com/science/2022/sep/15/saturns-rings-the-remnants-of-a-moon-that-strayed-too-close-say-scientists', 'https://www.theguardian.com/world/2022/sep/16/rate-of-sea-level-rise-around-new-zealand-doubles-in-past-60-years', 'https://www.theguardian.com/australia-news/2022/sep/16/julia-gillard-says-australia-will-ultimately-become-republic-after-death-of-queen-elizabeth-ii', 'https://www.theguardian.com/us-news/2022/sep/15/jeffrey-epstein-prince-andrew-queen-death', 'https://www.theguardian.com/world/ng-interactive/2022/aug/22/little-warrior-the-boxer-breaking-away-from-venezuelan-poverty-documentary', 'https://www.theguardian.com/help/ng-interactive/2017/mar/17/contact-the-guardian-securely', 'https://www.theguardian.com/tv-and-radio/2022/sep/16/blade-runner-2099-provocative-tv-sequel-greenlit-by-amazon', 'https://www.theguardian.com/books/2022/sep/16/the-divider-review-donald-trump-peter-baker-susan-glasser', 'https://www.theguardian.com/books/2022/sep/16/all-the-broken-places-by-john-boyne-review-a-sequel-of-sorts', 'https://www.theguardian.com/books/2022/sep/16/diaghilevs-empire-by-rupert-christiansen-review-brilliance-of-the-ballets-russes', 'https://www.theguardian.com/music/2022/sep/16/hekla-xiuxiuejar-review-reclaiming-the-unique-appeal-of-the-theremin', 'https://www.theguardian.com/film/2022/sep/15/little-mermaid-disney-trailer-culture-war-ariel-black-white', 'https://www.theguardian.com/food/2022/sep/15/i-used-to-cook-in-butter-smeared-chaos-now-im-a-competitive-kitchen-cleaner', 'https://www.theguardian.com/lifeandstyle/2022/sep/15/dining-across-the-divide-out-nicing-a-canadian', 'https://www.theguardian.com/travel/2022/sep/15/its-not-like-anywhere-else-ive-been-to-readers-favourite-cities', 'https://www.theguardian.com/lifeandstyle/2022/sep/15/the-guardian-thursday-quiz-general-knowledge-topical-news-trivia-73', 'https://www.theguardian.com/lifeandstyle/2022/sep/15/it-struck-me-like-a-thunderbolt-how-to-survive-empty-nest-syndrome-and-come-out-smiling', 'https://www.theguardian.com/food/2022/sep/15/korean-hotdogs-k-dogs-sausage-cheese-fast-food', 'https://www.theguardian.com/news/series/the-long-read', 'https://www.theguardian.com/global/2022/sep/15/yvon-chouinard-the-existential-dirtbag-who-founded-and-gifted-patagonia', 'https://www.theguardian.com/artanddesign/2022/sep/15/william-klein-obituary', 'https://www.theguardian.com/technology/2022/sep/15/price-carbon-emissions-ethereum-merge-make-cryptocurrency-greener', 'https://www.theguardian.com/business/2022/sep/15/could-wael-sawan-usher-in-a-renewable-revolution-at-shell', 'https://www.theguardian.com/us-news/2022/sep/15/joshua-tree-housing-real-estate-gentrification', 'https://www.theguardian.com/news/2022/sep/15/farmed-black-children-fostered-white-families-uk', 'https://www.theguardian.com/music/2022/sep/06/post-your-questions-for-paul-heaton-and-jacqui-abbott', 'https://www.theguardian.com/world/2022/may/16/russians-tell-us-what-the-mood-is-like-in-your-country', 'https://www.theguardian.com/world/2022/jan/26/living-in-ukraine-how-have-you-been-affected-by-the-current-situation', 'https://www.theguardian.com/community/2015/sep/02/guardianwitness-send-us-a-story', 'https://www.theguardian.com/news/series/todayinfocus', 'https://www.theguardian.com/news/audio/2022/sep/16/can-the-commonwealth-survive-the-death-of-the-queen', 'https://www.theguardian.com/commentisfree/video/2022/sep/15/i-care-but-i-dont-care-what-people-really-think-about-life-after-the-queen-video', 'https://www.theguardian.com/world/video/2022/sep/15/now-is-the-time-to-run-harder-end-of-covid-pandemic-in-sight-says-who-video', 'https://www.theguardian.com/uk-news/video/2022/sep/10/like-part-of-my-britishness-has-gone-the-view-from-londons-streets-as-charles-becomes-king', 'https://www.theguardian.com/uk-news/video/2022/sep/08/queen-elizabeth-ii-in-her-own-words-video-obituary', 'https://www.theguardian.com/uk-news/video/2022/sep/08/remembering-the-queens-great-sense-of-humour-video', 'https://www.theguardian.com/world/video/2022/sep/06/bolsonaro-war-on-the-amazon-examining-evidence-of-crimes-against-indigenous-people-video', 'https://www.theguardian.com/politics/video/2022/sep/06/the-30-hours-that-brought-liz-truss-to-no-10-video-timeline', 'https://www.theguardian.com/world/video/2022/sep/01/the-ukrainians-living-on-a-nuclear-frontline-this-is-inhumanity-video', 'https://www.theguardian.com/world/video/2022/sep/04/plague-proportion-new-zealands-wallaby-hunters-cull-invasive-species-video', 'https://www.theguardian.com/world/video/2022/aug/27/i-count-myself-as-a-black-ukrainian-the-fashion-designer-starting-again-in-budapest-video', 'https://www.theguardian.com/football/video/2022/aug/26/rockets-and-air-raids-how-ukrainian-football-is-rising-from-the-rubble-video', 'https://www.theguardian.com/news/series/ten-best-photographs-of-the-day', 'https://www.theguardian.com/science/gallery/2022/sep/16/astronomy-photographer-of-the-year-2022-winning-images', 'https://www.theguardian.com/artanddesign/gallery/2022/sep/16/viewfinder-photography-from-the-1970s-to-now-in-pictures', 'https://www.theguardian.com/uk-news/2022/sep/16/capturing-the-first-days-of-mourning-for-the-queen-a-photo-essay', 'https://www.theguardian.com/uk-news/gallery/2022/sep/16/we-are-very-much-amused-the-queens-sense-of-humour-in-pictures', 'https://www.theguardian.com/environment/gallery/2022/sep/16/the-week-in-wildlife-in-pictures', 'https://www.theguardian.com/artanddesign/gallery/2022/sep/15/walk-a-day-in-my-shoes-teenage-obesity-in-pictures', 'https://www.theguardian.com/world/2022/sep/16/mohammed-bin-salman-travel-london-to-deliver-condolences', 'https://www.theguardian.com/world/2022/sep/15/putin-thanks-xi-china-balanced-stance-on-ukraine-invasion-russia', 'https://www.theguardian.com/world/2022/sep/15/irish-teacher-jailed-contempt-of-court-after-refusing-student-pronouns', 'https://www.theguardian.com/global/ng-interactive/2022/apr/13/first-edition-sign-up-guardian', 'https://www.theguardian.com/video/all', 'https://www.theguardian.com/politics/video/2022/sep/05/what-is-liz-truss-vision-for-britain-video-explainer', 'https://www.theguardian.com/global/video/2022/aug/22/little-warrior-the-boxer-breaking-away-from-venezuelan-poverty-documentary', 'https://www.theguardian.com/uk-news/video/2022/jul/04/dear-bradford-a-love-letter-to-a-misunderstood-city-documentary', 'https://www.theguardian.com/world/video/2022/jun/22/one-good-song-can-do-more-than-5000-protests-the-queer-revolution-in-the-middle-east', 'https://www.theguardian.com/world/video/2022/may/24/sending-aya-back-the-syrian-teen-facing-deportation-in-denmark-documentary', 'https://www.theguardian.com/world/video/2022/may/16/the-spider-man-of-sudan-the-real-life-superhero-of-the-protest-movement-documentary', 'https://www.theguardian.com/uk-news/video/2022/may/11/made-in-liverpool-this-land-is-our-land-video', 'https://www.theguardian.com/world/video/2022/mar/31/cinema-of-ukraine-artists-reflect-on-modern-history-culture-and-people', 'https://www.theguardian.com/society/video/2022/feb/15/lenka-a-portrait-of-methamphetamine-addiction-in-the-czech-republic-video', 'https://www.theguardian.com/global/video/2022/jan/19/the-black-cop-a-police-officers-story-of-racism-remorse-and-resistance-video', 'https://www.theguardian.com/type/video+tone/news', 'https://www.theguardian.com/politics/video/2022/may/06/labour-celebrates-election-sweep-of-tory-flagship-councils-in-london-video', 'https://www.theguardian.com/politics/video/2022/may/06/tough-losses-for-tories-at-local-elections-says-boris-johnson-video', 'https://www.theguardian.com/world/video/2022/may/04/ukrainian-evacuee-describes-months-horror-inside-azovstal-bunker-video', 'https://www.theguardian.com/us-news/video/2022/may/03/i-am-angry-elizabeth-warren-lambasts-supreme-court-after-draft-abortion-opinion-leak-video', 'https://www.theguardian.com/commentisfree/video/2021/may/11/hands-face-and-empty-space-where-covid-has-left-politics-video', 'https://www.theguardian.com/commentisfree/video/2020/sep/22/from-mary-whitehouse-to-the-proms-owen-jones-on-how-woke-became-a-dirty-word-video', 'https://www.theguardian.com/commentisfree/video/2020/jun/22/life-in-lockdown-covid-19-blm-and-inequality-in-east-london-video', 'https://www.theguardian.com/world/video/2020/may/20/who-do-you-trust-on-coronavirus-from-trudeau-to-piers-morgan-a-new-normal', 'https://www.theguardian.com/world/video/2021/dec/09/sudans-deadly-military-coup-will-the-fight-for-democracy-ever-be-won-video-explainer', 'https://www.theguardian.com/world/video/2021/nov/30/why-omicron-is-the-most-worrying-covid-variant-yet-video-explainer', 'https://www.theguardian.com/environment/video/2021/nov/15/what-did-cop26-actually-achieve-the-hope-and-heartache-from-glasgow-video-explainer', 'https://www.theguardian.com/sport/video/2022/sep/15/how-a-ballboy-became-a-legend-roger-federers-career-highlights-video', 'https://www.theguardian.com/sport/video/2022/sep/15/bittersweet-decision-roger-federer-announces-tennis-retirement-video', 'https://www.theguardian.com/sport/video/2022/sep/12/hard-not-to-be-pleased-stokes-revels-in-englands-sixth-test-win-of-summer-video', 'https://www.theguardian.com/sport/video/2022/sep/11/one-for-the-good-guys-shane-lowry-swipes-at-liv-golf-after-bmw-pga-championship-win-video', 'https://www.theguardian.com/technology/video/2022/sep/08/why-self-driving-cars-have-stalled-video', 'https://www.theguardian.com/technology/video/2022/jun/16/why-bitcoin-is-reviving-fossil-fuel-plants-video', 'https://www.theguardian.com/technology/video/2022/feb/02/elon-musk-blocks-teenager-who-asked-for-50k-to-stop-tracking-private-jet-video', 'https://www.theguardian.com/technology/video/2022/jan/05/the-fall-of-elizabeth-holmes-how-silicon-valleys-trial-of-the-century-unfolded-video', 'https://www.theguardian.com/technology/2022/jan/03/elizabeth-holmes-trial-jury-finds-theranos-founder-guilty-on-four-counts', 'https://www.theguardian.com/world/video/2021/dec/23/voices-of-covid-doctors-it-was-always-about-trying-to-save-you-video', 'https://www.theguardian.com/world/video/2021/aug/19/my-escape-from-afghanistan-on-a-us-military-plane-it-was-total-chaos-video', 'https://www.theguardian.com/environment/video/2021/apr/23/voices-of-young-climate-activists-how-the-pandemic-changed-the-way-we-protest-video', 'https://www.theguardian.com/world/video/2021/mar/17/voices-of-the-covid-bereaved-our-loved-ones-arent-just-a-number-video', 'https://www.theguardian.com/film/video/2021/apr/30/freeing-elliot-page-interview-oprah-video', 'https://www.theguardian.com/lifeandstyle/video/2022/aug/02/video-game-stray-delights-pet-cats-video', 'https://www.theguardian.com/fashion/video/2022/may/25/kate-moss-dispels-rumour-johnny-depp-pushed-her-down-stairs-video', 'https://www.theguardian.com/lifeandstyle/video/2022/may/17/why-new-bike-lanes-dont-cause-traffic-jams-video', 'https://www.theguardian.com/fashion/video/2021/nov/29/the-fashion-world-is-mourning-a-look-at-virgil-ablohs-impact-video', 'https://www.theguardian.com/uk-news/video/2022/sep/10/king-charles-signals-to-aide-to-remove-pens-during-signing-of-oath-video', 'https://www.theguardian.com/film/video/2013/oct/18/the-broken-circle-breakdown-video', 'https://www.theguardian.com/uk-news/video/2022/sep/13/i-cant-bare-this-bloody-thing-king-charles-gets-frustrated-with-leaky-pen-video', 'https://www.theguardian.com/uk-news/video/2022/sep/15/fireball-spotted-crossing-the-night-sky-over-glasgow-video', 'https://www.theguardian.com/world/video/2022/sep/16/ukraine-discovers-mass-burial-site-with-400-bodies-in-recaptured-city-video', 'https://www.theguardian.com/uk-news/video/2022/sep/14/people-queue-london-queen-coffin-westminster-hall-video', 'https://www.theguardian.com/world/video/2022/sep/14/why-is-vladimir-putin-so-obsessed-with-ukraine', 'https://www.theguardian.com/environment/video/2022/sep/15/worm-v-bird-queensland-kookaburra-struggles-with-huge-earthworm', 'https://www.theguardian.com/football/video/2022/sep/13/michael-sheen-gives-rousing-speech-for-wales-football-team-on-a-league-of-their-own-video', 'https://www.theguardian.com/info/2016/mar/03/terms-and-conditions-for-subscription-content-sales', 'https://www.theguardian.com/info/2016/may/13/terms-and-conditions-for-non-subscription-content-sales', 'https://holidays.theguardian.com/holidays/dubrovnik-montenegro-and-the-dalmatian-coast-98f26abccea1e135c7de851045299d0a', 'https://holidays.theguardian.com/holidays/belfast-and-the-titanic-experience-7eb8c1ab41a27071abc87dedb3009f58', 'https://holidays.theguardian.com/holidays/small-group-bath-somerset-and-glastonbury-235d3ef69cf5a8e1956935bde816af1f', 'https://holidays.theguardian.com/holidays/on-safari-in-kruger-national-park-1633271100162abd44104af01f229c9d', 'https://holidays.theguardian.com/holidays/the-danubes-imperial-cities-and-yuletide-markets-ms-thomas-hardy-22482fa51adfc9a574ad8ba1c0554c05', 'https://holidays.theguardian.com/holidays/the-danubes-imperial-cities-and-yuletide-markets-ms-william-wordsworth-53ebc061338c8a8b6b916bc0771060f1', 'https://holidays.theguardian.com/holidays/amsterdam-kinderdijk-and-the-dutch-bulbfields-ms-emily-bront-d90b521d1f11e72eeee63639901c49a2', 'https://holidays.theguardian.com/holidays/enchanting-rhine-and-yuletide-markets-ms-emily-bront-bdb4b08eaf7ed0b1a387a2aa4c8f7d67', 'https://holidays.theguardian.com/holidays/burgundy-the-river-rhone-and-provence-ms-lord-byron-df6f02a2e2ab50571ef5c61f12535939', 'https://holidays.theguardian.com/holidays/burgundy-the-river-rhone-and-provence-ms-william-shakespeare-179954d684149f86a44e78a81a42deff', 'https://holidays.theguardian.com/holidays/bruges-medieval-flanders-amsterdam-and-the-dutch-bulbfields-ms-oscar-wilde-d0fff20be5a56429e74f3c541d666d53', 'https://holidays.theguardian.com/holidays/rhine-and-moselle-ms-emily-bront-348536fcf0b9d850bd8061f24c69a823', 'https://workforus.theguardian.com/index.php/faqs/interviews/how-will-my-work-impact-environment-and-local-community-2-2-2-2-2/', 'https://workforus.theguardian.com/index.php/faqs/interviews/how-will-my-work-impact-environment-and-local-community-2-2-2-2-2-2/', 'https://workforus.theguardian.com/index.php/faqs/interviews/how-will-my-work-impact-environment-and-local-community-2-2-2-2-2-21/', 'https://workforus.theguardian.com/index.php/faqs/interviews/how-will-my-work-impact-environment-and-local-community-2-2-2-2-2-22/', 'https://workforus.theguardian.com/index.php/faqs/interviews/how-will-my-work-impact-environment-and-local-community-2-2-2-2-2-23/', 'https://workforus.theguardian.com/index.php/faqs/interviews/how-will-my-work-impact-environment-and-local-community-2-2-2-2-2-24/', 'https://workforus.theguardian.com/index.php/faqs/interviews/how-will-my-work-impact-environment-and-local-community-2-2-2-2-2-25/']\n"
     ]
    }
   ],
   "source": [
    "print(article_urls)"
   ]
  },
  {
   "cell_type": "code",
   "execution_count": 77,
   "id": "5e60237a",
   "metadata": {},
   "outputs": [
    {
     "data": {
      "text/plain": [
       "0"
      ]
     },
     "execution_count": 77,
     "metadata": {},
     "output_type": "execute_result"
    }
   ],
   "source": [
    "#Filter articles based on the 'shell' keyword\n",
    "article_urls_filter = list(filter(lambda k: 'shell' in k, article_urls))\n",
    "\n",
    "len(article_urls_filter)"
   ]
  },
  {
   "cell_type": "code",
   "execution_count": 78,
   "id": "a484bb5b",
   "metadata": {},
   "outputs": [],
   "source": [
    "#write/append available articles to csv (articles_urls_filter)\n",
    "\n",
    "# open the file in the write mode\n",
    "with open('./webpages_links.csv', 'w') as f:\n",
    "    # create the csv writer\n",
    "    writer = csv.writer(f,delimiter = '\\n',skipinitialspace=True,lineterminator='\\n')\n",
    "\n",
    "    # write a row to the csv file\n",
    "    writer.writerow(article_urls)"
   ]
  },
  {
   "cell_type": "code",
   "execution_count": 83,
   "id": "0b084074",
   "metadata": {
    "scrolled": true
   },
   "outputs": [
    {
     "name": "stdout",
     "output_type": "stream",
     "text": [
      "Time taken: 212.7148950099945\n"
     ]
    }
   ],
   "source": [
    "#FETCHING ARTICLES' PROPERTIES AND BASIC CLEANING\n",
    "\n",
    "start_time = time()\n",
    "\n",
    "url_list_path = './webpages_links.csv'\n",
    "\n",
    "urls_lines = sc.textFile(url_list_path)\n",
    "\n",
    "output_data = []\n",
    "\n",
    "def processRecord(url):\n",
    "    global output_data\n",
    "    if len(url) > 0:\n",
    "        try:\n",
    "            article = Article(str(url)) #pass the url through the Article object\n",
    "            article.download() #download the published article of the url\n",
    "\n",
    "            #NLP preparation\n",
    "            article.parse() #prepare the article for nlp extractions\n",
    "            article.download('punkt') #download 'punkt' to enable tokenization\n",
    "            article.nlp() #enable Natural Language Processing\n",
    "\n",
    "            #Extract html text\n",
    "            html_text = requests.get(url).text\n",
    "            text = fulltext(html_text)\n",
    "\n",
    "            #Remove HTML tags\n",
    "            TAG_RE = re.compile(r'<[^>]+>')\n",
    "            clean_text = TAG_RE.sub('', text)\n",
    "            new_text = ' '.join(clean_text.splitlines())\n",
    "\n",
    "            #Remove square brackets\n",
    "            authors = ','.join(map(str,article.authors))\n",
    "            keywords = ','.join(map(str,article.keywords))\n",
    "\n",
    "\n",
    "            output = [article.title,authors,url,new_text,keywords,article.publish_date]\n",
    "            \n",
    "\n",
    "        except requests.exceptions.Timeout:\n",
    "            pass  # handle the timeout    \n",
    "        except requests.exceptions.RequestException:\n",
    "            pass  # handle the exception. maybe wait and try again later\n",
    "        except AttributeError:\n",
    "            pass\n",
    "        except ArticleException:\n",
    "            pass\n",
    "\n",
    "    return output\n",
    "\n",
    "\n",
    "\n",
    "temp = urls_lines.map(processRecord)\n",
    "\n",
    "temp_rdd = temp.collect()\n",
    "\n",
    "for elem in temp_rdd:\n",
    "    output_data.append(elem)\n",
    "    #print(elem)\n",
    "\n",
    "    \n",
    "    \n",
    "print(\"Time taken: \" + str(time() - start_time))\n"
   ]
  },
  {
   "cell_type": "markdown",
   "id": "95bbb993",
   "metadata": {},
   "source": [
    "**SEND NOTIFICATION FOR SUCCESS OR FAILURE OF URLS EXTRACTION (IF POSSIBLE, WITH THE NUMBERS OF URLS EXTRACTED)"
   ]
  },
  {
   "cell_type": "code",
   "execution_count": 84,
   "id": "62b92846",
   "metadata": {},
   "outputs": [
    {
     "data": {
      "text/plain": [
       "180"
      ]
     },
     "execution_count": 84,
     "metadata": {},
     "output_type": "execute_result"
    }
   ],
   "source": [
    "len(output_data)"
   ]
  },
  {
   "cell_type": "markdown",
   "id": "80796285",
   "metadata": {},
   "source": [
    "**SEND NOTIFICATION FOR SUCCESS OR FAILURE OF ARTICLE PROPERTIES EXTRACTION (IF POSSIBLE, WITH THE NUMBERS OF SUCCESSFUL ONES & REASONS FOR FAILURE)"
   ]
  },
  {
   "cell_type": "code",
   "execution_count": 86,
   "id": "a50db5b5",
   "metadata": {},
   "outputs": [
    {
     "data": {
      "text/html": [
       "<div>\n",
       "<style scoped>\n",
       "    .dataframe tbody tr th:only-of-type {\n",
       "        vertical-align: middle;\n",
       "    }\n",
       "\n",
       "    .dataframe tbody tr th {\n",
       "        vertical-align: top;\n",
       "    }\n",
       "\n",
       "    .dataframe thead th {\n",
       "        text-align: right;\n",
       "    }\n",
       "</style>\n",
       "<table border=\"1\" class=\"dataframe\">\n",
       "  <thead>\n",
       "    <tr style=\"text-align: right;\">\n",
       "      <th></th>\n",
       "      <th>0</th>\n",
       "    </tr>\n",
       "  </thead>\n",
       "  <tbody>\n",
       "    <tr>\n",
       "      <th>0</th>\n",
       "      <td>None</td>\n",
       "    </tr>\n",
       "    <tr>\n",
       "      <th>1</th>\n",
       "      <td>None</td>\n",
       "    </tr>\n",
       "    <tr>\n",
       "      <th>2</th>\n",
       "      <td>None</td>\n",
       "    </tr>\n",
       "    <tr>\n",
       "      <th>3</th>\n",
       "      <td>None</td>\n",
       "    </tr>\n",
       "    <tr>\n",
       "      <th>4</th>\n",
       "      <td>None</td>\n",
       "    </tr>\n",
       "    <tr>\n",
       "      <th>...</th>\n",
       "      <td>...</td>\n",
       "    </tr>\n",
       "    <tr>\n",
       "      <th>175</th>\n",
       "      <td>None</td>\n",
       "    </tr>\n",
       "    <tr>\n",
       "      <th>176</th>\n",
       "      <td>None</td>\n",
       "    </tr>\n",
       "    <tr>\n",
       "      <th>177</th>\n",
       "      <td>None</td>\n",
       "    </tr>\n",
       "    <tr>\n",
       "      <th>178</th>\n",
       "      <td>None</td>\n",
       "    </tr>\n",
       "    <tr>\n",
       "      <th>179</th>\n",
       "      <td>None</td>\n",
       "    </tr>\n",
       "  </tbody>\n",
       "</table>\n",
       "<p>180 rows × 1 columns</p>\n",
       "</div>"
      ],
      "text/plain": [
       "        0\n",
       "0    None\n",
       "1    None\n",
       "2    None\n",
       "3    None\n",
       "4    None\n",
       "..    ...\n",
       "175  None\n",
       "176  None\n",
       "177  None\n",
       "178  None\n",
       "179  None\n",
       "\n",
       "[180 rows x 1 columns]"
      ]
     },
     "execution_count": 86,
     "metadata": {},
     "output_type": "execute_result"
    }
   ],
   "source": [
    "df"
   ]
  },
  {
   "cell_type": "code",
   "execution_count": 87,
   "id": "a418b6dc",
   "metadata": {},
   "outputs": [],
   "source": [
    "df = pd.DataFrame(output_data)\n",
    "df.columns = [\"headlines\",\"authors\",\"url\",\"text\",\"keywords\",\"publish_date\"]"
   ]
  },
  {
   "cell_type": "code",
   "execution_count": 88,
   "id": "d6f78e4f",
   "metadata": {},
   "outputs": [
    {
     "data": {
      "text/html": [
       "<div>\n",
       "<style scoped>\n",
       "    .dataframe tbody tr th:only-of-type {\n",
       "        vertical-align: middle;\n",
       "    }\n",
       "\n",
       "    .dataframe tbody tr th {\n",
       "        vertical-align: top;\n",
       "    }\n",
       "\n",
       "    .dataframe thead th {\n",
       "        text-align: right;\n",
       "    }\n",
       "</style>\n",
       "<table border=\"1\" class=\"dataframe\">\n",
       "  <thead>\n",
       "    <tr style=\"text-align: right;\">\n",
       "      <th></th>\n",
       "      <th>headlines</th>\n",
       "      <th>authors</th>\n",
       "      <th>url</th>\n",
       "      <th>text</th>\n",
       "      <th>keywords</th>\n",
       "      <th>publish_date</th>\n",
       "    </tr>\n",
       "  </thead>\n",
       "  <tbody>\n",
       "    <tr>\n",
       "      <th>0</th>\n",
       "      <td>Introducing the new Guardian app for Android a...</td>\n",
       "      <td></td>\n",
       "      <td>https://www.theguardian.com/mobile/2014/may/29...</td>\n",
       "      <td>As it happens not after it happened  Get the l...</td>\n",
       "      <td>ios,premium,faster,android,unfold,latest,guard...</td>\n",
       "      <td>2014-05-29</td>\n",
       "    </tr>\n",
       "    <tr>\n",
       "      <th>1</th>\n",
       "      <td>Russia-Ukraine war live: reports of mass buria...</td>\n",
       "      <td>Vivian Ho,Martin Belam,Michael Coulter</td>\n",
       "      <td>https://www.theguardian.com/world/live/2022/se...</td>\n",
       "      <td>From 5h ago 07.23 Reports of mass burial site ...</td>\n",
       "      <td>ukrainian,office,killed,russian,kherson,russia...</td>\n",
       "      <td>2022-09-16</td>\n",
       "    </tr>\n",
       "    <tr>\n",
       "      <th>2</th>\n",
       "      <td>Ukraine mass burial site with 440 bodies disco...</td>\n",
       "      <td>Luke Harding</td>\n",
       "      <td>https://www.theguardian.com/world/2022/sep/16/...</td>\n",
       "      <td>Volodymyr Zelenskiy has accused Russia of “lea...</td>\n",
       "      <td>mass,burial,440,discovered,graves,bodies,city,...</td>\n",
       "      <td>2022-09-16</td>\n",
       "    </tr>\n",
       "    <tr>\n",
       "      <th>3</th>\n",
       "      <td>Judge proposed by Trump named special master i...</td>\n",
       "      <td>Maanvi Singh</td>\n",
       "      <td>https://www.theguardian.com/us-news/2022/sep/1...</td>\n",
       "      <td>A federal judge has named Raymond Dearie, a se...</td>\n",
       "      <td>federal,seized,records,trumps,trump,case,maral...</td>\n",
       "      <td>2022-09-15</td>\n",
       "    </tr>\n",
       "    <tr>\n",
       "      <th>4</th>\n",
       "      <td>Queen lying in state: King visits Wales as ent...</td>\n",
       "      <td>Léonie Chao-Fong,Rebecca Ratcliffe</td>\n",
       "      <td>https://www.theguardian.com/uk-news/live/2022/...</td>\n",
       "      <td>From 47m ago 11.12 King arrives in Wales The K...</td>\n",
       "      <td>photograph,service,king,visits,lying,live,queu...</td>\n",
       "      <td>2022-09-16</td>\n",
       "    </tr>\n",
       "    <tr>\n",
       "      <th>...</th>\n",
       "      <td>...</td>\n",
       "      <td>...</td>\n",
       "      <td>...</td>\n",
       "      <td>...</td>\n",
       "      <td>...</td>\n",
       "      <td>...</td>\n",
       "    </tr>\n",
       "    <tr>\n",
       "      <th>175</th>\n",
       "      <td>The Guardian :: What can I expect after attend...</td>\n",
       "      <td>Thirtythree Llp</td>\n",
       "      <td>https://workforus.theguardian.com/index.php/fa...</td>\n",
       "      <td>Already applied for a job at Guardian News &amp; M...</td>\n",
       "      <td>job,expect,attending,guardian,interview,media,...</td>\n",
       "      <td>NaT</td>\n",
       "    </tr>\n",
       "    <tr>\n",
       "      <th>176</th>\n",
       "      <td>The Guardian :: How do I make an accessibility...</td>\n",
       "      <td>Thirtythree Llp</td>\n",
       "      <td>https://workforus.theguardian.com/index.php/fa...</td>\n",
       "      <td>Already applied for a job at Guardian News &amp; M...</td>\n",
       "      <td>job,request,guardian,media,applied,accessibility</td>\n",
       "      <td>NaT</td>\n",
       "    </tr>\n",
       "    <tr>\n",
       "      <th>177</th>\n",
       "      <td>Flats for rent in Yorkshire and the Humber</td>\n",
       "      <td></td>\n",
       "      <td>https://www.newsnow.co.uk/classifieds/houses-f...</td>\n",
       "      <td>By clicking “OK” or continuing to use this sit...</td>\n",
       "      <td>set,policyok,rent,read,yorkshire,flats,privacy...</td>\n",
       "      <td>NaT</td>\n",
       "    </tr>\n",
       "    <tr>\n",
       "      <th>178</th>\n",
       "      <td>Flats for rent in Yorkshire and the Humber</td>\n",
       "      <td></td>\n",
       "      <td>http://www.newsnow.co.uk/classifieds/houses-fl...</td>\n",
       "      <td>By clicking “OK” or continuing to use this sit...</td>\n",
       "      <td>set,policyok,rent,read,yorkshire,flats,privacy...</td>\n",
       "      <td>NaT</td>\n",
       "    </tr>\n",
       "    <tr>\n",
       "      <th>179</th>\n",
       "      <td>NewsNow: Funding and regulating public interes...</td>\n",
       "      <td></td>\n",
       "      <td>https://www.newsnow.co.uk/webinar/funding-and-...</td>\n",
       "      <td>Funding and regulating public interest journal...</td>\n",
       "      <td>panel,public,funding,world,fake,policy,solutio...</td>\n",
       "      <td>NaT</td>\n",
       "    </tr>\n",
       "  </tbody>\n",
       "</table>\n",
       "<p>180 rows × 6 columns</p>\n",
       "</div>"
      ],
      "text/plain": [
       "                                             headlines  \\\n",
       "0    Introducing the new Guardian app for Android a...   \n",
       "1    Russia-Ukraine war live: reports of mass buria...   \n",
       "2    Ukraine mass burial site with 440 bodies disco...   \n",
       "3    Judge proposed by Trump named special master i...   \n",
       "4    Queen lying in state: King visits Wales as ent...   \n",
       "..                                                 ...   \n",
       "175  The Guardian :: What can I expect after attend...   \n",
       "176  The Guardian :: How do I make an accessibility...   \n",
       "177         Flats for rent in Yorkshire and the Humber   \n",
       "178         Flats for rent in Yorkshire and the Humber   \n",
       "179  NewsNow: Funding and regulating public interes...   \n",
       "\n",
       "                                    authors  \\\n",
       "0                                             \n",
       "1    Vivian Ho,Martin Belam,Michael Coulter   \n",
       "2                              Luke Harding   \n",
       "3                              Maanvi Singh   \n",
       "4        Léonie Chao-Fong,Rebecca Ratcliffe   \n",
       "..                                      ...   \n",
       "175                         Thirtythree Llp   \n",
       "176                         Thirtythree Llp   \n",
       "177                                           \n",
       "178                                           \n",
       "179                                           \n",
       "\n",
       "                                                   url  \\\n",
       "0    https://www.theguardian.com/mobile/2014/may/29...   \n",
       "1    https://www.theguardian.com/world/live/2022/se...   \n",
       "2    https://www.theguardian.com/world/2022/sep/16/...   \n",
       "3    https://www.theguardian.com/us-news/2022/sep/1...   \n",
       "4    https://www.theguardian.com/uk-news/live/2022/...   \n",
       "..                                                 ...   \n",
       "175  https://workforus.theguardian.com/index.php/fa...   \n",
       "176  https://workforus.theguardian.com/index.php/fa...   \n",
       "177  https://www.newsnow.co.uk/classifieds/houses-f...   \n",
       "178  http://www.newsnow.co.uk/classifieds/houses-fl...   \n",
       "179  https://www.newsnow.co.uk/webinar/funding-and-...   \n",
       "\n",
       "                                                  text  \\\n",
       "0    As it happens not after it happened  Get the l...   \n",
       "1    From 5h ago 07.23 Reports of mass burial site ...   \n",
       "2    Volodymyr Zelenskiy has accused Russia of “lea...   \n",
       "3    A federal judge has named Raymond Dearie, a se...   \n",
       "4    From 47m ago 11.12 King arrives in Wales The K...   \n",
       "..                                                 ...   \n",
       "175  Already applied for a job at Guardian News & M...   \n",
       "176  Already applied for a job at Guardian News & M...   \n",
       "177  By clicking “OK” or continuing to use this sit...   \n",
       "178  By clicking “OK” or continuing to use this sit...   \n",
       "179  Funding and regulating public interest journal...   \n",
       "\n",
       "                                              keywords publish_date  \n",
       "0    ios,premium,faster,android,unfold,latest,guard...   2014-05-29  \n",
       "1    ukrainian,office,killed,russian,kherson,russia...   2022-09-16  \n",
       "2    mass,burial,440,discovered,graves,bodies,city,...   2022-09-16  \n",
       "3    federal,seized,records,trumps,trump,case,maral...   2022-09-15  \n",
       "4    photograph,service,king,visits,lying,live,queu...   2022-09-16  \n",
       "..                                                 ...          ...  \n",
       "175  job,expect,attending,guardian,interview,media,...          NaT  \n",
       "176   job,request,guardian,media,applied,accessibility          NaT  \n",
       "177  set,policyok,rent,read,yorkshire,flats,privacy...          NaT  \n",
       "178  set,policyok,rent,read,yorkshire,flats,privacy...          NaT  \n",
       "179  panel,public,funding,world,fake,policy,solutio...          NaT  \n",
       "\n",
       "[180 rows x 6 columns]"
      ]
     },
     "execution_count": 88,
     "metadata": {},
     "output_type": "execute_result"
    }
   ],
   "source": [
    "df"
   ]
  },
  {
   "cell_type": "code",
   "execution_count": 67,
   "id": "3ed739fa",
   "metadata": {},
   "outputs": [],
   "source": [
    "guardian_publications = df.to_csv('./guardian_publications.csv')"
   ]
  }
 ],
 "metadata": {
  "kernelspec": {
   "display_name": "Python 3 (ipykernel)",
   "language": "python",
   "name": "python3"
  },
  "language_info": {
   "codemirror_mode": {
    "name": "ipython",
    "version": 3
   },
   "file_extension": ".py",
   "mimetype": "text/x-python",
   "name": "python",
   "nbconvert_exporter": "python",
   "pygments_lexer": "ipython3",
   "version": "3.9.7"
  }
 },
 "nbformat": 4,
 "nbformat_minor": 5
}
