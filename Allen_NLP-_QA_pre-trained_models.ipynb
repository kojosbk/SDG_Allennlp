{
 "cells": [
  {
   "cell_type": "code",
   "execution_count": 1,
   "id": "43a65ae6",
   "metadata": {},
   "outputs": [],
   "source": [
    "from allennlp.predictors.predictor import Predictor\n",
    "import allennlp_models.rc\n",
    "import time\n",
    "from pprint import pprint"
   ]
  },
  {
   "cell_type": "code",
   "execution_count": 6,
   "id": "5ea141b7",
   "metadata": {},
   "outputs": [],
   "source": [
    "nlp_models = [\n",
    "    # { 'name' : 'transformer-qa',\n",
    "    #   'url': 'https://storage.googleapis.com/allennlp-public-models/transformer-qa-2020-10-03.tar.gz'\n",
    "    # },\n",
    "    { 'name' : 'bidaf-model',\n",
    "      'url' : 'C:/Users/Silas_Dell/Downloads/Compressed/bidaf-model-2020.03.19.tar.gz',\n",
    "    },\n",
    "    {\n",
    "        'name' : 'bidaf-elmo-model',\n",
    "        'url' : 'C:/Users/Silas_Dell/Downloads/Compressed/bidaf-elmo-model-2020.03.19.tar.gz'\n",
    "    },\n",
    "    # {\n",
    "    #     'name' : 'naquanet',\n",
    "    #     'url' : 'https://storage.googleapis.com/allennlp-public-models/naqanet-2020.02.19.tar.gz'\n",
    "    # },\n",
    "]"
   ]
  },
  {
   "cell_type": "code",
   "execution_count": 7,
   "id": "21cd8642",
   "metadata": {},
   "outputs": [
    {
     "name": "stdout",
     "output_type": "stream",
     "text": [
      "Loading models...\n"
     ]
    },
    {
     "name": "stderr",
     "output_type": "stream",
     "text": [
      "error loading _jsonnet (this is expected on Windows), treating C:\\Users\\SILAS_~1\\AppData\\Local\\Temp\\tmppcj0e8mh\\config.json as plain json\n"
     ]
    },
    {
     "name": "stdout",
     "output_type": "stream",
     "text": [
      "Loaded model 'bidaf-model' in 2,953.2 milli seconds\n"
     ]
    },
    {
     "name": "stderr",
     "output_type": "stream",
     "text": [
      "error loading _jsonnet (this is expected on Windows), treating C:\\Users\\SILAS_~1\\AppData\\Local\\Temp\\tmpi6813431\\config.json as plain json\n"
     ]
    },
    {
     "name": "stdout",
     "output_type": "stream",
     "text": [
      "Loaded model 'bidaf-elmo-model' in 29,432.5 milli seconds\n",
      "\n"
     ]
    }
   ],
   "source": [
    "## load models\n",
    "print (\"Loading models...\")\n",
    "for nlp_model in nlp_models:\n",
    "    # print (\"Loading model :\", nlp_model['name'])\n",
    "    t1 = time.perf_counter()\n",
    "    nlp_model['model'] = Predictor.from_path(nlp_model['url'])\n",
    "    t2 = time.perf_counter()\n",
    "    print (\"Loaded model '{}' in {:,.1f} milli seconds\".format (nlp_model['name'], (t2-t1)*1e3))\n",
    "print ()"
   ]
  },
  {
   "cell_type": "code",
   "execution_count": 8,
   "id": "b7786442",
   "metadata": {},
   "outputs": [],
   "source": [
    "def ask_question (passage, question):\n",
    "    print ('quesion: ', question)\n",
    "    for nlp_model in nlp_models:\n",
    "        t1 = time.perf_counter()\n",
    "        result =  nlp_model['model'].predict(passage=passage, question=question)\n",
    "        t2 = time.perf_counter()\n",
    "        print (\"   model {} predicted in {:,.1f} milli seconds\".format (nlp_model['name'], (t2-t1)*1e3))\n",
    "        print ('   answer: ', result.get('best_span_str', 'unknown'))\n",
    "        print()\n",
    "\n",
    "    print('-------------------')\n",
    "## --- end: def predict (passage, question):"
   ]
  },
  {
   "cell_type": "code",
   "execution_count": 9,
   "id": "3054cdc4",
   "metadata": {},
   "outputs": [
    {
     "name": "stdout",
     "output_type": "stream",
     "text": [
      "quesion:  In what country is Normandy located?\n",
      "   model bidaf-model predicted in 216.8 milli seconds\n",
      "   answer:  France\n",
      "\n",
      "   model bidaf-elmo-model predicted in 3,565.3 milli seconds\n",
      "   answer:  France\n",
      "\n",
      "-------------------\n",
      "quesion:  When were the Normans in Normandy?\n",
      "   model bidaf-model predicted in 85.8 milli seconds\n",
      "   answer:  10th and 11th centuries\n",
      "\n",
      "   model bidaf-elmo-model predicted in 3,116.9 milli seconds\n",
      "   answer:  10th and 11th centuries\n",
      "\n",
      "-------------------\n",
      "quesion:  From which countries did the Norse originate?\n",
      "   model bidaf-model predicted in 110.7 milli seconds\n",
      "   answer:  Denmark, Iceland and Norway\n",
      "\n",
      "   model bidaf-elmo-model predicted in 3,380.5 milli seconds\n",
      "   answer:  Denmark, Iceland and Norway\n",
      "\n",
      "-------------------\n"
     ]
    }
   ],
   "source": [
    "passage = \"\"\"The Normans (Norman: Nourmands; French: Normands; Latin: Normanni) were the people who in the \n",
    "10th and 11th centuries gave their name to Normandy, a region in France. They were descended from Norse \n",
    "(\"Norman\" comes from \"Norseman\") raiders and pirates from Denmark, Iceland and Norway who, under their leader Rollo, \n",
    "agreed to swear fealty to King Charles III of West Francia. Through generations of assimilation and mixing with the \n",
    "native Frankish and Roman-Gaulish populations, their descendants would gradually merge with the Carolingian-based \n",
    "cultures of West Francia. The distinct cultural and ethnic identity of the Normans emerged initially in the first half \n",
    "of the 10th century, and it continued to evolve over the succeeding centuries.\n",
    "\"\"\"\n",
    "question=\"In what country is Normandy located?\"\n",
    "ask_question (passage, question)\n",
    "\n",
    "question=\"When were the Normans in Normandy?\"\n",
    "ask_question (passage, question)\n",
    "\n",
    "question=\"From which countries did the Norse originate?\"\n",
    "ask_question (passage, question)"
   ]
  },
  {
   "cell_type": "code",
   "execution_count": 10,
   "id": "5b1a34c9",
   "metadata": {},
   "outputs": [
    {
     "name": "stdout",
     "output_type": "stream",
     "text": [
      "quesion:  What branch of theoretical computer science deals with broadly classifying computational problems by difficulty and class of relationship?\n",
      "   model bidaf-model predicted in 77.1 milli seconds\n",
      "   answer:  Computational complexity theory\n",
      "\n",
      "   model bidaf-elmo-model predicted in 2,524.2 milli seconds\n",
      "   answer:  Computational complexity theory\n",
      "\n",
      "-------------------\n",
      "quesion:  By what main attribute are computational problems classified utilizing computational complexity theory?\n",
      "   model bidaf-model predicted in 99.0 milli seconds\n",
      "   answer:  inherent difficulty\n",
      "\n",
      "   model bidaf-elmo-model predicted in 2,068.8 milli seconds\n",
      "   answer:  difficulty\n",
      "\n",
      "-------------------\n",
      "quesion:  What is the term for a task that generally lends itself to being solved by a computer?\n",
      "   model bidaf-model predicted in 60.2 milli seconds\n",
      "   answer:  computational problem\n",
      "\n",
      "   model bidaf-elmo-model predicted in 2,395.8 milli seconds\n",
      "   answer:  computational problem\n",
      "\n",
      "-------------------\n"
     ]
    }
   ],
   "source": [
    "passage = \"\"\"\n",
    "Computational complexity theory is a branch of the theory of computation in theoretical computer science that focuses \n",
    "on classifying computational problems according to their inherent difficulty, and relating those classes to each other. \n",
    "A computational problem is understood to be a task that is in principle amenable to being solved by a computer, which is \n",
    "equivalent to stating that the problem may be solved by mechanical application of mathematical steps, such as an algorithm.\n",
    "\"\"\"\n",
    "question = \"What branch of theoretical computer science deals with broadly classifying computational problems by difficulty and class of relationship?\"\n",
    "ask_question(passage, question)\n",
    "\n",
    "question = \"By what main attribute are computational problems classified utilizing computational complexity theory?\"\n",
    "ask_question(passage, question)\n",
    "\n",
    "question = \"What is the term for a task that generally lends itself to being solved by a computer?\"\n",
    "ask_question(passage, question)"
   ]
  },
  {
   "cell_type": "code",
   "execution_count": 11,
   "id": "e78606f2",
   "metadata": {},
   "outputs": [
    {
     "name": "stdout",
     "output_type": "stream",
     "text": [
      "quesion:  What is Southern California often abbreviated as?\n",
      "   model bidaf-model predicted in 88.7 milli seconds\n",
      "   answer:  SoCal\n",
      "\n",
      "   model bidaf-elmo-model predicted in 2,454.1 milli seconds\n",
      "   answer:  SoCal\n",
      "\n",
      "-------------------\n",
      "quesion:  What is a major importance of Southern California in relation to California and the United States?\n",
      "   model bidaf-model predicted in 133.1 milli seconds\n",
      "   answer:  Southern California is a major economic center\n",
      "\n",
      "   model bidaf-elmo-model predicted in 2,611.7 milli seconds\n",
      "   answer:  economic center\n",
      "\n",
      "-------------------\n"
     ]
    }
   ],
   "source": [
    "passage = \"\"\"\n",
    "Southern California, often abbreviated SoCal, is a geographic and cultural region that generally comprises California's \n",
    "southernmost 10 counties. The region is traditionally described as \"eight counties\", based on demographics and economic \n",
    "ties: Imperial, Los Angeles, Orange, Riverside, San Bernardino, San Diego, Santa Barbara, and Ventura. The more extensive \n",
    "10-county definition, including Kern and San Luis Obispo counties, is also used based on historical political divisions. \n",
    "Southern California is a major economic center for the state of California and the United States.\"\"\"\n",
    "\n",
    "question = \"What is Southern California often abbreviated as?\"\n",
    "ask_question(passage, question)\n",
    "question = \"What is a major importance of Southern California in relation to California and the United States?\"\n",
    "ask_question(passage, question)"
   ]
  },
  {
   "cell_type": "code",
   "execution_count": null,
   "id": "6e2b073a",
   "metadata": {},
   "outputs": [],
   "source": []
  }
 ],
 "metadata": {
  "kernelspec": {
   "display_name": "Python 3.10.0 64-bit",
   "language": "python",
   "name": "python3"
  },
  "language_info": {
   "codemirror_mode": {
    "name": "ipython",
    "version": 3
   },
   "file_extension": ".py",
   "mimetype": "text/x-python",
   "name": "python",
   "nbconvert_exporter": "python",
   "pygments_lexer": "ipython3",
   "version": "3.10.0"
  },
  "vscode": {
   "interpreter": {
    "hash": "320c1f05b41b6296d6cdeadbc8f37198b22e160db062b16d8b8cc9d95c25d782"
   }
  }
 },
 "nbformat": 4,
 "nbformat_minor": 5
}
