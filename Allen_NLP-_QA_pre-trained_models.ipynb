{
 "cells": [
  {
   "cell_type": "code",
   "execution_count": 1,
   "id": "43a65ae6",
   "metadata": {},
   "outputs": [],
   "source": [
    "from allennlp.predictors.predictor import Predictor\n",
    "import allennlp_models.rc\n",
    "import time\n",
    "from pprint import pprint"
   ]
  },
  {
   "cell_type": "code",
   "execution_count": 2,
   "id": "5ea141b7",
   "metadata": {},
   "outputs": [],
   "source": [
    "nlp_models = [\n",
    "    { 'name' : 'transformer-qa',\n",
    "      'url': 'https://storage.googleapis.com/allennlp-public-models/transformer-qa-2020-10-03.tar.gz'\n",
    "    },\n",
    "    { 'name' : 'bidaf-model',\n",
    "      'url' : 'https://storage.googleapis.com/allennlp-public-models/bidaf-model-2020.03.19.tar.gz',\n",
    "    },\n",
    "    {\n",
    "        'name' : 'bidaf-elmo-model',\n",
    "        'url' : 'https://storage.googleapis.com/allennlp-public-models/bidaf-elmo-model-2020.03.19.tar.gz'\n",
    "    },\n",
    "    # {\n",
    "    #     'name' : 'naquanet',\n",
    "    #     'url' : 'https://storage.googleapis.com/allennlp-public-models/naqanet-2020.02.19.tar.gz'\n",
    "    # },\n",
    "]"
   ]
  },
  {
   "cell_type": "code",
   "execution_count": 3,
   "id": "21cd8642",
   "metadata": {},
   "outputs": [
    {
     "name": "stdout",
     "output_type": "stream",
     "text": [
      "Loading models...\n"
     ]
    }
   ],
   "source": [
    "## load models\n",
    "print (\"Loading models...\")\n",
    "for nlp_model in nlp_models:\n",
    "    # print (\"Loading model :\", nlp_model['name'])\n",
    "    t1 = time.perf_counter()\n",
    "    nlp_model['model'] = Predictor.from_path(nlp_model['url'])\n",
    "    t2 = time.perf_counter()\n",
    "    print (\"Loaded model '{}' in {:,.1f} milli seconds\".format (nlp_model['name'], (t2-t1)*1e3))\n",
    "print ()"
   ]
  },
  {
   "cell_type": "code",
   "execution_count": null,
   "id": "b7786442",
   "metadata": {},
   "outputs": [],
   "source": [
    "def ask_question (passage, question):\n",
    "    print ('quesion: ', question)\n",
    "    for nlp_model in nlp_models:\n",
    "        t1 = time.perf_counter()\n",
    "        result =  nlp_model['model'].predict(passage=passage, question=question)\n",
    "        t2 = time.perf_counter()\n",
    "        print (\"   model {} predicted in {:,.1f} milli seconds\".format (nlp_model['name'], (t2-t1)*1e3))\n",
    "        print ('   answer: ', result.get('best_span_str', 'unknown'))\n",
    "        print()\n",
    "\n",
    "    print('-------------------')\n",
    "## --- end: def predict (passage, question):"
   ]
  },
  {
   "cell_type": "code",
   "execution_count": null,
   "id": "3054cdc4",
   "metadata": {},
   "outputs": [],
   "source": [
    "passage = \"\"\"The Normans (Norman: Nourmands; French: Normands; Latin: Normanni) were the people who in the \n",
    "10th and 11th centuries gave their name to Normandy, a region in France. They were descended from Norse \n",
    "(\"Norman\" comes from \"Norseman\") raiders and pirates from Denmark, Iceland and Norway who, under their leader Rollo, \n",
    "agreed to swear fealty to King Charles III of West Francia. Through generations of assimilation and mixing with the \n",
    "native Frankish and Roman-Gaulish populations, their descendants would gradually merge with the Carolingian-based \n",
    "cultures of West Francia. The distinct cultural and ethnic identity of the Normans emerged initially in the first half \n",
    "of the 10th century, and it continued to evolve over the succeeding centuries.\n",
    "\"\"\"\n",
    "question=\"In what country is Normandy located?\"\n",
    "ask_question (passage, question)\n",
    "\n",
    "question=\"When were the Normans in Normandy?\"\n",
    "ask_question (passage, question)\n",
    "\n",
    "question=\"From which countries did the Norse originate?\"\n",
    "ask_question (passage, question)"
   ]
  },
  {
   "cell_type": "code",
   "execution_count": null,
   "id": "5b1a34c9",
   "metadata": {},
   "outputs": [],
   "source": [
    "passage = \"\"\"\n",
    "Computational complexity theory is a branch of the theory of computation in theoretical computer science that focuses \n",
    "on classifying computational problems according to their inherent difficulty, and relating those classes to each other. \n",
    "A computational problem is understood to be a task that is in principle amenable to being solved by a computer, which is \n",
    "equivalent to stating that the problem may be solved by mechanical application of mathematical steps, such as an algorithm.\n",
    "\"\"\"\n",
    "question = \"What branch of theoretical computer science deals with broadly classifying computational problems by difficulty and class of relationship?\"\n",
    "ask_question(passage, question)\n",
    "\n",
    "question = \"By what main attribute are computational problems classified utilizing computational complexity theory?\"\n",
    "ask_question(passage, question)\n",
    "\n",
    "question = \"What is the term for a task that generally lends itself to being solved by a computer?\"\n",
    "ask_question(passage, question)"
   ]
  },
  {
   "cell_type": "code",
   "execution_count": null,
   "id": "e78606f2",
   "metadata": {},
   "outputs": [],
   "source": [
    "passage = \"\"\"\n",
    "Southern California, often abbreviated SoCal, is a geographic and cultural region that generally comprises California's \n",
    "southernmost 10 counties. The region is traditionally described as \"eight counties\", based on demographics and economic \n",
    "ties: Imperial, Los Angeles, Orange, Riverside, San Bernardino, San Diego, Santa Barbara, and Ventura. The more extensive \n",
    "10-county definition, including Kern and San Luis Obispo counties, is also used based on historical political divisions. \n",
    "Southern California is a major economic center for the state of California and the United States.\"\"\"\n",
    "\n",
    "question = \"What is Southern California often abbreviated as?\"\n",
    "ask_question(passage, question)\n",
    "question = \"What is a major importance of Southern California in relation to California and the United States?\"\n",
    "ask_question(passage, question)"
   ]
  }
 ],
 "metadata": {
  "kernelspec": {
   "display_name": "Python 3.10.0 64-bit",
   "language": "python",
   "name": "python3"
  },
  "language_info": {
   "codemirror_mode": {
    "name": "ipython",
    "version": 3
   },
   "file_extension": ".py",
   "mimetype": "text/x-python",
   "name": "python",
   "nbconvert_exporter": "python",
   "pygments_lexer": "ipython3",
   "version": "3.10.0"
  },
  "vscode": {
   "interpreter": {
    "hash": "320c1f05b41b6296d6cdeadbc8f37198b22e160db062b16d8b8cc9d95c25d782"
   }
  }
 },
 "nbformat": 4,
 "nbformat_minor": 5
}
