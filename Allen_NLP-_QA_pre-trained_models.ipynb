{
 "cells": [
  {
   "cell_type": "code",
   "execution_count": 5,
   "id": "43a65ae6",
   "metadata": {},
   "outputs": [],
   "source": [
    "from allennlp.predictors.predictor import Predictor\n",
    "import allennlp_models.rc\n",
    "import time\n",
    "from pprint import pprint"
   ]
  },
  {
   "cell_type": "code",
   "execution_count": 6,
   "id": "5ea141b7",
   "metadata": {},
   "outputs": [],
   "source": [
    "nlp_models = [\n",
    "    # { 'name' : 'transformer-qa',\n",
    "    #   'url': 'https://storage.googleapis.com/allennlp-public-models/transformer-qa-2020-10-03.tar.gz'\n",
    "    # },\n",
    "    { 'name' : 'bidaf-model',\n",
    "      'url' : 'C:/Users/Silas_Dell/Downloads/Compressed/bidaf-model-2020.03.19.tar.gz',\n",
    "    },\n",
    "    {\n",
    "        'name' : 'bidaf-elmo-model',\n",
    "        'url' : 'C:/Users/Silas_Dell/Downloads/Compressed/bidaf-elmo-model-2020.03.19.tar.gz'\n",
    "    },\n",
    "    {\n",
    "        'name' : 'bidaf-elmo-model1',\n",
    "        'url' : 'C:/Users/Silas_Dell/Downloads/Compressed/bidaf-elmo.2021-02-11.tar_2.gz'\n",
    "    },\n",
    "]"
   ]
  },
  {
   "cell_type": "code",
   "execution_count": 57,
   "id": "57b013b0",
   "metadata": {},
   "outputs": [],
   "source": [
    "nlp_models1 = [\n",
    "    { 'name' : 'bidaf-model',\n",
    "      'url' : 'C:/Users/Silas_Dell/Downloads/Compressed/bidaf-model-2020.03.19.tar.gz',\n",
    "    }]"
   ]
  },
  {
   "cell_type": "code",
   "execution_count": 58,
   "id": "752f45c7",
   "metadata": {},
   "outputs": [
    {
     "name": "stderr",
     "output_type": "stream",
     "text": [
      "error loading _jsonnet (this is expected on Windows), treating C:\\Users\\SILAS_~1\\AppData\\Local\\Temp\\tmp4pmkcqlp\\config.json as plain json\n"
     ]
    },
    {
     "data": {
      "text/plain": [
       "<allennlp_models.rc.predictors.bidaf.ReadingComprehensionPredictor at 0x208f3fabb80>"
      ]
     },
     "execution_count": 58,
     "metadata": {},
     "output_type": "execute_result"
    }
   ],
   "source": [
    "Predictor.from_path('C:/Users/Silas_Dell/Downloads/Compressed/bidaf-model-2020.03.19.tar.gz')"
   ]
  },
  {
   "cell_type": "code",
   "execution_count": 7,
   "id": "21cd8642",
   "metadata": {},
   "outputs": [
    {
     "name": "stdout",
     "output_type": "stream",
     "text": [
      "Loading models...\n"
     ]
    },
    {
     "name": "stderr",
     "output_type": "stream",
     "text": [
      "error loading _jsonnet (this is expected on Windows), treating C:\\Users\\SILAS_~1\\AppData\\Local\\Temp\\tmpfxp5r68v\\config.json as plain json\n"
     ]
    },
    {
     "name": "stdout",
     "output_type": "stream",
     "text": [
      "Loaded model 'bidaf-model' in 6,086.5 milli seconds\n"
     ]
    },
    {
     "name": "stderr",
     "output_type": "stream",
     "text": [
      "error loading _jsonnet (this is expected on Windows), treating C:\\Users\\SILAS_~1\\AppData\\Local\\Temp\\tmpfecb0h2j\\config.json as plain json\n"
     ]
    },
    {
     "name": "stdout",
     "output_type": "stream",
     "text": [
      "Loaded model 'bidaf-elmo-model' in 32,683.1 milli seconds\n"
     ]
    },
    {
     "name": "stderr",
     "output_type": "stream",
     "text": [
      "error loading _jsonnet (this is expected on Windows), treating C:\\Users\\SILAS_~1\\AppData\\Local\\Temp\\tmp1cvgb7di\\config.json as plain json\n"
     ]
    },
    {
     "name": "stdout",
     "output_type": "stream",
     "text": [
      "Loaded model 'bidaf-elmo-model1' in 31,240.2 milli seconds\n",
      "\n"
     ]
    }
   ],
   "source": [
    "## load models\n",
    "print (\"Loading models...\")\n",
    "for nlp_model in nlp_models:\n",
    "    # print (\"Loading model :\", nlp_model['name'])\n",
    "    t1 = time.perf_counter()\n",
    "    nlp_model['model'] = Predictor.from_path(nlp_model['url'])\n",
    "    t2 = time.perf_counter()\n",
    "    print (\"Loaded model '{}' in {:,.1f} milli seconds\".format (nlp_model['name'], (t2-t1)*1e3))\n",
    "print ()"
   ]
  },
  {
   "cell_type": "code",
   "execution_count": 8,
   "id": "b7786442",
   "metadata": {},
   "outputs": [],
   "source": [
    "def ask_question (passage, question):\n",
    "    print ('question: ', question)\n",
    "    for nlp_model in nlp_models:\n",
    "        t1 = time.perf_counter()\n",
    "        result =  nlp_model['model'].predict(passage=passage, question=question)\n",
    "        t2 = time.perf_counter()\n",
    "        print (\"   model {} predicted in {:,.1f} milli seconds\".format (nlp_model['name'], (t2-t1)*1e3))\n",
    "        print ('   answer: ', result.get('best_span_str', 'unknown'))\n",
    "        print()\n",
    "\n",
    "    print('-------------------')\n",
    "## --- end: def predict (passage, question):"
   ]
  },
  {
   "cell_type": "code",
   "execution_count": 9,
   "id": "3054cdc4",
   "metadata": {},
   "outputs": [
    {
     "name": "stdout",
     "output_type": "stream",
     "text": [
      "question:  In what country is Normandy located?\n",
      "   model bidaf-model predicted in 259.4 milli seconds\n",
      "   answer:  France\n",
      "\n",
      "   model bidaf-elmo-model predicted in 3,499.0 milli seconds\n",
      "   answer:  France\n",
      "\n",
      "   model bidaf-elmo-model1 predicted in 3,978.4 milli seconds\n",
      "   answer:  France\n",
      "\n",
      "-------------------\n",
      "question:  When were the Normans in Normandy?\n",
      "   model bidaf-model predicted in 110.3 milli seconds\n",
      "   answer:  10th and 11th centuries\n",
      "\n",
      "   model bidaf-elmo-model predicted in 4,736.4 milli seconds\n",
      "   answer:  10th and 11th centuries\n",
      "\n",
      "   model bidaf-elmo-model1 predicted in 3,932.3 milli seconds\n",
      "   answer:  10th and 11th centuries\n",
      "\n",
      "-------------------\n",
      "question:  From which countries did the Norse originate?\n",
      "   model bidaf-model predicted in 99.2 milli seconds\n",
      "   answer:  Denmark, Iceland and Norway\n",
      "\n",
      "   model bidaf-elmo-model predicted in 4,170.3 milli seconds\n",
      "   answer:  Denmark, Iceland and Norway\n",
      "\n",
      "   model bidaf-elmo-model1 predicted in 4,015.7 milli seconds\n",
      "   answer:  Denmark, Iceland and Norway\n",
      "\n",
      "-------------------\n"
     ]
    }
   ],
   "source": [
    "passage = \"\"\"The Normans (Norman: Nourmands; French: Normands; Latin: Normanni) were the people who in the \n",
    "10th and 11th centuries gave their name to Normandy, a region in France. They were descended from Norse \n",
    "(\"Norman\" comes from \"Norseman\") raiders and pirates from Denmark, Iceland and Norway who, under their leader Rollo, \n",
    "agreed to swear fealty to King Charles III of West Francia. Through generations of assimilation and mixing with the \n",
    "native Frankish and Roman-Gaulish populations, their descendants would gradually merge with the Carolingian-based \n",
    "cultures of West Francia. The distinct cultural and ethnic identity of the Normans emerged initially in the first half \n",
    "of the 10th century, and it continued to evolve over the succeeding centuries.\n",
    "\"\"\"\n",
    "question=\"In what country is Normandy located?\"\n",
    "ask_question (passage, question)\n",
    "\n",
    "question=\"When were the Normans in Normandy?\"\n",
    "ask_question (passage, question)\n",
    "\n",
    "question=\"From which countries did the Norse originate?\"\n",
    "ask_question (passage, question)"
   ]
  },
  {
   "cell_type": "code",
   "execution_count": 10,
   "id": "3054cdc4",
   "metadata": {},
   "outputs": [
    {
     "name": "stdout",
     "output_type": "stream",
     "text": [
      "question:  How many touchdowns were there in the game?\n",
      "   model bidaf-model predicted in 274.3 milli seconds\n",
      "   answer:  20-yard touchdown\n",
      "\n",
      "   model bidaf-elmo-model predicted in 4,927.6 milli seconds\n",
      "   answer:  33-yard\n",
      "\n",
      "   model bidaf-elmo-model1 predicted in 4,604.4 milli seconds\n",
      "   answer:  20-yard\n",
      "\n",
      "-------------------\n"
     ]
    }
   ],
   "source": [
    "passage = \"\"\"Hoping to rebound from their loss to the Patriots, the Raiders stayed at home for a Week 16 duel with the Houston Texans. \n",
    " Oakland would get the early lead in the first quarter as quarterback JaMarcus Russell completed a 20-yard touchdown pass to rookie wide receiver Chaz Schilens.  \n",
    "The Texans would respond with fullback Vonta Leach getting a 1-yard touchdown run, yet the Raiders would answer with kicker Sebastian Janikowski\n",
    " getting a 33-yard and a 30-yard field goal.  Houston would tie the game in the second quarter with kicker Kris Brown getting a 53-yard and a 24-yard field goal. \n",
    " Oakland would take the lead in the third quarter with wide receiver Johnnie Lee Higgins catching a 29-yard touchdown pass from Russell, followed up by an 80-yard \n",
    " punt return for a touchdown.  \n",
    "The Texans tried to rally in the fourth quarter as Brown nailed a 40-yard field goal, yet the Raiders' defense would shut down any possible attempt.\"\"\"\n",
    "question=\"How many touchdowns were there in the game?\"\n",
    "ask_question (passage, question)\n",
    "\n",
    "# question=\"When were the Normans in Normandy?\"\n",
    "# ask_question (passage, question)\n",
    "\n",
    "# question=\"From which countries did the Norse originate?\"\n",
    "# ask_question (passage, question)"
   ]
  },
  {
   "cell_type": "code",
   "execution_count": 11,
   "id": "dd4d0fbe",
   "metadata": {},
   "outputs": [],
   "source": [
    "import numpy as np\n",
    "from scipy import stats\n",
    "import pandas as pd"
   ]
  },
  {
   "cell_type": "code",
   "execution_count": 12,
   "id": "9387122c",
   "metadata": {},
   "outputs": [],
   "source": [
    "train = pd.read_csv('train.csv')"
   ]
  },
  {
   "cell_type": "code",
   "execution_count": 19,
   "id": "95f83a03",
   "metadata": {},
   "outputs": [],
   "source": [
    "def ask_question2 (passage, question):\n",
    "    for nlp_model in nlp_models:\n",
    "        t1 = time.perf_counter()\n",
    "        result =  nlp_model['model'].predict(passage=passage, question=question)\n",
    "        t2 = time.perf_counter()\n",
    "        # a= print (\"   model {} predicted in {:,.1f} milli seconds\".format (nlp_model['name'], (t2-t1)*1e3))\n",
    "        b= result.get('best_span_str', 'unknown')\n",
    "        return b\n",
    "        "
   ]
  },
  {
   "cell_type": "code",
   "execution_count": 20,
   "id": "ec02b85d",
   "metadata": {},
   "outputs": [
    {
     "data": {
      "text/plain": [
       "'20-yard touchdown'"
      ]
     },
     "execution_count": 20,
     "metadata": {},
     "output_type": "execute_result"
    }
   ],
   "source": [
    "passage = \"\"\"Hoping to rebound from their loss to the Patriots, the Raiders stayed at home for a Week 16 duel with the Houston Texans. \n",
    " Oakland would get the early lead in the first quarter as quarterback JaMarcus Russell completed a 20-yard touchdown pass to rookie wide receiver Chaz Schilens.  \n",
    "The Texans would respond with fullback Vonta Leach getting a 1-yard touchdown run, yet the Raiders would answer with kicker Sebastian Janikowski\n",
    " getting a 33-yard and a 30-yard field goal.  Houston would tie the game in the second quarter with kicker Kris Brown getting a 53-yard and a 24-yard field goal. \n",
    " Oakland would take the lead in the third quarter with wide receiver Johnnie Lee Higgins catching a 29-yard touchdown pass from Russell, followed up by an 80-yard \n",
    " punt return for a touchdown.  \n",
    "The Texans tried to rally in the fourth quarter as Brown nailed a 40-yard field goal, yet the Raiders' defense would shut down any possible attempt.\"\"\"\n",
    "question=\"How many touchdowns were there in the game?\"\n",
    "ask_question2 (passage, question)"
   ]
  },
  {
   "cell_type": "code",
   "execution_count": 48,
   "id": "66912cb3",
   "metadata": {},
   "outputs": [
    {
     "data": {
      "text/plain": [
       "\"(1, 'Manufacturing value added as a percentage of GDP stood at 10.5 per cent in Africa (excluding North Africa) and 11.3 per cent in North Africa in 2015. By comparison, the figure was 14.0 per cent in Latin America and the Caribbean and 12.6 per cent for all the least developed countries, 23 per cent for Asia and the Pacific and 16 per cent globally. Neither North Africa nor the rest of Africa made significant progress during the first half of the current decade. Manufacturing value added as a percentage of GDP increased only slightly, from 10.3 to 10.5 per cent during the period 2010-2015 for Africa (excluding North Africa) and from 11.2 to 11.5 per cent for North Africa.')\""
      ]
     },
     "execution_count": 48,
     "metadata": {},
     "output_type": "execute_result"
    }
   ],
   "source": [
    "for name, values in train.text.head(2).iteritems():\n",
    "        x = name,values\n",
    "\n",
    "str(x)"
   ]
  },
  {
   "cell_type": "code",
   "execution_count": 53,
   "id": "3212b74b",
   "metadata": {},
   "outputs": [],
   "source": [
    "def passans(df):\n",
    "    for name, values in train.text.head(1).iteritems():\n",
    "        x = name,values\n",
    "    passage = str(x)\n",
    "    question = \"What Manufacturing value was added?\"\n",
    "    ask_question2(passage, question)"
   ]
  },
  {
   "cell_type": "code",
   "execution_count": 55,
   "id": "7c9f37aa",
   "metadata": {},
   "outputs": [],
   "source": [
    "train[\"answers\"]=train[\"text\"].head(1).apply(passans)"
   ]
  },
  {
   "cell_type": "code",
   "execution_count": 56,
   "id": "b495c8d5",
   "metadata": {},
   "outputs": [
    {
     "data": {
      "text/html": [
       "<div>\n",
       "<style scoped>\n",
       "    .dataframe tbody tr th:only-of-type {\n",
       "        vertical-align: middle;\n",
       "    }\n",
       "\n",
       "    .dataframe tbody tr th {\n",
       "        vertical-align: top;\n",
       "    }\n",
       "\n",
       "    .dataframe thead th {\n",
       "        text-align: right;\n",
       "    }\n",
       "</style>\n",
       "<table border=\"1\" class=\"dataframe\">\n",
       "  <thead>\n",
       "    <tr style=\"text-align: right;\">\n",
       "      <th></th>\n",
       "      <th>doi</th>\n",
       "      <th>text_id</th>\n",
       "      <th>text</th>\n",
       "      <th>sdg</th>\n",
       "      <th>labels_negative</th>\n",
       "      <th>labels_positive</th>\n",
       "      <th>agreement</th>\n",
       "      <th>id</th>\n",
       "      <th>answers</th>\n",
       "    </tr>\n",
       "  </thead>\n",
       "  <tbody>\n",
       "    <tr>\n",
       "      <th>0</th>\n",
       "      <td>10.18356/5950d914-en</td>\n",
       "      <td>bf7763beb5ad7a16764d1b7fa87ab018</td>\n",
       "      <td>Indicators for targets 9.b and 9.c have data a...</td>\n",
       "      <td>9</td>\n",
       "      <td>4</td>\n",
       "      <td>5</td>\n",
       "      <td>0.111111</td>\n",
       "      <td>1</td>\n",
       "      <td>None</td>\n",
       "    </tr>\n",
       "    <tr>\n",
       "      <th>1</th>\n",
       "      <td>10.18356/5950d914-en</td>\n",
       "      <td>b6415a528064b85fdde4b4c61239ed3a</td>\n",
       "      <td>Manufacturing value added as a percentage of G...</td>\n",
       "      <td>9</td>\n",
       "      <td>0</td>\n",
       "      <td>3</td>\n",
       "      <td>1.000000</td>\n",
       "      <td>2</td>\n",
       "      <td>NaN</td>\n",
       "    </tr>\n",
       "    <tr>\n",
       "      <th>2</th>\n",
       "      <td>10.18356/31959a6d-en</td>\n",
       "      <td>29127def7e81b999b87c8e887a4fe882</td>\n",
       "      <td>To Share or Not to Share: That is the Question...</td>\n",
       "      <td>5</td>\n",
       "      <td>2</td>\n",
       "      <td>7</td>\n",
       "      <td>0.555556</td>\n",
       "      <td>3</td>\n",
       "      <td>NaN</td>\n",
       "    </tr>\n",
       "    <tr>\n",
       "      <th>3</th>\n",
       "      <td>10.1787/eco/surveys-cze-2014-6-en</td>\n",
       "      <td>459db322b9e44630320fda76783e0f69</td>\n",
       "      <td>As of 2004, parents can work without losing th...</td>\n",
       "      <td>4</td>\n",
       "      <td>2</td>\n",
       "      <td>2</td>\n",
       "      <td>0.000000</td>\n",
       "      <td>4</td>\n",
       "      <td>NaN</td>\n",
       "    </tr>\n",
       "    <tr>\n",
       "      <th>4</th>\n",
       "      <td>10.1787/9789264119536-11-en</td>\n",
       "      <td>8b7d8c6c605fe9695d08ab03d601e0e9</td>\n",
       "      <td>A question of considerable policy relevance is...</td>\n",
       "      <td>10</td>\n",
       "      <td>1</td>\n",
       "      <td>4</td>\n",
       "      <td>0.600000</td>\n",
       "      <td>5</td>\n",
       "      <td>NaN</td>\n",
       "    </tr>\n",
       "    <tr>\n",
       "      <th>...</th>\n",
       "      <td>...</td>\n",
       "      <td>...</td>\n",
       "      <td>...</td>\n",
       "      <td>...</td>\n",
       "      <td>...</td>\n",
       "      <td>...</td>\n",
       "      <td>...</td>\n",
       "      <td>...</td>\n",
       "      <td>...</td>\n",
       "    </tr>\n",
       "    <tr>\n",
       "      <th>25939</th>\n",
       "      <td>10.18356/2d07fa8a-en</td>\n",
       "      <td>eb5757e9da9a0b61a2d8a2bd352f34ce</td>\n",
       "      <td>But, in general, such programmes neither targe...</td>\n",
       "      <td>2</td>\n",
       "      <td>0</td>\n",
       "      <td>3</td>\n",
       "      <td>1.000000</td>\n",
       "      <td>25940</td>\n",
       "      <td>NaN</td>\n",
       "    </tr>\n",
       "    <tr>\n",
       "      <th>25940</th>\n",
       "      <td>10.18356/daadf51f-en</td>\n",
       "      <td>2bdeee9dff95a4a110cbb75648582558</td>\n",
       "      <td>Concentration of refugees in remote camps, as ...</td>\n",
       "      <td>4</td>\n",
       "      <td>1</td>\n",
       "      <td>8</td>\n",
       "      <td>0.777778</td>\n",
       "      <td>25941</td>\n",
       "      <td>NaN</td>\n",
       "    </tr>\n",
       "    <tr>\n",
       "      <th>25941</th>\n",
       "      <td>10.1787/9789264235151-4-en</td>\n",
       "      <td>0754b035be2628e9a06afea711a04fec</td>\n",
       "      <td>Designating 3.8 million ha for rice production...</td>\n",
       "      <td>2</td>\n",
       "      <td>0</td>\n",
       "      <td>9</td>\n",
       "      <td>1.000000</td>\n",
       "      <td>25942</td>\n",
       "      <td>NaN</td>\n",
       "    </tr>\n",
       "    <tr>\n",
       "      <th>25942</th>\n",
       "      <td>10.1787/9789264209138-3-en</td>\n",
       "      <td>7dae9220a2463cc1d2b2513c032317a8</td>\n",
       "      <td>Figure 1.1 proposes a simplified framework tha...</td>\n",
       "      <td>6</td>\n",
       "      <td>1</td>\n",
       "      <td>2</td>\n",
       "      <td>0.333333</td>\n",
       "      <td>25943</td>\n",
       "      <td>NaN</td>\n",
       "    </tr>\n",
       "    <tr>\n",
       "      <th>25943</th>\n",
       "      <td>10.1787/9789264225817-4-en</td>\n",
       "      <td>ba5110491496e704b7aadf7a9def3bb3</td>\n",
       "      <td>Experience from other OECD countries has shown...</td>\n",
       "      <td>3</td>\n",
       "      <td>0</td>\n",
       "      <td>9</td>\n",
       "      <td>1.000000</td>\n",
       "      <td>25944</td>\n",
       "      <td>NaN</td>\n",
       "    </tr>\n",
       "  </tbody>\n",
       "</table>\n",
       "<p>25944 rows × 9 columns</p>\n",
       "</div>"
      ],
      "text/plain": [
       "                                     doi                           text_id  \\\n",
       "0                   10.18356/5950d914-en  bf7763beb5ad7a16764d1b7fa87ab018   \n",
       "1                   10.18356/5950d914-en  b6415a528064b85fdde4b4c61239ed3a   \n",
       "2                   10.18356/31959a6d-en  29127def7e81b999b87c8e887a4fe882   \n",
       "3      10.1787/eco/surveys-cze-2014-6-en  459db322b9e44630320fda76783e0f69   \n",
       "4            10.1787/9789264119536-11-en  8b7d8c6c605fe9695d08ab03d601e0e9   \n",
       "...                                  ...                               ...   \n",
       "25939               10.18356/2d07fa8a-en  eb5757e9da9a0b61a2d8a2bd352f34ce   \n",
       "25940               10.18356/daadf51f-en  2bdeee9dff95a4a110cbb75648582558   \n",
       "25941         10.1787/9789264235151-4-en  0754b035be2628e9a06afea711a04fec   \n",
       "25942         10.1787/9789264209138-3-en  7dae9220a2463cc1d2b2513c032317a8   \n",
       "25943         10.1787/9789264225817-4-en  ba5110491496e704b7aadf7a9def3bb3   \n",
       "\n",
       "                                                    text  sdg  \\\n",
       "0      Indicators for targets 9.b and 9.c have data a...    9   \n",
       "1      Manufacturing value added as a percentage of G...    9   \n",
       "2      To Share or Not to Share: That is the Question...    5   \n",
       "3      As of 2004, parents can work without losing th...    4   \n",
       "4      A question of considerable policy relevance is...   10   \n",
       "...                                                  ...  ...   \n",
       "25939  But, in general, such programmes neither targe...    2   \n",
       "25940  Concentration of refugees in remote camps, as ...    4   \n",
       "25941  Designating 3.8 million ha for rice production...    2   \n",
       "25942  Figure 1.1 proposes a simplified framework tha...    6   \n",
       "25943  Experience from other OECD countries has shown...    3   \n",
       "\n",
       "       labels_negative  labels_positive  agreement     id answers  \n",
       "0                    4                5   0.111111      1    None  \n",
       "1                    0                3   1.000000      2     NaN  \n",
       "2                    2                7   0.555556      3     NaN  \n",
       "3                    2                2   0.000000      4     NaN  \n",
       "4                    1                4   0.600000      5     NaN  \n",
       "...                ...              ...        ...    ...     ...  \n",
       "25939                0                3   1.000000  25940     NaN  \n",
       "25940                1                8   0.777778  25941     NaN  \n",
       "25941                0                9   1.000000  25942     NaN  \n",
       "25942                1                2   0.333333  25943     NaN  \n",
       "25943                0                9   1.000000  25944     NaN  \n",
       "\n",
       "[25944 rows x 9 columns]"
      ]
     },
     "execution_count": 56,
     "metadata": {},
     "output_type": "execute_result"
    }
   ],
   "source": [
    "train"
   ]
  }
 ],
 "metadata": {
  "kernelspec": {
   "display_name": "Python 3.10.0 64-bit",
   "language": "python",
   "name": "python3"
  },
  "language_info": {
   "codemirror_mode": {
    "name": "ipython",
    "version": 3
   },
   "file_extension": ".py",
   "mimetype": "text/x-python",
   "name": "python",
   "nbconvert_exporter": "python",
   "pygments_lexer": "ipython3",
   "version": "3.10.0"
  },
  "vscode": {
   "interpreter": {
    "hash": "320c1f05b41b6296d6cdeadbc8f37198b22e160db062b16d8b8cc9d95c25d782"
   }
  }
 },
 "nbformat": 4,
 "nbformat_minor": 5
}
