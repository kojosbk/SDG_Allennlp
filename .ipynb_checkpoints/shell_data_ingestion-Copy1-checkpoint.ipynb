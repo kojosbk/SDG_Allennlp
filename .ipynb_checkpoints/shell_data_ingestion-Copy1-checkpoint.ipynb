{
 "cells": [
  {
   "cell_type": "code",
   "execution_count": 51,
   "id": "02956209",
   "metadata": {},
   "outputs": [],
   "source": [
    "#Do not run, except you want to reset the list\n",
    "\n",
    "article_urls = []\n",
    "output_data = []"
   ]
  },
  {
   "cell_type": "code",
   "execution_count": 2,
   "id": "1db4f276",
   "metadata": {},
   "outputs": [],
   "source": [
    "#IMPORT DEPENDENCIES\n",
    "\n",
    "import newspaper\n",
    "from newspaper import Article\n",
    "from newspaper import fulltext\n",
    "import nltk\n",
    "import requests\n",
    "import re\n",
    "\n",
    "import pandas as pd\n",
    "import numpy as np\n"
   ]
  },
  {
   "cell_type": "code",
   "execution_count": 52,
   "id": "e77437ce",
   "metadata": {},
   "outputs": [],
   "source": [
    "shell_search_webpages = [\n",
    "                   'https://www.shell.com/media/news-and-media-releases.html'                \n",
    "                  ]\n",
    "\n"
   ]
  },
  {
   "cell_type": "code",
   "execution_count": 53,
   "id": "abbdde80",
   "metadata": {},
   "outputs": [],
   "source": [
    "#Extract individual urls in the wepage and append them to the article_urls list\n",
    "#if \"active_url\" block was reset--in the first code block,un-comment the memoize_articles to prevent caching\n",
    "def process_records(url_source):\n",
    "    for webpage in url_source:\n",
    "        news_portal = newspaper.build(webpage,memoize_articles=False)\n",
    "        for article in news_portal.articles:\n",
    "            article_urls.append(article.url) "
   ]
  },
  {
   "cell_type": "code",
   "execution_count": null,
   "id": "197874b4",
   "metadata": {},
   "outputs": [],
   "source": [
    "process_records(shell_search_webpages)"
   ]
  },
  {
   "cell_type": "code",
   "execution_count": 54,
   "id": "f563b760",
   "metadata": {},
   "outputs": [
    {
     "data": {
      "text/plain": [
       "1151"
      ]
     },
     "execution_count": 54,
     "metadata": {},
     "output_type": "execute_result"
    }
   ],
   "source": [
    "len(article_urls)"
   ]
  },
  {
   "cell_type": "markdown",
   "id": "95bbb993",
   "metadata": {},
   "source": [
    "**SEND NOTIFICATION FOR SUCCESS OR FAILURE OF URLS EXTRACTION (IF POSSIBLE, WITH THE NUMBERS OF URLS EXTRACTED)"
   ]
  },
  {
   "cell_type": "code",
   "execution_count": null,
   "id": "4bd6ac2e",
   "metadata": {},
   "outputs": [],
   "source": [
    "error_readings = 0 #variable to count fetch url errors\n",
    "\n",
    "def scrape_article():\n",
    "    for url in article_urls:\n",
    "        try:\n",
    "            article = Article(url) #pass the url through the Article object\n",
    "            article.download() #download the published article of the url\n",
    "            \n",
    "            #NLP preparation\n",
    "            article.parse() #prepare the article for nlp extractions\n",
    "            article.download('punkt') #download 'punkt' to enable tokenization\n",
    "            article.nlp() #enable Natural Language Processing\n",
    "            \n",
    "            #Extract html text\n",
    "            html = requests.get(url).text\n",
    "            text = fulltext(html)\n",
    "            \n",
    "            #Remove HTML tags\n",
    "            TAG_RE = re.compile(r'<[^>]+>')\n",
    "            clean_text = TAG_RE.sub('', text)\n",
    "            new_text = ' '.join(clean_text.splitlines())\n",
    "            \n",
    "            #Remove square brackets\n",
    "            authors = ','.join(map(str,article.authors))\n",
    "            keywords = ','.join(map(str,article.keywords))\n",
    "           \n",
    "            \n",
    "            output = [article.title,authors,url,new_text,keywords,article.publish_date]\n",
    "            output_data.append(output)\n",
    "        except:\n",
    "            error_readings += 1\n",
    "\n",
    "\n",
    "\n",
    "scrape_article()       "
   ]
  },
  {
   "cell_type": "code",
   "execution_count": 48,
   "id": "62b92846",
   "metadata": {},
   "outputs": [
    {
     "data": {
      "text/plain": [
       "147"
      ]
     },
     "execution_count": 48,
     "metadata": {},
     "output_type": "execute_result"
    }
   ],
   "source": [
    "len(output_data)"
   ]
  },
  {
   "cell_type": "markdown",
   "id": "80796285",
   "metadata": {},
   "source": [
    "**SEND NOTIFICATION FOR SUCCESS OR FAILURE OF ARTICLE PROPERTIES EXTRACTION (IF POSSIBLE, WITH THE NUMBERS OF SUCCESSFUL ONES & REASONS FOR FAILURE)"
   ]
  },
  {
   "cell_type": "code",
   "execution_count": 25,
   "id": "a50db5b5",
   "metadata": {},
   "outputs": [
    {
     "data": {
      "text/plain": [
       "0"
      ]
     },
     "execution_count": 25,
     "metadata": {},
     "output_type": "execute_result"
    }
   ],
   "source": [
    "error_readings"
   ]
  },
  {
   "cell_type": "code",
   "execution_count": 49,
   "id": "a418b6dc",
   "metadata": {},
   "outputs": [],
   "source": [
    "df = pd.DataFrame(output_data)\n",
    "df.columns = [\"title\",\"authors\",\"url\",\"text\",\"keywords\",\"publish_date\"]"
   ]
  },
  {
   "cell_type": "code",
   "execution_count": 50,
   "id": "d6f78e4f",
   "metadata": {},
   "outputs": [
    {
     "data": {
      "text/html": [
       "<div>\n",
       "<style scoped>\n",
       "    .dataframe tbody tr th:only-of-type {\n",
       "        vertical-align: middle;\n",
       "    }\n",
       "\n",
       "    .dataframe tbody tr th {\n",
       "        vertical-align: top;\n",
       "    }\n",
       "\n",
       "    .dataframe thead th {\n",
       "        text-align: right;\n",
       "    }\n",
       "</style>\n",
       "<table border=\"1\" class=\"dataframe\">\n",
       "  <thead>\n",
       "    <tr style=\"text-align: right;\">\n",
       "      <th></th>\n",
       "      <th>title</th>\n",
       "      <th>authors</th>\n",
       "      <th>url</th>\n",
       "      <th>text</th>\n",
       "      <th>keywords</th>\n",
       "      <th>publish_date</th>\n",
       "    </tr>\n",
       "  </thead>\n",
       "  <tbody>\n",
       "    <tr>\n",
       "      <th>0</th>\n",
       "      <td>Introducing the new Guardian app for Android a...</td>\n",
       "      <td></td>\n",
       "      <td>https://www.theguardian.com/mobile/2014/may/29...</td>\n",
       "      <td>As it happens not after it happened  Get the l...</td>\n",
       "      <td>guardian,introducing,way,tier,android,happens,...</td>\n",
       "      <td>2014-05-29</td>\n",
       "    </tr>\n",
       "    <tr>\n",
       "      <th>1</th>\n",
       "      <td>Oil and gas firms’ green investments fail to m...</td>\n",
       "      <td>Damien Gayle</td>\n",
       "      <td>https://www.theguardian.com/environment/2022/s...</td>\n",
       "      <td>Big oil and gas companies are spending tens of...</td>\n",
       "      <td>gas,energy,companies,fail,oil,communications,i...</td>\n",
       "      <td>2022-09-08</td>\n",
       "    </tr>\n",
       "    <tr>\n",
       "      <th>2</th>\n",
       "      <td>UK’s broadband firms set for £1.7bn windfall w...</td>\n",
       "      <td>Mark Sweney</td>\n",
       "      <td>https://www.theguardian.com/business/2022/sep/...</td>\n",
       "      <td>The UK’s biggest broadband providers are to be...</td>\n",
       "      <td>does,privacy,provider,telecoms,price,aboveinfl...</td>\n",
       "      <td>2022-09-07</td>\n",
       "    </tr>\n",
       "    <tr>\n",
       "      <th>3</th>\n",
       "      <td>Shell boss Ben van Beurden prepares to stand d...</td>\n",
       "      <td>Kalyeena Makortoff</td>\n",
       "      <td>https://www.theguardian.com/business/2022/sep/...</td>\n",
       "      <td>Shell’s long-serving chief executive, Ben van ...</td>\n",
       "      <td>energy,reports,gas,privacy,profits,prepares,va...</td>\n",
       "      <td>2022-09-02</td>\n",
       "    </tr>\n",
       "    <tr>\n",
       "      <th>4</th>\n",
       "      <td>South African court bans offshore oil and gas ...</td>\n",
       "      <td></td>\n",
       "      <td>https://www.theguardian.com/environment/2022/s...</td>\n",
       "      <td>A South African court has upheld a ban imposed...</td>\n",
       "      <td>gas,energy,sq,south,oil,court,offshore,waves,s...</td>\n",
       "      <td>2022-09-01</td>\n",
       "    </tr>\n",
       "    <tr>\n",
       "      <th>...</th>\n",
       "      <td>...</td>\n",
       "      <td>...</td>\n",
       "      <td>...</td>\n",
       "      <td>...</td>\n",
       "      <td>...</td>\n",
       "      <td>...</td>\n",
       "    </tr>\n",
       "    <tr>\n",
       "      <th>142</th>\n",
       "      <td>All bound for Moormerland! Dreams of a small G...</td>\n",
       "      <td></td>\n",
       "      <td>https://www.theguardian.com/artanddesign/galle...</td>\n",
       "      <td>UFO, 2021 Autofiction is at the heart of the p...</td>\n",
       "      <td>interrogate,dreams,pictures,scenarios,ufo,ques...</td>\n",
       "      <td>2022-09-13</td>\n",
       "    </tr>\n",
       "    <tr>\n",
       "      <th>143</th>\n",
       "      <td>Acclaimed photographer Roger Bamber – a life i...</td>\n",
       "      <td>Arnel Hecimovic,Photograph,Roger Bamber Alamy,...</td>\n",
       "      <td>https://www.theguardian.com/artanddesign/galle...</td>\n",
       "      <td>The photographer Roger Bamber had an unrivalle...</td>\n",
       "      <td>university,pictures,worked,street,wealth,accla...</td>\n",
       "      <td>2022-09-13</td>\n",
       "    </tr>\n",
       "    <tr>\n",
       "      <th>144</th>\n",
       "      <td>Ukraine’s officials claim to have discovered ‘...</td>\n",
       "      <td>Maya Yang,Vivian Ho,Martin Belam,Martin Farrer</td>\n",
       "      <td>https://www.theguardian.com/world/live/2022/se...</td>\n",
       "      <td>From 9h ago 16.17 Ukraine’s officials claim to...</td>\n",
       "      <td>ukraines,claim,ukraine,ukrainian,used,kharkiv,...</td>\n",
       "      <td>2022-09-14</td>\n",
       "    </tr>\n",
       "    <tr>\n",
       "      <th>145</th>\n",
       "      <td>Terms and Conditions for Subscription Content ...</td>\n",
       "      <td></td>\n",
       "      <td>https://www.theguardian.com/info/2016/mar/03/t...</td>\n",
       "      <td>Please read these terms carefully. You shall b...</td>\n",
       "      <td>api,shall,party,client,terms,agreement,conditi...</td>\n",
       "      <td>2016-03-03</td>\n",
       "    </tr>\n",
       "    <tr>\n",
       "      <th>146</th>\n",
       "      <td>Terms and Conditions for Non-Subscription Cont...</td>\n",
       "      <td></td>\n",
       "      <td>https://www.theguardian.com/info/2016/may/13/t...</td>\n",
       "      <td>Please read these terms carefully. You shall b...</td>\n",
       "      <td>shall,party,client,terms,agreement,conditions,...</td>\n",
       "      <td>2016-05-13</td>\n",
       "    </tr>\n",
       "  </tbody>\n",
       "</table>\n",
       "<p>147 rows × 6 columns</p>\n",
       "</div>"
      ],
      "text/plain": [
       "                                                 title  \\\n",
       "0    Introducing the new Guardian app for Android a...   \n",
       "1    Oil and gas firms’ green investments fail to m...   \n",
       "2    UK’s broadband firms set for £1.7bn windfall w...   \n",
       "3    Shell boss Ben van Beurden prepares to stand d...   \n",
       "4    South African court bans offshore oil and gas ...   \n",
       "..                                                 ...   \n",
       "142  All bound for Moormerland! Dreams of a small G...   \n",
       "143  Acclaimed photographer Roger Bamber – a life i...   \n",
       "144  Ukraine’s officials claim to have discovered ‘...   \n",
       "145  Terms and Conditions for Subscription Content ...   \n",
       "146  Terms and Conditions for Non-Subscription Cont...   \n",
       "\n",
       "                                               authors  \\\n",
       "0                                                        \n",
       "1                                         Damien Gayle   \n",
       "2                                          Mark Sweney   \n",
       "3                                   Kalyeena Makortoff   \n",
       "4                                                        \n",
       "..                                                 ...   \n",
       "142                                                      \n",
       "143  Arnel Hecimovic,Photograph,Roger Bamber Alamy,...   \n",
       "144     Maya Yang,Vivian Ho,Martin Belam,Martin Farrer   \n",
       "145                                                      \n",
       "146                                                      \n",
       "\n",
       "                                                   url  \\\n",
       "0    https://www.theguardian.com/mobile/2014/may/29...   \n",
       "1    https://www.theguardian.com/environment/2022/s...   \n",
       "2    https://www.theguardian.com/business/2022/sep/...   \n",
       "3    https://www.theguardian.com/business/2022/sep/...   \n",
       "4    https://www.theguardian.com/environment/2022/s...   \n",
       "..                                                 ...   \n",
       "142  https://www.theguardian.com/artanddesign/galle...   \n",
       "143  https://www.theguardian.com/artanddesign/galle...   \n",
       "144  https://www.theguardian.com/world/live/2022/se...   \n",
       "145  https://www.theguardian.com/info/2016/mar/03/t...   \n",
       "146  https://www.theguardian.com/info/2016/may/13/t...   \n",
       "\n",
       "                                                  text  \\\n",
       "0    As it happens not after it happened  Get the l...   \n",
       "1    Big oil and gas companies are spending tens of...   \n",
       "2    The UK’s biggest broadband providers are to be...   \n",
       "3    Shell’s long-serving chief executive, Ben van ...   \n",
       "4    A South African court has upheld a ban imposed...   \n",
       "..                                                 ...   \n",
       "142  UFO, 2021 Autofiction is at the heart of the p...   \n",
       "143  The photographer Roger Bamber had an unrivalle...   \n",
       "144  From 9h ago 16.17 Ukraine’s officials claim to...   \n",
       "145  Please read these terms carefully. You shall b...   \n",
       "146  Please read these terms carefully. You shall b...   \n",
       "\n",
       "                                              keywords publish_date  \n",
       "0    guardian,introducing,way,tier,android,happens,...   2014-05-29  \n",
       "1    gas,energy,companies,fail,oil,communications,i...   2022-09-08  \n",
       "2    does,privacy,provider,telecoms,price,aboveinfl...   2022-09-07  \n",
       "3    energy,reports,gas,privacy,profits,prepares,va...   2022-09-02  \n",
       "4    gas,energy,sq,south,oil,court,offshore,waves,s...   2022-09-01  \n",
       "..                                                 ...          ...  \n",
       "142  interrogate,dreams,pictures,scenarios,ufo,ques...   2022-09-13  \n",
       "143  university,pictures,worked,street,wealth,accla...   2022-09-13  \n",
       "144  ukraines,claim,ukraine,ukrainian,used,kharkiv,...   2022-09-14  \n",
       "145  api,shall,party,client,terms,agreement,conditi...   2016-03-03  \n",
       "146  shall,party,client,terms,agreement,conditions,...   2016-05-13  \n",
       "\n",
       "[147 rows x 6 columns]"
      ]
     },
     "execution_count": 50,
     "metadata": {},
     "output_type": "execute_result"
    }
   ],
   "source": [
    "df"
   ]
  },
  {
   "cell_type": "code",
   "execution_count": null,
   "id": "3ed739fa",
   "metadata": {},
   "outputs": [],
   "source": []
  }
 ],
 "metadata": {
  "kernelspec": {
   "display_name": "Python 3 (ipykernel)",
   "language": "python",
   "name": "python3"
  },
  "language_info": {
   "codemirror_mode": {
    "name": "ipython",
    "version": 3
   },
   "file_extension": ".py",
   "mimetype": "text/x-python",
   "name": "python",
   "nbconvert_exporter": "python",
   "pygments_lexer": "ipython3",
   "version": "3.9.7"
  }
 },
 "nbformat": 4,
 "nbformat_minor": 5
}
