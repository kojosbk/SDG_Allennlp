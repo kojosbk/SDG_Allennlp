{
 "cells": [
  {
   "cell_type": "code",
   "execution_count": 1,
   "id": "acf76510",
   "metadata": {},
   "outputs": [],
   "source": [
    "import numpy as np\n",
    "from scipy import stats\n",
    "import pandas as pd\n",
    "import time\n",
    "\n",
    "from allennlp.predictors import Predictor\n",
    "from allennlp_models.pretrained import load_predictor"
   ]
  },
  {
   "cell_type": "markdown",
   "id": "40eb8d0f",
   "metadata": {},
   "source": [
    "# Load Models"
   ]
  },
  {
   "cell_type": "code",
   "execution_count": 2,
   "id": "f9d6e98b",
   "metadata": {},
   "outputs": [],
   "source": [
    "nlp_models = [\n",
    "    { 'name' : 'ner-model',\n",
    "      'url': 'https://storage.googleapis.com/allennlp-public-models/ner-model-2020.02.10.tar.gz'\n",
    "    },\n",
    "    { 'name' : 'ner-elmo',\n",
    "      'url' : 'https://storage.googleapis.com/allennlp-public-models/ner-elmo.2021-02-12.tar.gz',\n",
    "    },\n",
    "]"
   ]
  },
  {
   "cell_type": "code",
   "execution_count": 3,
   "id": "9766901d",
   "metadata": {},
   "outputs": [
    {
     "name": "stdout",
     "output_type": "stream",
     "text": [
      "Loading models...\n",
      "Loading model : ner-model\n"
     ]
    },
    {
     "name": "stderr",
     "output_type": "stream",
     "text": [
      "error loading _jsonnet (this is expected on Windows), treating C:\\Users\\user\\AppData\\Local\\Temp\\tmp549me0mu\\config.json as plain json\n",
      "C:\\Users\\user\\anaconda3\\lib\\site-packages\\allennlp\\data\\token_indexers\\token_characters_indexer.py:55: UserWarning: You are using the default value (0) of `min_padding_length`, which can cause some subtle bugs (more info see https://github.com/allenai/allennlp/issues/1954). Strongly recommend to set a value, usually the maximum size of the convolutional layer size when using CnnEncoder.\n",
      "  warnings.warn(\n"
     ]
    },
    {
     "name": "stdout",
     "output_type": "stream",
     "text": [
      "Loaded model 'ner-model' in 64,565.5 milli seconds\n",
      "Loading model : ner-elmo\n"
     ]
    },
    {
     "name": "stderr",
     "output_type": "stream",
     "text": [
      "error loading _jsonnet (this is expected on Windows), treating C:\\Users\\user\\AppData\\Local\\Temp\\tmp83_0q9lb\\config.json as plain json\n"
     ]
    },
    {
     "name": "stdout",
     "output_type": "stream",
     "text": [
      "Loaded model 'ner-elmo' in 72,015.0 milli seconds\n",
      "\n"
     ]
    }
   ],
   "source": [
    "## load models\n",
    "print (\"Loading models...\")\n",
    "for nlp_model in nlp_models:\n",
    "    print (\"Loading model :\", nlp_model['name'])\n",
    "    t1 = time.perf_counter()\n",
    "    nlp_model['model'] = Predictor.from_path(nlp_model['url'])\n",
    "    t2 = time.perf_counter()\n",
    "    print (\"Loaded model '{}' in {:,.1f} milli seconds\".format (nlp_model['name'], (t2-t1)*1e3))\n",
    "print ()"
   ]
  },
  {
   "cell_type": "code",
   "execution_count": 8,
   "id": "943b396f",
   "metadata": {},
   "outputs": [],
   "source": [
    "def entity_recognition (sentence):\n",
    "    miscellaneous = []\n",
    "    person = []\n",
    "    organisation = []\n",
    "    location = []\n",
    "    for nlp_model in nlp_models:\n",
    "        t1 = time.perf_counter()\n",
    "        results =  nlp_model['model'].predict(sentence=sentence)\n",
    "        t2 = time.perf_counter()\n",
    "        print (\"   model {} predicted in {:,.1f} milli seconds\".format (nlp_model['name'], (t2-t1)*1e3))\n",
    "        for word, tag in zip(results[\"words\"], results[\"tags\"]):\n",
    "            if tag == 'O':\n",
    "                continue\n",
    "            else:\n",
    "                print(f\"{word}\\t{tag}\")\n",
    "        print()\n",
    "        #return results\n",
    "\n",
    "    print('-------------------')"
   ]
  },
  {
   "cell_type": "markdown",
   "id": "f42d3e26",
   "metadata": {},
   "source": [
    "# Load Data"
   ]
  },
  {
   "cell_type": "code",
   "execution_count": 9,
   "id": "7b57f558",
   "metadata": {},
   "outputs": [],
   "source": [
    "sentences = pd.read_csv('guardian_publications.csv')"
   ]
  },
  {
   "cell_type": "code",
   "execution_count": 10,
   "id": "7931c011",
   "metadata": {},
   "outputs": [],
   "source": [
    "def get_entities(df):\n",
    "    for name, values in sentences.text.iteritems():\n",
    "        x = name,values\n",
    "        sentence = str(x)\n",
    "        entity_recognition(sentence)"
   ]
  },
  {
   "cell_type": "code",
   "execution_count": null,
   "id": "811e911f",
   "metadata": {},
   "outputs": [
    {
     "name": "stdout",
     "output_type": "stream",
     "text": [
      "   model ner-model predicted in 32,470.1 milli seconds\n",
      "Shell\tU-ORG\n",
      "Ben\tB-PER\n",
      "van\tI-PER\n",
      "Beurden\tL-PER\n",
      "Reuters\tU-ORG\n",
      "London\tU-LOC\n",
      "Andrew\tB-PER\n",
      "Mackenzie\tL-PER\n",
      "Shell\tU-ORG\n",
      "Van\tB-PER\n",
      "Beurden\tL-PER\n",
      "Shell\tU-ORG\n",
      "Europe\tU-LOC\n",
      "Van\tB-PER\n",
      "Beurden\tL-PER\n",
      "Canadian\tU-MISC\n",
      "Shell\tU-ORG\n",
      "Wael\tB-PER\n",
      "Sawan\tL-PER\n",
      "Shell\tU-ORG\n",
      "Reuters\tU-ORG\n",
      "Shell\tU-ORG\n",
      "Sinead\tB-PER\n",
      "Gorman\tL-PER\n",
      "Zoe\tB-PER\n",
      "Yujnovich\tL-PER\n",
      "Huibert\tB-PER\n",
      "Vigeveno\tL-PER\n",
      "Shell\tU-ORG\n",
      "Van\tB-PER\n",
      "Beurden\tL-PER\n",
      "Shell\tU-ORG\n",
      "BG\tB-ORG\n",
      "Group\tL-ORG\n",
      "Netherlands\tU-LOC\n",
      "London\tU-LOC\n",
      "Van\tB-PER\n",
      "Beurden\tL-PER\n",
      "Shell\tU-ORG\n",
      "UK\tU-LOC\n",
      "Van\tB-PER\n",
      "Beurden\tL-PER\n",
      "Russia\tU-LOC\n",
      "Ukraine\tU-LOC\n",
      "Norway\tU-LOC\n",
      "Van\tB-PER\n",
      "Beurden\tL-PER\n",
      "Business\tB-ORG\n",
      "Today\tI-ORG\n",
      "Free\tL-ORG\n",
      "Newsletters\tU-ORG\n",
      "Privacy\tB-MISC\n",
      "Policy\tL-MISC\n",
      "Google\tB-MISC\n",
      "reCaptcha\tL-MISC\n",
      "Google\tB-MISC\n",
      "Privacy\tI-MISC\n",
      "Policy\tL-MISC\n",
      "Terms\tB-MISC\n",
      "of\tI-MISC\n",
      "Service\tL-MISC\n",
      "Shell\tU-ORG\n",
      "\n",
      "   model ner-elmo predicted in 38,981.6 milli seconds\n",
      "Shell\tU-ORG\n",
      "Ben\tB-PER\n",
      "van\tI-PER\n",
      "Beurden\tL-PER\n",
      "Reuters\tU-ORG\n",
      "London\tU-LOC\n",
      "Andrew\tB-PER\n",
      "Mackenzie\tL-PER\n",
      "Shell\tU-ORG\n",
      "Van\tB-PER\n",
      "Beurden\tL-PER\n",
      "Shell\tU-ORG\n",
      "Europe\tU-LOC\n",
      "Van\tB-PER\n",
      "Beurden\tL-PER\n",
      "Canadian\tU-MISC\n",
      "Shell\tU-ORG\n",
      "Wael\tB-PER\n",
      "Sawan\tL-PER\n",
      "Shell\tU-ORG\n",
      "Reuters\tU-ORG\n",
      "Shell\tU-ORG\n",
      "Sinead\tB-PER\n",
      "Gorman\tL-PER\n",
      "Zoe\tB-PER\n",
      "Yujnovich\tL-PER\n",
      "Huibert\tB-PER\n",
      "Vigeveno\tL-PER\n",
      "Shell\tU-ORG\n",
      "Van\tB-PER\n",
      "Beurden\tL-PER\n",
      "Shell\tU-ORG\n",
      "BG\tB-ORG\n",
      "Group\tL-ORG\n",
      "Netherlands\tU-LOC\n",
      "London\tU-LOC\n",
      "Van\tB-PER\n",
      "Beurden\tL-PER\n",
      "Shell\tU-ORG\n",
      "UK\tU-LOC\n",
      "Van\tB-PER\n",
      "Beurden\tL-PER\n",
      "Russia\tU-LOC\n",
      "Ukraine\tU-LOC\n",
      "Norway\tU-LOC\n",
      "Van\tB-PER\n",
      "Beurden\tL-PER\n",
      "Business\tB-ORG\n",
      "Today\tI-ORG\n",
      "Free\tL-ORG\n",
      "Privacy\tB-MISC\n",
      "Policy\tL-MISC\n",
      "Google\tB-MISC\n",
      "reCaptcha\tL-MISC\n",
      "Google\tB-MISC\n",
      "Privacy\tI-MISC\n",
      "Policy\tL-MISC\n",
      "Shell\tU-ORG\n",
      "\n",
      "-------------------\n"
     ]
    }
   ],
   "source": [
    "final=sentences[\"text\"].head(1).apply(get_entities)\n",
    "final"
   ]
  },
  {
   "cell_type": "code",
   "execution_count": null,
   "id": "a49a2e1a",
   "metadata": {},
   "outputs": [],
   "source": []
  }
 ],
 "metadata": {
  "kernelspec": {
   "display_name": "Python 3.10.0 64-bit",
   "language": "python",
   "name": "python3"
  },
  "language_info": {
   "codemirror_mode": {
    "name": "ipython",
    "version": 3
   },
   "file_extension": ".py",
   "mimetype": "text/x-python",
   "name": "python",
   "nbconvert_exporter": "python",
   "pygments_lexer": "ipython3",
   "version": "3.10.0"
  },
  "vscode": {
   "interpreter": {
    "hash": "320c1f05b41b6296d6cdeadbc8f37198b22e160db062b16d8b8cc9d95c25d782"
   }
  }
 },
 "nbformat": 4,
 "nbformat_minor": 5
}
