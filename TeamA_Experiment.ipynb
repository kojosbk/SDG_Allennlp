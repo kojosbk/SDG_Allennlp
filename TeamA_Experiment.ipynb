{
 "cells": [
  {
   "cell_type": "markdown",
   "metadata": {},
   "source": [
    "## Experement Presentation by Team_A"
   ]
  },
  {
   "cell_type": "markdown",
   "metadata": {},
   "source": [
    "## Objectives\n",
    "\n",
    "- surmarize a normal passage a combination of extractive and abstractive techniques then after apply it on googles T5 text summarizer\n",
    "\n",
    "- adjust text leanght and observe the outcomes\n",
    "\n",
    "- apply the above  on a data frame\n",
    "\n",
    "- demonstrate a question and answer Model\n",
    "\n",
    "- Apply the question and answer model on a data frame"
   ]
  },
  {
   "cell_type": "markdown",
   "metadata": {},
   "source": [
    "### 1  Setting up necessary libraries"
   ]
  },
  {
   "cell_type": "code",
   "execution_count": 67,
   "metadata": {},
   "outputs": [
    {
     "name": "stderr",
     "output_type": "stream",
     "text": [
      "error loading _jsonnet (this is expected on Windows), treating C:\\Users\\SILAS_~1\\AppData\\Local\\Temp\\tmp12b_bozb\\config.json as plain json\n"
     ]
    }
   ],
   "source": [
    "import numpy as np\n",
    "from scipy import stats\n",
    "import pandas as pd\n",
    "\n",
    "#models\n",
    "from allennlp.predictors.predictor import Predictor\n",
    "import torch\n",
    "from transformers import AutoTokenizer, AutoModelForSeq2SeqLM\n",
    "from summarizer import Summarizer\n",
    "predictor = Predictor.from_path(\"C:/Users/Silas_Dell/Downloads/Compressed/bidaf-elmo.2021-02-11.tar_2.gz\")\n",
    "\n",
    "# Suppressing unnwarranted warnings\n",
    "import warnings\n",
    "warnings.filterwarnings(\"ignore\")"
   ]
  },
  {
   "cell_type": "code",
   "execution_count": 11,
   "metadata": {},
   "outputs": [],
   "source": [
    "# Load Model and Tokenizer\n",
    "model = AutoModelForSeq2SeqLM.from_pretrained('t5-base')\n",
    "tokenizer = AutoTokenizer.from_pretrained('t5-base')"
   ]
  },
  {
   "cell_type": "markdown",
   "id": "brave-context",
   "metadata": {},
   "source": [
    "### Input Text\n",
    "\n"
   ]
  },
  {
   "cell_type": "code",
   "execution_count": 12,
   "metadata": {},
   "outputs": [],
   "source": [
    "text = \"\"\"\n",
    "New York (CNN Business)Netflix is synonymous with streaming, but its competitors have a distinct advantage that threatens the streaming leader's position at the top.\n",
    "Disney has Disney+, but it also has theme parks, plush Baby Yoda dolls, blockbuster Marvel movies and ESPN. Comcast (CMCSA), Amazon (AMZN), ViacomCBS (VIACA), CNN's parent company WarnerMedia and Apple (AAPL) all have their own streaming services, too, but they also have other forms of revenue.\n",
    "As for Netflix (NFLX), its revenue driver is based entirely on building its subscriber base. It's worked out well for the company - so far. But it's starting to look like the king of streaming will soon need something other than new subscribers to keep growing.\n",
    "The streaming service reported Tuesday it now has 208 million subscribers globally, after adding 4 million subscribers in the first quarter of 2021. But that number missed expectations and the forecasts for its next quarter were also pretty weak.\n",
    "That was a big whiff for Netflix - a company coming off a massive year of growth thanks in large part to the pandemic driving people indoors - and Wall Street's reaction has not been great.\n",
    "The company's stock dropped as much as 8% on Wednesday, leading some to wonder what the future of the streamer looks like if competition continues to gain strength, people start heading outdoors and if, most importantly, its growth slows.\n",
    "\"If you hit a wall with [subscriptions] then you pretty much don't have a super growth strategy anymore in your most developed markets,\" Michael Nathanson, a media analyst and founding partner at MoffettNathanson, told CNN Business. \"What can they do to take even more revenue out of the market, above and beyond streaming revenues?\"\n",
    "Or put another way, the company's lackluster user growth last quarter is a signal that it wouldn't hurt if Netflix - a company that's lived and died with its subscriber numbers - started thinking about other ways to make money.\n",
    "An ad-supported Netflix? Not so fast\n",
    "There are ways for Netflix to make money other than raising prices or adding subscribers. The most obvious: selling advertising.\n",
    "Netflix could have 30-second commercials on their programming or get sponsors for their biggest series and films. TV has worked that way forever, why not Netflix?\n",
    "That's probably not going to happen, given that CEO Reed Hastings has been vocal about the unlikelihood of an ad-supported Netflix service. His reasoning: It doesn't make business sense.\n",
    "\"It's a judgment call... It's a belief we can build a better business, a more valuable business [without advertising],\" Hastings told Variety in September. \"You know, advertising looks easy until you get in it. Then you realize you have to rip that revenue away from other places because the total ad market isn't growing, and in fact right now it's shrinking. It's hand-to-hand combat to get people to spend less on, you know, ABC and to spend more on Netflix.\"\n",
    "Hastings added that \"there's much more growth in the consumer market than there is in advertising, which is pretty flat.\"\n",
    "He's also expressed doubts about Netflix getting into live sports or news, which could boost the service's allure to subscribers, so that's likely out, too, at least for now.\n",
    "So if Netflix is looking for other forms of near-term revenue to help support its hefty content budget ($17 billion in 2021 alone) then what can it do? There is one place that could be a revenue driver for Netflix, but if you're borrowing your mother's account you won't like it.\n",
    "Netflix could crack down on password sharing - a move that the company has been considering lately.\n",
    "\"Basically you're going to clean up some subscribers that are free riders,\" Nathanson said. \"That's going to help them get to a higher level of penetration, definitely, but not in long-term.\"\n",
    "Lackluster growth is still growth\n",
    "Missing projections is never good, but it's hardly the end of the world for Netflix. The company remains the market leader and most competitors are still far from taking the company on. And while Netflix's first-quarter subscriber growth wasn't great, and its forecasts for the next quarter alarmed investors, it was just one quarter.\n",
    "Netflix has had subscriber misses before and it's still the most dominant name in all of streaming, and even lackluster growth is still growth. It's not as if people are canceling Netflix in droves.\n",
    "Asked about Netflix's \"second act\" during the company's post-earnings call on Tuesday, Hastings again placed the company's focus on pleasing subscribers.\n",
    "\"We do want to expand. We used to do that thing shipping DVDs, and luckily we didn't get stuck with that. We didn't define that as the main thing. We define entertainment as the main thing,\" Hastings said.\n",
    "He added that he doesn't think Netflix will have a second act in the way Amazon has had with Amazon shopping and Amazon Web Services. Rather, Netflix will continue to improve and grow on what it already does best.\n",
    "\"I'll bet we end with one hopefully gigantic, hopefully defensible profit pool, and continue to improve the service for our members,\" he said. \"I wouldn't look for any large secondary pool of profits. There will be a bunch of supporting pools, like consumer products, that can be both profitable and can support the title brands.\n",
    "\"\"\""
   ]
  },
  {
   "cell_type": "markdown",
   "id": "fifty-contact",
   "metadata": {},
   "source": [
    "## Tokenize Text"
   ]
  },
  {
   "cell_type": "code",
   "execution_count": 13,
   "id": "entitled-indication",
   "metadata": {},
   "outputs": [],
   "source": [
    "tokens_input = tokenizer.encode(\"summarize: \"+text, return_tensors='pt', \n",
    "                                max_length=tokenizer.model_max_length, \n",
    "                                truncation=True)"
   ]
  },
  {
   "cell_type": "code",
   "execution_count": 14,
   "id": "resident-dream",
   "metadata": {},
   "outputs": [],
   "source": [
    "summary_ids = model.generate(tokens_input, min_length=80,\n",
    "                             max_length=150,\n",
    "                             length_penalty=20, \n",
    "                             num_beams=2)\n",
    "\n",
    "summary = tokenizer.decode(summary_ids[0], skip_special_tokens=True)"
   ]
  },
  {
   "cell_type": "code",
   "execution_count": 15,
   "id": "comic-tribe",
   "metadata": {},
   "outputs": [
    {
     "name": "stdout",
     "output_type": "stream",
     "text": [
      "Netflix (NFLX) reported Tuesday it now has 208 million subscribers globally. that number missed expectations and the forecasts for its next quarter were also pretty weak. the streaming service's stock dropped as much as 8% on Wednesday, leading some to wonder what the future of the streamer looks like. if competition continues to gain strength, people start heading outdoors and if, most importantly, its growth slows, it wouldn't hurt if Netflix started thinking about other ways to make money - like selling ads.\n"
     ]
    }
   ],
   "source": [
    "print(summary)"
   ]
  },
  {
   "cell_type": "code",
   "execution_count": 16,
   "id": "lasting-microphone",
   "metadata": {},
   "outputs": [
    {
     "name": "stderr",
     "output_type": "stream",
     "text": [
      "Token indices sequence length is longer than the specified maximum sequence length for this model (1237 > 512). Running this sequence through the model will result in indexing errors\n"
     ]
    },
    {
     "data": {
      "text/plain": [
       "1237"
      ]
     },
     "execution_count": 16,
     "metadata": {},
     "output_type": "execute_result"
    }
   ],
   "source": [
    "# number of tokens generated from the text using T5 Tokenizer\n",
    "len(tokenizer(text)['input_ids'])"
   ]
  },
  {
   "cell_type": "markdown",
   "id": "junior-amount",
   "metadata": {},
   "source": [
    "Using BERT summarizer to extract only top 50% of sentences that are considered important."
   ]
  },
  {
   "cell_type": "code",
   "execution_count": 17,
   "id": "hollow-optimization",
   "metadata": {},
   "outputs": [
    {
     "name": "stderr",
     "output_type": "stream",
     "text": [
      "Some weights of the model checkpoint at bert-large-uncased were not used when initializing BertModel: ['cls.seq_relationship.bias', 'cls.predictions.transform.LayerNorm.bias', 'cls.predictions.decoder.weight', 'cls.predictions.transform.dense.bias', 'cls.predictions.transform.dense.weight', 'cls.predictions.bias', 'cls.predictions.transform.LayerNorm.weight', 'cls.seq_relationship.weight']\n",
      "- This IS expected if you are initializing BertModel from the checkpoint of a model trained on another task or with another architecture (e.g. initializing a BertForSequenceClassification model from a BertForPreTraining model).\n",
      "- This IS NOT expected if you are initializing BertModel from the checkpoint of a model that you expect to be exactly identical (initializing a BertForSequenceClassification model from a BertForSequenceClassification model).\n"
     ]
    }
   ],
   "source": [
    "bert_model = Summarizer()\n",
    "ext_summary = bert_model(text, ratio=0.5)"
   ]
  },
  {
   "cell_type": "code",
   "execution_count": 18,
   "metadata": {},
   "outputs": [
    {
     "name": "stdout",
     "output_type": "stream",
     "text": [
      "New York (CNN Business)Netflix is synonymous with streaming, but its competitors have a distinct advantage that threatens the streaming leader's position at the top. Disney has Disney+, but it also has theme parks, plush Baby Yoda dolls, blockbuster Marvel movies and ESPN. It's worked out well for the company - so far. Or put another way, the company's lackluster user growth last quarter is a signal that it wouldn't hurt if Netflix - a company that's lived and died with its subscriber numbers - started thinking about other ways to make money. Not so fast\n",
      "There are ways for Netflix to make money other than raising prices or adding subscribers. Netflix could have 30-second commercials on their programming or get sponsors for their biggest series and films. His reasoning: It doesn't make business sense. You know, advertising looks easy until you get in it. Then you realize you have to rip that revenue away from other places because the total ad market isn't growing, and in fact right now it's shrinking. So if Netflix is looking for other forms of near-term revenue to help support its hefty content budget ($17 billion in 2021 alone) then what can it do? Netflix could crack down on password sharing - a move that the company has been considering lately. That's going to help them get to a higher level of penetration, definitely, but not in long-term.\" Lackluster growth is still growth\n",
      "Missing projections is never good, but it's hardly the end of the world for Netflix. The company remains the market leader and most competitors are still far from taking the company on. We used to do that thing shipping DVDs, and luckily we didn't get stuck with that. We define entertainment as the main thing,\" Hastings said. He added that he doesn't think Netflix will have a second act in the way Amazon has had with Amazon shopping and Amazon Web Services. Rather, Netflix will continue to improve and grow on what it already does best. \"I'll bet we end with one hopefully gigantic, hopefully defensible profit pool, and continue to improve the service for our members,\" he said. \" I wouldn't look for any large secondary pool of profits. There will be a bunch of supporting pools, like consumer products, that can be both profitable and can support the title brands.\n"
     ]
    }
   ],
   "source": [
    "print(ext_summary)"
   ]
  },
  {
   "cell_type": "markdown",
   "id": "rational-mitchell",
   "metadata": {},
   "source": [
    "## Tokenize BERT Summary"
   ]
  },
  {
   "cell_type": "code",
   "execution_count": 19,
   "id": "modular-coverage",
   "metadata": {},
   "outputs": [],
   "source": [
    "tokens_input_2 = tokenizer.encode(\"summarize: \"+ext_summary, return_tensors='pt', \n",
    "                                max_length=tokenizer.model_max_length, \n",
    "                                truncation=True)"
   ]
  },
  {
   "cell_type": "code",
   "execution_count": 20,
   "id": "latter-formation",
   "metadata": {},
   "outputs": [
    {
     "data": {
      "text/plain": [
       "522"
      ]
     },
     "execution_count": 20,
     "metadata": {},
     "output_type": "execute_result"
    }
   ],
   "source": [
    "len(tokenizer(ext_summary)['input_ids'])"
   ]
  },
  {
   "cell_type": "markdown",
   "id": "convertible-webmaster",
   "metadata": {},
   "source": [
    "## Extractive-Abstractive Summary"
   ]
  },
  {
   "cell_type": "code",
   "execution_count": 21,
   "id": "ranking-church",
   "metadata": {},
   "outputs": [],
   "source": [
    "summary_ids_2 = model.generate(tokens_input_2, min_length=80,\n",
    "                             max_length=150,\n",
    "                             length_penalty=20, \n",
    "                             num_beams=2)\n",
    "\n",
    "summary_2 = tokenizer.decode(summary_ids_2[0], skip_special_tokens=True)"
   ]
  },
  {
   "cell_type": "code",
   "execution_count": 22,
   "id": "monetary-darkness",
   "metadata": {},
   "outputs": [
    {
     "name": "stdout",
     "output_type": "stream",
     "text": [
      "Netflix's lackluster user growth last quarter is a signal that it wouldn't hurt if it started thinking about other ways to make money. the company could crack down on password sharing - a move that the company has been considering lately. \"i wouldn't look for any large secondary pool of profits,\" says Hastings. he says he doesn't think Netflix will have a second act in the way Amazon has had with Amazon shopping and Amazon Web Services.\n"
     ]
    }
   ],
   "source": [
    "print(summary_2)\n"
   ]
  },
  {
   "cell_type": "code",
   "execution_count": 23,
   "metadata": {},
   "outputs": [],
   "source": [
    "text1 = \"\"\"\n",
    "AMONG the numerous mechanisms that make human life possible is the body’s ability to heal wounds and regenerate damaged tissue. The process begins as soon as an injury occurs.\n",
    "Consider: The healing process is made possible by a cascade of complex cellular functions:\n",
    "Platelets adhere to tissues around a wound, forming a blood clot and sealing damaged blood vessels.\n",
    "Inflammation protects against infection and removes any “debris” caused by the injury.\n",
    "Within days, the body begins to replace injured tissue, make the wound contract, and repair damaged blood vessels.\n",
    "Finally, scar tissue remodels and strengthens the damaged area.\n",
    "Inspired by blood clotting, researchers are developing plastics that can “heal” \n",
    "damage to themselves. Such regenerating materials are equipped with tiny parallel \n",
    "tubes containing two chemicals that “bleed” when any damage occurs. As the two \n",
    "chemicals mix, they form a gel that spreads across the damaged areas, closing \n",
    "cracks and holes. As the gel solidifies, it forms a tough substance that restores \n",
    "the material’s original strength. One researcher admits that this synthetic healing process currently under development is “reminiscent” of what already exists in nature.\n",
    "\"\"\""
   ]
  },
  {
   "cell_type": "code",
   "execution_count": 24,
   "id": "entitled-indication",
   "metadata": {},
   "outputs": [],
   "source": [
    "tokens_input = tokenizer.encode(\"summarize: \"+text1, return_tensors='pt', \n",
    "                                max_length=tokenizer.model_max_length, \n",
    "                                truncation=True)"
   ]
  },
  {
   "cell_type": "code",
   "execution_count": 25,
   "id": "resident-dream",
   "metadata": {},
   "outputs": [],
   "source": [
    "summary_ids = model.generate(tokens_input, min_length=80,\n",
    "                             max_length=150,\n",
    "                             length_penalty=20, \n",
    "                             num_beams=2)\n",
    "\n",
    "summary = tokenizer.decode(summary_ids[0], skip_special_tokens=True)"
   ]
  },
  {
   "cell_type": "code",
   "execution_count": 26,
   "id": "comic-tribe",
   "metadata": {},
   "outputs": [
    {
     "name": "stdout",
     "output_type": "stream",
     "text": [
      "researchers are developing plastics that can “heal” damage to themselves. inspired by blood clotting, researchers are developing plastics that can “heal” damage to themselves. regenerating materials are equipped with tiny parallel tubes containing two chemicals that “bleed” when any damage occurs. as the two chemicals mix, they form a gel that spreads across the damaged areas, closing cracks and holes. as the gel solidifies, it forms a tough substance that restores the material’s original strength.\n"
     ]
    }
   ],
   "source": [
    "print(summary)"
   ]
  },
  {
   "cell_type": "code",
   "execution_count": 27,
   "id": "lasting-microphone",
   "metadata": {},
   "outputs": [
    {
     "data": {
      "text/plain": [
       "1237"
      ]
     },
     "execution_count": 27,
     "metadata": {},
     "output_type": "execute_result"
    }
   ],
   "source": [
    "# number of tokens generated from the text using T5 Tokenizer\n",
    "len(tokenizer(text)['input_ids'])"
   ]
  },
  {
   "cell_type": "markdown",
   "metadata": {},
   "source": [
    "## Working with data frames"
   ]
  },
  {
   "cell_type": "code",
   "execution_count": 176,
   "metadata": {},
   "outputs": [],
   "source": [
    "train = pd.read_csv('guardian_publications.csv')\n"
   ]
  },
  {
   "cell_type": "code",
   "execution_count": 172,
   "metadata": {},
   "outputs": [],
   "source": [
    "#Selecting 5 rows to work on\n",
    "train = train.head(5)"
   ]
  },
  {
   "cell_type": "code",
   "execution_count": 30,
   "metadata": {},
   "outputs": [],
   "source": [
    "result = []\n",
    "for i in range(len(train[\"text\"])):\n",
    "    result.append(tokenizer.encode(\"summarize: \"+train[\"text\"][i], return_tensors='pt', \n",
    "                                max_length=tokenizer.model_max_length, \n",
    "                                truncation=True))\n",
    "    \n",
    "    "
   ]
  },
  {
   "cell_type": "code",
   "execution_count": 31,
   "metadata": {},
   "outputs": [],
   "source": [
    "train[\"tokens_input\"]=result\n"
   ]
  },
  {
   "cell_type": "code",
   "execution_count": 32,
   "metadata": {},
   "outputs": [],
   "source": [
    "result1 = []\n",
    "for i in range(len(train[\"tokens_input\"])):\n",
    "    result1.append(model.generate(train[\"tokens_input\"][i], min_length=80,\n",
    "                             max_length=150,\n",
    "                             length_penalty=20, \n",
    "                             num_beams=2))"
   ]
  },
  {
   "cell_type": "code",
   "execution_count": 33,
   "metadata": {},
   "outputs": [],
   "source": [
    "train[\"summary_ids\"]=result1\n"
   ]
  },
  {
   "cell_type": "code",
   "execution_count": 34,
   "metadata": {},
   "outputs": [],
   "source": [
    "result2 = []\n",
    "for i in range(len(train[\"summary_ids\"])):\n",
    "    result2.append(tokenizer.decode((train[\"summary_ids\"][i])[0], skip_special_tokens=True))"
   ]
  },
  {
   "cell_type": "code",
   "execution_count": 35,
   "metadata": {},
   "outputs": [],
   "source": [
    "result3 = []\n",
    "for i in range(len(train[\"text\"])):\n",
    "    result3.append(len(tokenizer(train[\"text\"][i])['input_ids']))"
   ]
  },
  {
   "cell_type": "code",
   "execution_count": 36,
   "metadata": {},
   "outputs": [
    {
     "data": {
      "text/html": [
       "<div>\n",
       "<style scoped>\n",
       "    .dataframe tbody tr th:only-of-type {\n",
       "        vertical-align: middle;\n",
       "    }\n",
       "\n",
       "    .dataframe tbody tr th {\n",
       "        vertical-align: top;\n",
       "    }\n",
       "\n",
       "    .dataframe thead th {\n",
       "        text-align: right;\n",
       "    }\n",
       "</style>\n",
       "<table border=\"1\" class=\"dataframe\">\n",
       "  <thead>\n",
       "    <tr style=\"text-align: right;\">\n",
       "      <th></th>\n",
       "      <th>text</th>\n",
       "      <th>No.tokens</th>\n",
       "      <th>summary</th>\n",
       "    </tr>\n",
       "  </thead>\n",
       "  <tbody>\n",
       "    <tr>\n",
       "      <th>0</th>\n",
       "      <td>Shell’s long-serving chief executive, Ben van ...</td>\n",
       "      <td>698</td>\n",
       "      <td>van Beurden, who took over in 2014, would leav...</td>\n",
       "    </tr>\n",
       "    <tr>\n",
       "      <th>1</th>\n",
       "      <td>A South African court has upheld a ban imposed...</td>\n",
       "      <td>395</td>\n",
       "      <td>the 2014 decision granting the right for the \"...</td>\n",
       "    </tr>\n",
       "    <tr>\n",
       "      <th>2</th>\n",
       "      <td>Gas shortages across Europe are likely to last...</td>\n",
       "      <td>1022</td>\n",
       "      <td>cuts to the supply of Russian gas since the in...</td>\n",
       "    </tr>\n",
       "    <tr>\n",
       "      <th>3</th>\n",
       "      <td>Shell has agreed to pay half a million pounds ...</td>\n",
       "      <td>680</td>\n",
       "      <td>energy giant's consumer arm, shell energy reta...</td>\n",
       "    </tr>\n",
       "    <tr>\n",
       "      <th>4</th>\n",
       "      <td>The chair of the Church of England Pensions Bo...</td>\n",
       "      <td>1405</td>\n",
       "      <td>the church of england has rejected pressure to...</td>\n",
       "    </tr>\n",
       "  </tbody>\n",
       "</table>\n",
       "</div>"
      ],
      "text/plain": [
       "                                                text  No.tokens  \\\n",
       "0  Shell’s long-serving chief executive, Ben van ...        698   \n",
       "1  A South African court has upheld a ban imposed...        395   \n",
       "2  Gas shortages across Europe are likely to last...       1022   \n",
       "3  Shell has agreed to pay half a million pounds ...        680   \n",
       "4  The chair of the Church of England Pensions Bo...       1405   \n",
       "\n",
       "                                             summary  \n",
       "0  van Beurden, who took over in 2014, would leav...  \n",
       "1  the 2014 decision granting the right for the \"...  \n",
       "2  cuts to the supply of Russian gas since the in...  \n",
       "3  energy giant's consumer arm, shell energy reta...  \n",
       "4  the church of england has rejected pressure to...  "
      ]
     },
     "execution_count": 36,
     "metadata": {},
     "output_type": "execute_result"
    }
   ],
   "source": [
    "train[\"summary\"]=result2\n",
    "train[\"No.tokens\"]=result3\n",
    "train[[\"text\",\"No.tokens\",\"summary\"]]"
   ]
  },
  {
   "cell_type": "markdown",
   "metadata": {},
   "source": [
    "## Working with Q & A"
   ]
  },
  {
   "cell_type": "code",
   "execution_count": 37,
   "metadata": {},
   "outputs": [],
   "source": [
    "passage = '''Indicators for targets 9.b and 9.c have data available. Globally, \n",
    "energy efficiency and the use of cleaner fuels and technologies reduced carbon dioxide emissions \n",
    "per unit of value added by 13 per cent between 2000 and 2013. Although expenditure on research and \n",
    "development continues to grow globally, the poorest countries, especially those in Africa, spend a very small \n",
    "proportion of their GDP on such expenditure. In 2013, global investment in research and development stood at $1.7 trillion \n",
    "(purchasing power parity), up from $732 billion in 2000.\n",
    "this is labeled as '''"
   ]
  },
  {
   "cell_type": "code",
   "execution_count": 38,
   "metadata": {},
   "outputs": [],
   "source": [
    "result = predictor.predict(passage=passage, question=\"how much was the investment?\")"
   ]
  },
  {
   "cell_type": "code",
   "execution_count": 54,
   "metadata": {},
   "outputs": [
    {
     "data": {
      "text/plain": [
       "'$1.7 trillion'"
      ]
     },
     "execution_count": 54,
     "metadata": {},
     "output_type": "execute_result"
    }
   ],
   "source": [
    "result[\"best_span_str\"]"
   ]
  },
  {
   "cell_type": "markdown",
   "metadata": {},
   "source": [
    "## Data Frames"
   ]
  },
  {
   "cell_type": "code",
   "execution_count": 68,
   "metadata": {},
   "outputs": [],
   "source": [
    "def qesAns(df,questions = \"Is Shell implicated?\"):\n",
    "\n",
    "        def qestions(df,column,question):\n",
    "            result = []\n",
    "            for i in range(len(train[column])):\n",
    "                result.append(predictor.predict(passage=train[column][i], question=question)[\"best_span_str\"])\n",
    "            return result\n",
    "\n",
    "        train[questions] = qestions(df,column= \"text\", question = questions)\n",
    "        return train[questions]"
   ]
  },
  {
   "cell_type": "code",
   "execution_count": 69,
   "metadata": {},
   "outputs": [
    {
     "data": {
      "text/plain": [
       "0    Shell declined to comment on Van Beurden’s pen...\n",
       "1    Shell did not say if it would appeal against t...\n",
       "2    Shell made record profits of nearly £10bn betw...\n",
       "3    had Shell not self-reported the issue and take...\n",
       "4    it is no longer ethical to profit from fossil ...\n",
       "Name: Is Shell implicated?, dtype: object"
      ]
     },
     "execution_count": 69,
     "metadata": {},
     "output_type": "execute_result"
    }
   ],
   "source": [
    "qesAns(train,questions= \"Is Shell implicated?\")"
   ]
  },
  {
   "cell_type": "code",
   "execution_count": 175,
   "metadata": {},
   "outputs": [
    {
     "data": {
      "text/plain": [
       "0    Shell declined to comment on Van Beurden’s pen...\n",
       "1    Shell did not say if it would appeal against t...\n",
       "2    Shell made record profits of nearly £10bn betw...\n",
       "3    The contributions Shell has made to the redres...\n",
       "4    short-term expansion plans amount to about 4bn...\n",
       "Name: Is Shell involved?, dtype: object"
      ]
     },
     "execution_count": 175,
     "metadata": {},
     "output_type": "execute_result"
    }
   ],
   "source": [
    "qesAns(train,questions= \"Is Shell involved?\")"
   ]
  },
  {
   "cell_type": "code",
   "execution_count": 177,
   "metadata": {},
   "outputs": [
    {
     "data": {
      "text/plain": [
       "0                                      Google reCaptcha\n",
       "1                                            3D seismic\n",
       "2                                      Google reCaptcha\n",
       "3                                      Google reCaptcha\n",
       "4                                      Google reCaptcha\n",
       "5     strong refining profit margins, and promised t...\n",
       "6                                     refining capacity\n",
       "7                                    a lower carbon one\n",
       "8                                         social tariff\n",
       "9     Consumer spending is continuing to grow. Earli...\n",
       "10                               secure energy supplies\n",
       "11                          very strong cash generation\n",
       "12                                     Google reCaptcha\n",
       "13                                     Google reCaptcha\n",
       "14                                           3D seismic\n",
       "15                                     Google reCaptcha\n",
       "16                                     Google reCaptcha\n",
       "17                                     Google reCaptcha\n",
       "18    strong refining profit margins, and promised t...\n",
       "19                                               google\n",
       "20                                               google\n",
       "21                                    refining capacity\n",
       "22                      Fed inflation-fighting measures\n",
       "23                                   a lower carbon one\n",
       "24                                        social tariff\n",
       "25    Consumer spending is continuing to grow. Earli...\n",
       "26                               secure energy supplies\n",
       "Name: what technology did shell use?, dtype: object"
      ]
     },
     "execution_count": 177,
     "metadata": {},
     "output_type": "execute_result"
    }
   ],
   "source": [
    "qesAns(train,questions= \"what technology did shell use?\")"
   ]
  },
  {
   "cell_type": "code",
   "execution_count": 70,
   "id": "acf76510",
   "metadata": {},
   "outputs": [],
   "source": [
    "import numpy as np\n",
    "from scipy import stats\n",
    "import pandas as pd\n",
    "import time\n",
    "\n",
    "from allennlp.predictors import Predictor\n",
    "from allennlp_models.pretrained import load_predictor"
   ]
  },
  {
   "cell_type": "code",
   "execution_count": 71,
   "id": "f9d6e98b",
   "metadata": {},
   "outputs": [],
   "source": [
    "nlp_models = [\n",
    "    { 'name' : 'ner-model',\n",
    "      'url': 'C:/Users/Silas_Dell/Downloads/Compressed/ner-elmo.2021-02-12.tar.gz'\n",
    "    },\n",
    "    # { 'name' : 'ner-elmo',\n",
    "    #   'url' : 'https://storage.googleapis.com/allennlp-public-models/ner-elmo.2021-02-12.tar.gz',\n",
    "    # },\n",
    "]"
   ]
  },
  {
   "cell_type": "code",
   "execution_count": 72,
   "id": "9766901d",
   "metadata": {},
   "outputs": [
    {
     "name": "stdout",
     "output_type": "stream",
     "text": [
      "Loading models...\n",
      "Loading model : ner-model\n"
     ]
    },
    {
     "name": "stderr",
     "output_type": "stream",
     "text": [
      "error loading _jsonnet (this is expected on Windows), treating C:\\Users\\SILAS_~1\\AppData\\Local\\Temp\\tmpro27hmfp\\config.json as plain json\n"
     ]
    },
    {
     "name": "stdout",
     "output_type": "stream",
     "text": [
      "Loaded model 'ner-model' in 31,042.0 milli seconds\n",
      "\n"
     ]
    }
   ],
   "source": [
    "## load models\n",
    "print (\"Loading models...\")\n",
    "for nlp_model in nlp_models:\n",
    "    print (\"Loading model :\", nlp_model['name'])\n",
    "    t1 = time.perf_counter()\n",
    "    nlp_model['model'] = Predictor.from_path(nlp_model['url'])\n",
    "    t2 = time.perf_counter()\n",
    "    print (\"Loaded model '{}' in {:,.1f} milli seconds\".format (nlp_model['name'], (t2-t1)*1e3))\n",
    "print ()"
   ]
  },
  {
   "cell_type": "code",
   "execution_count": 178,
   "metadata": {},
   "outputs": [],
   "source": [
    "def locationOrganization(train):\n",
    "\n",
    "        def entity_recognition (sentence):\n",
    "            location = []\n",
    "            for nlp_model in nlp_models:\n",
    "                results =  nlp_model['model'].predict(sentence=sentence)\n",
    "                for word, tag in zip(results[\"words\"], results[\"tags\"]):\n",
    "                    if tag != 'U-LOC':\n",
    "                        continue\n",
    "                    else:\n",
    "                        # print([word])#(f\"{word}\")\n",
    "                        location.append(word)\n",
    "                # print()\n",
    "                return location\n",
    "\n",
    "        def entity_recognition_pe(sentence):\n",
    "            organisation = []\n",
    "            for nlp_model in nlp_models:\n",
    "                results =  nlp_model['model'].predict(sentence=sentence)\n",
    "                for word, tag in zip(results[\"words\"], results[\"tags\"]):\n",
    "                    if tag != 'U-ORG':\n",
    "                        continue\n",
    "                    else:\n",
    "                        # print([word])#(f\"{word}\")\n",
    "                        organisation.append(word)\n",
    "                # print()\n",
    "                return organisation\n",
    "        result = []\n",
    "        for i in range(len(train[\"text\"])):\n",
    "            result.append(list(set(entity_recognition(train[\"text\"][i]))))\n",
    "        re1 = []\n",
    "        for i in range(len(train[\"text\"])):\n",
    "            re1.append(list(set(entity_recognition_pe(train[\"text\"][i]))))\n",
    "        train[\"location\"]=result\n",
    "        train[\"organisation\"]=re1\n",
    "        return train[[\"text\",\"location\",\"organisation\"]]"
   ]
  },
  {
   "cell_type": "code",
   "execution_count": 179,
   "metadata": {},
   "outputs": [
    {
     "data": {
      "text/html": [
       "<div>\n",
       "<style scoped>\n",
       "    .dataframe tbody tr th:only-of-type {\n",
       "        vertical-align: middle;\n",
       "    }\n",
       "\n",
       "    .dataframe tbody tr th {\n",
       "        vertical-align: top;\n",
       "    }\n",
       "\n",
       "    .dataframe thead th {\n",
       "        text-align: right;\n",
       "    }\n",
       "</style>\n",
       "<table border=\"1\" class=\"dataframe\">\n",
       "  <thead>\n",
       "    <tr style=\"text-align: right;\">\n",
       "      <th></th>\n",
       "      <th>text</th>\n",
       "      <th>location</th>\n",
       "      <th>organisation</th>\n",
       "    </tr>\n",
       "  </thead>\n",
       "  <tbody>\n",
       "    <tr>\n",
       "      <th>0</th>\n",
       "      <td>Shell’s long-serving chief executive, Ben van ...</td>\n",
       "      <td>[Netherlands, Norway, Ukraine, Russia, Europe,...</td>\n",
       "      <td>[Reuters, Shell]</td>\n",
       "    </tr>\n",
       "    <tr>\n",
       "      <th>1</th>\n",
       "      <td>A South African court has upheld a ban imposed...</td>\n",
       "      <td>[Algoa, Transkei, Makhanda]</td>\n",
       "      <td>[Shell]</td>\n",
       "    </tr>\n",
       "    <tr>\n",
       "      <th>2</th>\n",
       "      <td>Gas shortages across Europe are likely to last...</td>\n",
       "      <td>[Britain, Belgium, Norway, Slovenia, Germany, ...</td>\n",
       "      <td>[TotalEnergies, Newsletters, Shell, Gazprom, EU]</td>\n",
       "    </tr>\n",
       "    <tr>\n",
       "      <th>3</th>\n",
       "      <td>Shell has agreed to pay half a million pounds ...</td>\n",
       "      <td>[Britain, UK]</td>\n",
       "      <td>[Shell, Ofgem, ’re]</td>\n",
       "    </tr>\n",
       "    <tr>\n",
       "      <th>4</th>\n",
       "      <td>The chair of the Church of England Pensions Bo...</td>\n",
       "      <td>[Canada, Paris, Britain, Bangladesh, Ascot, Ba...</td>\n",
       "      <td>[Newsletters, Shell, BP, Guardian, Mather, Bap...</td>\n",
       "    </tr>\n",
       "    <tr>\n",
       "      <th>5</th>\n",
       "      <td>Shell is handing nearly all its 82,000 staff a...</td>\n",
       "      <td>[Ukraine, Russia, UK]</td>\n",
       "      <td>[BP, Shell, Cornwall, Ofgem, @BusinessDesk, Opec]</td>\n",
       "    </tr>\n",
       "    <tr>\n",
       "      <th>6</th>\n",
       "      <td>The US’s biggest oil companies pumped out reco...</td>\n",
       "      <td>[Guyana, Britain, Irving, Texas, US, Ukraine, ...</td>\n",
       "      <td>[ExxonMobil, Shell, O’Grady, Chevron, Exxon, ’re]</td>\n",
       "    </tr>\n",
       "    <tr>\n",
       "      <th>7</th>\n",
       "      <td>BP’s Bernard Looney put it more succinctly las...</td>\n",
       "      <td>[US, Ukraine, Russia, UK]</td>\n",
       "      <td>[BP, Shell, Brent, Centrica, WhatsApp, Rough, ...</td>\n",
       "    </tr>\n",
       "    <tr>\n",
       "      <th>8</th>\n",
       "      <td>Soaring profits at two of the UK’s biggest ene...</td>\n",
       "      <td>[Europe, Ukraine, Russia, UK]</td>\n",
       "      <td>[Treasury, Shell, PoliticsHome, Centrica, Labo...</td>\n",
       "    </tr>\n",
       "    <tr>\n",
       "      <th>9</th>\n",
       "      <td>15.04 Biden: No surprise economy is slowing as...</td>\n",
       "      <td>[US, Korea]</td>\n",
       "      <td>[House, Fed]</td>\n",
       "    </tr>\n",
       "    <tr>\n",
       "      <th>10</th>\n",
       "      <td>Shell made record profits of nearly £10bn betw...</td>\n",
       "      <td>[Kremlin, Ukraine, Russia, UK]</td>\n",
       "      <td>[Shell, Gazprom, Centrica, Sakhalin-2]</td>\n",
       "    </tr>\n",
       "    <tr>\n",
       "      <th>11</th>\n",
       "      <td>Filters BETA Key events ( 3 )  1m ago 08.31 Sh...</td>\n",
       "      <td>[Beirut, Spain]</td>\n",
       "      <td>[IBEX, Shell, Sawan, Reuters, ’re]</td>\n",
       "    </tr>\n",
       "    <tr>\n",
       "      <th>12</th>\n",
       "      <td>Shell has appointed Wael Sawan, a 25-year comp...</td>\n",
       "      <td>[Beirut, Netherlands, London, Europe]</td>\n",
       "      <td>[’s, Newsletters, Shell, Sawan]</td>\n",
       "    </tr>\n",
       "    <tr>\n",
       "      <th>13</th>\n",
       "      <td>Shell’s long-serving chief executive, Ben van ...</td>\n",
       "      <td>[Netherlands, Norway, Ukraine, Russia, Europe,...</td>\n",
       "      <td>[Reuters, Shell]</td>\n",
       "    </tr>\n",
       "    <tr>\n",
       "      <th>14</th>\n",
       "      <td>A South African court has upheld a ban imposed...</td>\n",
       "      <td>[Algoa, Transkei, Makhanda]</td>\n",
       "      <td>[Shell]</td>\n",
       "    </tr>\n",
       "    <tr>\n",
       "      <th>15</th>\n",
       "      <td>Gas shortages across Europe are likely to last...</td>\n",
       "      <td>[Britain, Belgium, Norway, Slovenia, Germany, ...</td>\n",
       "      <td>[TotalEnergies, Newsletters, Shell, Gazprom, EU]</td>\n",
       "    </tr>\n",
       "    <tr>\n",
       "      <th>16</th>\n",
       "      <td>Shell has agreed to pay half a million pounds ...</td>\n",
       "      <td>[Britain, UK]</td>\n",
       "      <td>[Shell, Ofgem, ’re]</td>\n",
       "    </tr>\n",
       "    <tr>\n",
       "      <th>17</th>\n",
       "      <td>The chair of the Church of England Pensions Bo...</td>\n",
       "      <td>[Canada, Paris, Britain, Bangladesh, Ascot, Ba...</td>\n",
       "      <td>[Newsletters, Shell, BP, Guardian, Mather, Bap...</td>\n",
       "    </tr>\n",
       "    <tr>\n",
       "      <th>18</th>\n",
       "      <td>Shell is handing nearly all its 82,000 staff a...</td>\n",
       "      <td>[Ukraine, Russia, UK]</td>\n",
       "      <td>[BP, Shell, Cornwall, Ofgem, @BusinessDesk, Opec]</td>\n",
       "    </tr>\n",
       "    <tr>\n",
       "      <th>19</th>\n",
       "      <td>What term do you want to search? Search with g...</td>\n",
       "      <td>[]</td>\n",
       "      <td>[]</td>\n",
       "    </tr>\n",
       "    <tr>\n",
       "      <th>20</th>\n",
       "      <td>What term do you want to search? Search with g...</td>\n",
       "      <td>[]</td>\n",
       "      <td>[]</td>\n",
       "    </tr>\n",
       "    <tr>\n",
       "      <th>21</th>\n",
       "      <td>The US’s biggest oil companies pumped out reco...</td>\n",
       "      <td>[Guyana, Britain, Irving, Texas, US, Ukraine, ...</td>\n",
       "      <td>[ExxonMobil, Shell, O’Grady, Chevron, Exxon, ’re]</td>\n",
       "    </tr>\n",
       "    <tr>\n",
       "      <th>22</th>\n",
       "      <td>Biden says US economic slowdown due to Fed inf...</td>\n",
       "      <td>[US]</td>\n",
       "      <td>[]</td>\n",
       "    </tr>\n",
       "    <tr>\n",
       "      <th>23</th>\n",
       "      <td>BP’s Bernard Looney put it more succinctly las...</td>\n",
       "      <td>[US, Ukraine, Russia, UK]</td>\n",
       "      <td>[BP, Shell, Brent, Centrica, WhatsApp, Rough, ...</td>\n",
       "    </tr>\n",
       "    <tr>\n",
       "      <th>24</th>\n",
       "      <td>Soaring profits at two of the UK’s biggest ene...</td>\n",
       "      <td>[Europe, Ukraine, Russia, UK]</td>\n",
       "      <td>[Treasury, Shell, PoliticsHome, Centrica, Labo...</td>\n",
       "    </tr>\n",
       "    <tr>\n",
       "      <th>25</th>\n",
       "      <td>15.04 Biden: No surprise economy is slowing as...</td>\n",
       "      <td>[US, Korea]</td>\n",
       "      <td>[House, Fed]</td>\n",
       "    </tr>\n",
       "    <tr>\n",
       "      <th>26</th>\n",
       "      <td>Shell made record profits of nearly £10bn betw...</td>\n",
       "      <td>[Kremlin, Ukraine, Russia, UK]</td>\n",
       "      <td>[Shell, Gazprom, Centrica, Sakhalin-2]</td>\n",
       "    </tr>\n",
       "  </tbody>\n",
       "</table>\n",
       "</div>"
      ],
      "text/plain": [
       "                                                 text  \\\n",
       "0   Shell’s long-serving chief executive, Ben van ...   \n",
       "1   A South African court has upheld a ban imposed...   \n",
       "2   Gas shortages across Europe are likely to last...   \n",
       "3   Shell has agreed to pay half a million pounds ...   \n",
       "4   The chair of the Church of England Pensions Bo...   \n",
       "5   Shell is handing nearly all its 82,000 staff a...   \n",
       "6   The US’s biggest oil companies pumped out reco...   \n",
       "7   BP’s Bernard Looney put it more succinctly las...   \n",
       "8   Soaring profits at two of the UK’s biggest ene...   \n",
       "9   15.04 Biden: No surprise economy is slowing as...   \n",
       "10  Shell made record profits of nearly £10bn betw...   \n",
       "11  Filters BETA Key events ( 3 )  1m ago 08.31 Sh...   \n",
       "12  Shell has appointed Wael Sawan, a 25-year comp...   \n",
       "13  Shell’s long-serving chief executive, Ben van ...   \n",
       "14  A South African court has upheld a ban imposed...   \n",
       "15  Gas shortages across Europe are likely to last...   \n",
       "16  Shell has agreed to pay half a million pounds ...   \n",
       "17  The chair of the Church of England Pensions Bo...   \n",
       "18  Shell is handing nearly all its 82,000 staff a...   \n",
       "19  What term do you want to search? Search with g...   \n",
       "20  What term do you want to search? Search with g...   \n",
       "21  The US’s biggest oil companies pumped out reco...   \n",
       "22  Biden says US economic slowdown due to Fed inf...   \n",
       "23  BP’s Bernard Looney put it more succinctly las...   \n",
       "24  Soaring profits at two of the UK’s biggest ene...   \n",
       "25  15.04 Biden: No surprise economy is slowing as...   \n",
       "26  Shell made record profits of nearly £10bn betw...   \n",
       "\n",
       "                                             location  \\\n",
       "0   [Netherlands, Norway, Ukraine, Russia, Europe,...   \n",
       "1                         [Algoa, Transkei, Makhanda]   \n",
       "2   [Britain, Belgium, Norway, Slovenia, Germany, ...   \n",
       "3                                       [Britain, UK]   \n",
       "4   [Canada, Paris, Britain, Bangladesh, Ascot, Ba...   \n",
       "5                               [Ukraine, Russia, UK]   \n",
       "6   [Guyana, Britain, Irving, Texas, US, Ukraine, ...   \n",
       "7                           [US, Ukraine, Russia, UK]   \n",
       "8                       [Europe, Ukraine, Russia, UK]   \n",
       "9                                         [US, Korea]   \n",
       "10                     [Kremlin, Ukraine, Russia, UK]   \n",
       "11                                    [Beirut, Spain]   \n",
       "12              [Beirut, Netherlands, London, Europe]   \n",
       "13  [Netherlands, Norway, Ukraine, Russia, Europe,...   \n",
       "14                        [Algoa, Transkei, Makhanda]   \n",
       "15  [Britain, Belgium, Norway, Slovenia, Germany, ...   \n",
       "16                                      [Britain, UK]   \n",
       "17  [Canada, Paris, Britain, Bangladesh, Ascot, Ba...   \n",
       "18                              [Ukraine, Russia, UK]   \n",
       "19                                                 []   \n",
       "20                                                 []   \n",
       "21  [Guyana, Britain, Irving, Texas, US, Ukraine, ...   \n",
       "22                                               [US]   \n",
       "23                          [US, Ukraine, Russia, UK]   \n",
       "24                      [Europe, Ukraine, Russia, UK]   \n",
       "25                                        [US, Korea]   \n",
       "26                     [Kremlin, Ukraine, Russia, UK]   \n",
       "\n",
       "                                         organisation  \n",
       "0                                    [Reuters, Shell]  \n",
       "1                                             [Shell]  \n",
       "2    [TotalEnergies, Newsletters, Shell, Gazprom, EU]  \n",
       "3                                 [Shell, Ofgem, ’re]  \n",
       "4   [Newsletters, Shell, BP, Guardian, Mather, Bap...  \n",
       "5   [BP, Shell, Cornwall, Ofgem, @BusinessDesk, Opec]  \n",
       "6   [ExxonMobil, Shell, O’Grady, Chevron, Exxon, ’re]  \n",
       "7   [BP, Shell, Brent, Centrica, WhatsApp, Rough, ...  \n",
       "8   [Treasury, Shell, PoliticsHome, Centrica, Labo...  \n",
       "9                                        [House, Fed]  \n",
       "10             [Shell, Gazprom, Centrica, Sakhalin-2]  \n",
       "11                 [IBEX, Shell, Sawan, Reuters, ’re]  \n",
       "12                    [’s, Newsletters, Shell, Sawan]  \n",
       "13                                   [Reuters, Shell]  \n",
       "14                                            [Shell]  \n",
       "15   [TotalEnergies, Newsletters, Shell, Gazprom, EU]  \n",
       "16                                [Shell, Ofgem, ’re]  \n",
       "17  [Newsletters, Shell, BP, Guardian, Mather, Bap...  \n",
       "18  [BP, Shell, Cornwall, Ofgem, @BusinessDesk, Opec]  \n",
       "19                                                 []  \n",
       "20                                                 []  \n",
       "21  [ExxonMobil, Shell, O’Grady, Chevron, Exxon, ’re]  \n",
       "22                                                 []  \n",
       "23  [BP, Shell, Brent, Centrica, WhatsApp, Rough, ...  \n",
       "24  [Treasury, Shell, PoliticsHome, Centrica, Labo...  \n",
       "25                                       [House, Fed]  \n",
       "26             [Shell, Gazprom, Centrica, Sakhalin-2]  "
      ]
     },
     "execution_count": 179,
     "metadata": {},
     "output_type": "execute_result"
    }
   ],
   "source": [
    "train = locationOrganization(train)\n",
    "train"
   ]
  },
  {
   "cell_type": "code",
   "execution_count": 101,
   "id": "943b396f",
   "metadata": {},
   "outputs": [],
   "source": [
    "def entity_recognition (sentence):\n",
    "    miscellaneous = []\n",
    "    person = []\n",
    "    organisation = []\n",
    "    location = []\n",
    "    for nlp_model in nlp_models:\n",
    "        results =  nlp_model['model'].predict(sentence=sentence)\n",
    "        for word, tag in zip(results[\"words\"], results[\"tags\"]):\n",
    "            if tag != 'U-LOC':\n",
    "                continue\n",
    "            else:\n",
    "                # print([word])#(f\"{word}\")\n",
    "                location.append(word)\n",
    "        # print()\n",
    "        return location\n"
   ]
  },
  {
   "cell_type": "code",
   "execution_count": 124,
   "metadata": {},
   "outputs": [],
   "source": [
    "def entity_recognition_per (sentence):\n",
    "    miscellaneous = []\n",
    "    person = []\n",
    "    organisation = []\n",
    "    location = []\n",
    "    for nlp_model in nlp_models:\n",
    "        results =  nlp_model['model'].predict(sentence=sentence)\n",
    "        for word, tag in zip(results[\"words\"], results[\"tags\"]):\n",
    "            if tag != 'U-ORG':\n",
    "                continue\n",
    "            else:\n",
    "                # print([word])#(f\"{word}\")\n",
    "                organisation.append(word)\n",
    "        # print()\n",
    "        return organisation"
   ]
  },
  {
   "cell_type": "code",
   "execution_count": 114,
   "id": "e16439ed",
   "metadata": {},
   "outputs": [],
   "source": [
    "sentences = '''Ben van Beurden, who took over in 2014, would leave Shell in the middle of the most severe energy crisis of his tenure. his departure would end a near-40-year career at the oil and gas giant in England and Ghana.'''"
   ]
  },
  {
   "cell_type": "code",
   "execution_count": 115,
   "id": "0d81b898",
   "metadata": {},
   "outputs": [
    {
     "data": {
      "text/plain": [
       "['Shell']"
      ]
     },
     "execution_count": 115,
     "metadata": {},
     "output_type": "execute_result"
    }
   ],
   "source": [
    "entity_recognition_per(sentences)"
   ]
  },
  {
   "cell_type": "code",
   "execution_count": 125,
   "id": "3a984516",
   "metadata": {},
   "outputs": [],
   "source": [
    "result = []\n",
    "for i in range(len(train[\"text\"])):\n",
    "    result.append(entity_recognition_per(train[\"text\"][i]))"
   ]
  },
  {
   "cell_type": "code",
   "execution_count": 126,
   "id": "3a984516",
   "metadata": {},
   "outputs": [
    {
     "data": {
      "text/html": [
       "<div>\n",
       "<style scoped>\n",
       "    .dataframe tbody tr th:only-of-type {\n",
       "        vertical-align: middle;\n",
       "    }\n",
       "\n",
       "    .dataframe tbody tr th {\n",
       "        vertical-align: top;\n",
       "    }\n",
       "\n",
       "    .dataframe thead th {\n",
       "        text-align: right;\n",
       "    }\n",
       "</style>\n",
       "<table border=\"1\" class=\"dataframe\">\n",
       "  <thead>\n",
       "    <tr style=\"text-align: right;\">\n",
       "      <th></th>\n",
       "      <th>text</th>\n",
       "      <th>No.tokens</th>\n",
       "      <th>summary</th>\n",
       "      <th>Is Shell implicated?</th>\n",
       "      <th>location</th>\n",
       "      <th>org</th>\n",
       "    </tr>\n",
       "  </thead>\n",
       "  <tbody>\n",
       "    <tr>\n",
       "      <th>0</th>\n",
       "      <td>Shell’s long-serving chief executive, Ben van ...</td>\n",
       "      <td>698</td>\n",
       "      <td>van Beurden, who took over in 2014, would leav...</td>\n",
       "      <td>Shell declined to comment on Van Beurden’s pen...</td>\n",
       "      <td>[London, Europe, Netherlands, London, UK, Russ...</td>\n",
       "      <td>[Shell, Reuters, Shell, Shell, Shell, Shell, R...</td>\n",
       "    </tr>\n",
       "    <tr>\n",
       "      <th>1</th>\n",
       "      <td>A South African court has upheld a ban imposed...</td>\n",
       "      <td>395</td>\n",
       "      <td>the 2014 decision granting the right for the \"...</td>\n",
       "      <td>Shell did not say if it would appeal against t...</td>\n",
       "      <td>[Makhanda, Transkei, Algoa]</td>\n",
       "      <td>[Shell, Shell, Shell, Shell]</td>\n",
       "    </tr>\n",
       "    <tr>\n",
       "      <th>2</th>\n",
       "      <td>Gas shortages across Europe are likely to last...</td>\n",
       "      <td>1022</td>\n",
       "      <td>cuts to the supply of Russian gas since the in...</td>\n",
       "      <td>Shell made record profits of nearly £10bn betw...</td>\n",
       "      <td>[Europe, Ukraine, Norway, Europe, Russia, Ukra...</td>\n",
       "      <td>[Shell, EU, EU, EU, Shell, TotalEnergies, News...</td>\n",
       "    </tr>\n",
       "    <tr>\n",
       "      <th>3</th>\n",
       "      <td>Shell has agreed to pay half a million pounds ...</td>\n",
       "      <td>680</td>\n",
       "      <td>energy giant's consumer arm, shell energy reta...</td>\n",
       "      <td>had Shell not self-reported the issue and take...</td>\n",
       "      <td>[Britain, UK]</td>\n",
       "      <td>[Shell, Shell, Ofgem, ’re, Ofgem, Ofgem, Shell...</td>\n",
       "    </tr>\n",
       "    <tr>\n",
       "      <th>4</th>\n",
       "      <td>The chair of the Church of England Pensions Bo...</td>\n",
       "      <td>1405</td>\n",
       "      <td>the church of england has rejected pressure to...</td>\n",
       "      <td>it is no longer ethical to profit from fossil ...</td>\n",
       "      <td>[Canada, Britain, Southwark, Ascot, Barisal, B...</td>\n",
       "      <td>[Shell, Guardian, Baptist, Guardian, Mather, S...</td>\n",
       "    </tr>\n",
       "  </tbody>\n",
       "</table>\n",
       "</div>"
      ],
      "text/plain": [
       "                                                text  No.tokens  \\\n",
       "0  Shell’s long-serving chief executive, Ben van ...        698   \n",
       "1  A South African court has upheld a ban imposed...        395   \n",
       "2  Gas shortages across Europe are likely to last...       1022   \n",
       "3  Shell has agreed to pay half a million pounds ...        680   \n",
       "4  The chair of the Church of England Pensions Bo...       1405   \n",
       "\n",
       "                                             summary  \\\n",
       "0  van Beurden, who took over in 2014, would leav...   \n",
       "1  the 2014 decision granting the right for the \"...   \n",
       "2  cuts to the supply of Russian gas since the in...   \n",
       "3  energy giant's consumer arm, shell energy reta...   \n",
       "4  the church of england has rejected pressure to...   \n",
       "\n",
       "                                Is Shell implicated?  \\\n",
       "0  Shell declined to comment on Van Beurden’s pen...   \n",
       "1  Shell did not say if it would appeal against t...   \n",
       "2  Shell made record profits of nearly £10bn betw...   \n",
       "3  had Shell not self-reported the issue and take...   \n",
       "4  it is no longer ethical to profit from fossil ...   \n",
       "\n",
       "                                            location  \\\n",
       "0  [London, Europe, Netherlands, London, UK, Russ...   \n",
       "1                        [Makhanda, Transkei, Algoa]   \n",
       "2  [Europe, Ukraine, Norway, Europe, Russia, Ukra...   \n",
       "3                                      [Britain, UK]   \n",
       "4  [Canada, Britain, Southwark, Ascot, Barisal, B...   \n",
       "\n",
       "                                                 org  \n",
       "0  [Shell, Reuters, Shell, Shell, Shell, Shell, R...  \n",
       "1                       [Shell, Shell, Shell, Shell]  \n",
       "2  [Shell, EU, EU, EU, Shell, TotalEnergies, News...  \n",
       "3  [Shell, Shell, Ofgem, ’re, Ofgem, Ofgem, Shell...  \n",
       "4  [Shell, Guardian, Baptist, Guardian, Mather, S...  "
      ]
     },
     "execution_count": 126,
     "metadata": {},
     "output_type": "execute_result"
    }
   ],
   "source": [
    "train[\"org\"]=result\n",
    "train"
   ]
  },
  {
   "cell_type": "code",
   "execution_count": 81,
   "metadata": {},
   "outputs": [],
   "source": [
    "train.to_csv(\"test.csv\")"
   ]
  }
 ],
 "metadata": {
  "kernelspec": {
   "display_name": "Python 3.10.0 64-bit",
   "language": "python",
   "name": "python3"
  },
  "language_info": {
   "codemirror_mode": {
    "name": "ipython",
    "version": 3
   },
   "file_extension": ".py",
   "mimetype": "text/x-python",
   "name": "python",
   "nbconvert_exporter": "python",
   "pygments_lexer": "ipython3",
   "version": "3.10.0"
  },
  "orig_nbformat": 4,
  "vscode": {
   "interpreter": {
    "hash": "320c1f05b41b6296d6cdeadbc8f37198b22e160db062b16d8b8cc9d95c25d782"
   }
  }
 },
 "nbformat": 4,
 "nbformat_minor": 2
}
