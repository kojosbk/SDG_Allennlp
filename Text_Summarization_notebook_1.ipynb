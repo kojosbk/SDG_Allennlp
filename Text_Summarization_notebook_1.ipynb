{
 "cells": [
  {
   "cell_type": "markdown",
   "id": "05d78485",
   "metadata": {},
   "source": [
    "# Installing Packages"
   ]
  },
  {
   "cell_type": "code",
   "execution_count": 20,
   "id": "77f2e195",
   "metadata": {},
   "outputs": [
    {
     "name": "stdout",
     "output_type": "stream",
     "text": [
      "Requirement already satisfied: torch in c:\\users\\silas_dell\\appdata\\local\\programs\\python\\python310\\lib\\site-packages (1.11.0)\n",
      "Requirement already satisfied: typing-extensions in c:\\users\\silas_dell\\appdata\\local\\programs\\python\\python310\\lib\\site-packages (from torch) (4.0.1)\n"
     ]
    },
    {
     "name": "stderr",
     "output_type": "stream",
     "text": [
      "WARNING: Ignoring invalid distribution -rotobuf (c:\\users\\silas_dell\\appdata\\local\\programs\\python\\python310\\lib\\site-packages)\n",
      "WARNING: Ignoring invalid distribution -rotobuf (c:\\users\\silas_dell\\appdata\\local\\programs\\python\\python310\\lib\\site-packages)\n",
      "WARNING: Ignoring invalid distribution -rotobuf (c:\\users\\silas_dell\\appdata\\local\\programs\\python\\python310\\lib\\site-packages)\n",
      "WARNING: Ignoring invalid distribution -rotobuf (c:\\users\\silas_dell\\appdata\\local\\programs\\python\\python310\\lib\\site-packages)\n",
      "WARNING: Ignoring invalid distribution -rotobuf (c:\\users\\silas_dell\\appdata\\local\\programs\\python\\python310\\lib\\site-packages)\n",
      "WARNING: Ignoring invalid distribution -rotobuf (c:\\users\\silas_dell\\appdata\\local\\programs\\python\\python310\\lib\\site-packages)\n",
      "WARNING: There was an error checking the latest version of pip.\n"
     ]
    },
    {
     "name": "stdout",
     "output_type": "stream",
     "text": [
      "Requirement already satisfied: transformers in c:\\users\\silas_dell\\appdata\\local\\programs\\python\\python310\\lib\\site-packages (4.20.1)\n",
      "Requirement already satisfied: filelock in c:\\users\\silas_dell\\appdata\\local\\programs\\python\\python310\\lib\\site-packages (from transformers) (3.7.1)\n",
      "Requirement already satisfied: huggingface-hub<1.0,>=0.1.0 in c:\\users\\silas_dell\\appdata\\local\\programs\\python\\python310\\lib\\site-packages (from transformers) (0.8.1)\n",
      "Requirement already satisfied: requests in c:\\users\\silas_dell\\appdata\\local\\programs\\python\\python310\\lib\\site-packages (from transformers) (2.28.1)\n",
      "Requirement already satisfied: regex!=2019.12.17 in c:\\users\\silas_dell\\appdata\\local\\programs\\python\\python310\\lib\\site-packages (from transformers) (2022.6.2)\n",
      "Requirement already satisfied: tokenizers!=0.11.3,<0.13,>=0.11.1 in c:\\users\\silas_dell\\appdata\\local\\programs\\python\\python310\\lib\\site-packages (from transformers) (0.12.1)\n",
      "Requirement already satisfied: tqdm>=4.27 in c:\\users\\silas_dell\\appdata\\local\\programs\\python\\python310\\lib\\site-packages (from transformers) (4.64.0)\n",
      "Requirement already satisfied: pyyaml>=5.1 in c:\\users\\silas_dell\\appdata\\local\\programs\\python\\python310\\lib\\site-packages (from transformers) (6.0)\n",
      "Requirement already satisfied: numpy>=1.17 in c:\\users\\silas_dell\\appdata\\local\\programs\\python\\python310\\lib\\site-packages (from transformers) (1.22.4)\n",
      "Requirement already satisfied: packaging>=20.0 in c:\\users\\silas_dell\\appdata\\local\\programs\\python\\python310\\lib\\site-packages (from transformers) (21.3)\n",
      "Requirement already satisfied: typing-extensions>=3.7.4.3 in c:\\users\\silas_dell\\appdata\\local\\programs\\python\\python310\\lib\\site-packages (from huggingface-hub<1.0,>=0.1.0->transformers) (4.0.1)\n",
      "Requirement already satisfied: pyparsing!=3.0.5,>=2.0.2 in c:\\users\\silas_dell\\appdata\\local\\programs\\python\\python310\\lib\\site-packages (from packaging>=20.0->transformers) (3.0.7)\n",
      "Requirement already satisfied: colorama in c:\\users\\silas_dell\\appdata\\local\\programs\\python\\python310\\lib\\site-packages (from tqdm>=4.27->transformers) (0.4.4)\n",
      "Requirement already satisfied: urllib3<1.27,>=1.21.1 in c:\\users\\silas_dell\\appdata\\local\\programs\\python\\python310\\lib\\site-packages (from requests->transformers) (1.26.12)\n",
      "Requirement already satisfied: charset-normalizer<3,>=2 in c:\\users\\silas_dell\\appdata\\local\\programs\\python\\python310\\lib\\site-packages (from requests->transformers) (2.0.12)\n",
      "Requirement already satisfied: idna<4,>=2.5 in c:\\users\\silas_dell\\appdata\\local\\programs\\python\\python310\\lib\\site-packages (from requests->transformers) (2.10)\n",
      "Requirement already satisfied: certifi>=2017.4.17 in c:\\users\\silas_dell\\appdata\\local\\programs\\python\\python310\\lib\\site-packages (from requests->transformers) (2021.10.8)\n"
     ]
    },
    {
     "name": "stderr",
     "output_type": "stream",
     "text": [
      "WARNING: Ignoring invalid distribution -rotobuf (c:\\users\\silas_dell\\appdata\\local\\programs\\python\\python310\\lib\\site-packages)\n",
      "WARNING: Ignoring invalid distribution -rotobuf (c:\\users\\silas_dell\\appdata\\local\\programs\\python\\python310\\lib\\site-packages)\n",
      "WARNING: Ignoring invalid distribution -rotobuf (c:\\users\\silas_dell\\appdata\\local\\programs\\python\\python310\\lib\\site-packages)\n",
      "WARNING: Ignoring invalid distribution -rotobuf (c:\\users\\silas_dell\\appdata\\local\\programs\\python\\python310\\lib\\site-packages)\n",
      "WARNING: Ignoring invalid distribution -rotobuf (c:\\users\\silas_dell\\appdata\\local\\programs\\python\\python310\\lib\\site-packages)\n",
      "WARNING: Ignoring invalid distribution -rotobuf (c:\\users\\silas_dell\\appdata\\local\\programs\\python\\python310\\lib\\site-packages)\n",
      "WARNING: There was an error checking the latest version of pip.\n"
     ]
    }
   ],
   "source": [
    "!pip install torch\n",
    "!pip install transformers"
   ]
  },
  {
   "cell_type": "markdown",
   "id": "06d625f0",
   "metadata": {},
   "source": [
    "# Load Model and Tokenizer"
   ]
  },
  {
   "cell_type": "code",
   "execution_count": 21,
   "id": "fc866e80",
   "metadata": {},
   "outputs": [
    {
     "name": "stderr",
     "output_type": "stream",
     "text": [
      "c:\\Users\\Silas_Dell\\AppData\\Local\\Programs\\Python\\Python310\\lib\\site-packages\\transformers\\models\\t5\\tokenization_t5_fast.py:156: FutureWarning: This tokenizer was incorrectly instantiated with a model max length of 512 which will be corrected in Transformers v5.\n",
      "For now, this behavior is kept to avoid breaking backwards compatibility when padding/encoding with `truncation is True`.\n",
      "- Be aware that you SHOULD NOT rely on t5-base automatically truncating your input to 512 when padding/encoding.\n",
      "- If you want to encode/pad to sequences longer than 512 you can either instantiate this tokenizer with `model_max_length` or pass `max_length` when encoding/padding.\n",
      "- To avoid this warning, please instantiate this tokenizer with `model_max_length` set to your preferred value.\n",
      "  warnings.warn(\n"
     ]
    }
   ],
   "source": [
    "import torch\n",
    "from transformers import AutoTokenizer, AutoModelForSeq2SeqLM\n",
    "model = AutoModelForSeq2SeqLM.from_pretrained('t5-base')\n",
    "tokenizer = AutoTokenizer.from_pretrained('t5-base')\n"
   ]
  },
  {
   "cell_type": "markdown",
   "id": "7d2f4607",
   "metadata": {},
   "source": [
    "# Input Text"
   ]
  },
  {
   "cell_type": "code",
   "execution_count": 22,
   "id": "149a30b9",
   "metadata": {},
   "outputs": [],
   "source": [
    "text = \"\"\"\n",
    "As Kingdom preachers, we also face the challenge of overcoming a language barrier. \n",
    "In the revelation that he gave to the apostle John, Jesus disclosed that in our day the\n",
    " good news would overcome that obstacle. (Read Revelation 14:6, 7.) How so? We are giving \n",
    " as many people as possible a chance to respond to the Kingdom message. Today, people around \n",
    " the world can read Bible-based material on our jw.org website because it contains information \n",
    " in over 1,000 languages! Approval was given to translate the Enjoy Life Forever! book​—our main\n",
    "  study tool for making disciples—​into more than 700 languages! Spiritual food has also been made available by means of video recordings\n",
    "   for the deaf and publications in braille for the blind. We are seeing Bible prophecies being fulfilled. People “out of all the languages \n",
    "   of the nations” are learning to speak the “pure language” of Bible truth. (Zech. 8:23; Zeph. 3:9)\n",
    " All of this is being accomplished under the capable oversight of Jesus Christ.\n",
    "\"\"\"\n"
   ]
  },
  {
   "cell_type": "markdown",
   "id": "ca9dad58",
   "metadata": {},
   "source": [
    "# Tokenize Text"
   ]
  },
  {
   "cell_type": "code",
   "execution_count": 23,
   "id": "6e957cb9",
   "metadata": {},
   "outputs": [],
   "source": [
    "tokens_input = tokenizer.encode(\"summarize: \" + text,\n",
    "                              return_tensors='pt',\n",
    "                              max_length=tokenizer.model_max_length,\n",
    "                              truncation=True)"
   ]
  },
  {
   "cell_type": "markdown",
   "id": "6554c4eb",
   "metadata": {},
   "source": [
    "# Generate Summary"
   ]
  },
  {
   "cell_type": "code",
   "execution_count": 24,
   "id": "bf9eaa4b",
   "metadata": {},
   "outputs": [],
   "source": [
    "summary_ids = model.generate(tokens_input, min_length=80, \n",
    "                           max_length=150, length_penalty=15, \n",
    "                           num_beams=2)"
   ]
  },
  {
   "cell_type": "code",
   "execution_count": 25,
   "id": "0acfdb2e",
   "metadata": {},
   "outputs": [],
   "source": [
    "summary = tokenizer.decode(summary_ids[0], skip_special_tokens=True)"
   ]
  },
  {
   "cell_type": "code",
   "execution_count": 26,
   "id": "4c87892a",
   "metadata": {},
   "outputs": [
    {
     "data": {
      "text/plain": [
       "'we are giving as many people as possible a chance to respond to the Kingdom message. people around the world can read Bible-based material on our jw.org website. people \"out of all the languages of the nations\" are learning to speak the \"pure language\" of Bible truth. we are seeing prophecies being fulfilled and people \"out of all the languages of the nations\" are learning to speak the \"pure language\" of Bible truth.'"
      ]
     },
     "execution_count": 26,
     "metadata": {},
     "output_type": "execute_result"
    }
   ],
   "source": [
    "summary "
   ]
  },
  {
   "cell_type": "markdown",
   "id": "af46023f",
   "metadata": {},
   "source": [
    "Since we got this summary by setting min_length=80 and max_length=150, we will try tweaking those parameters to see if we come up with a different output"
   ]
  },
  {
   "cell_type": "code",
   "execution_count": 27,
   "id": "5f5b1558",
   "metadata": {},
   "outputs": [],
   "source": [
    "tokens_input = tokenizer.encode(\"summarize: \" + text,\n",
    "                              return_tensors='pt',\n",
    "                              max_length=tokenizer.model_max_length,\n",
    "                              truncation=True)"
   ]
  },
  {
   "cell_type": "code",
   "execution_count": 28,
   "id": "04df295d",
   "metadata": {},
   "outputs": [],
   "source": [
    "summary_ids = model.generate(tokens_input, min_length=100, \n",
    "                           max_length=200, length_penalty=15, \n",
    "                           num_beams=2)"
   ]
  },
  {
   "cell_type": "code",
   "execution_count": 29,
   "id": "985bb3cb",
   "metadata": {},
   "outputs": [],
   "source": [
    "summary = tokenizer.decode(summary_ids[0], skip_special_tokens=True)"
   ]
  },
  {
   "cell_type": "code",
   "execution_count": 30,
   "id": "37f77aec",
   "metadata": {},
   "outputs": [
    {
     "data": {
      "text/plain": [
       "'we are giving as many people as possible a chance to respond to the Kingdom message. people around the world can read Bible-based material on our jw.org website. people \"out of all the languages of the nations\" are learning to speak the \"pure language\" of Bible truth. we are seeing prophecies being fulfilled and people \"out of all the languages of the nations\" are learning to speak the \"pure language\" of Bible truth.'"
      ]
     },
     "execution_count": 30,
     "metadata": {},
     "output_type": "execute_result"
    }
   ],
   "source": [
    "summary"
   ]
  },
  {
   "cell_type": "markdown",
   "id": "0fd19668",
   "metadata": {},
   "source": [
    "By increasing the min_length by 20 and max_length by 50 the output is exactly the same "
   ]
  },
  {
   "cell_type": "code",
   "execution_count": 31,
   "id": "ad0f1881",
   "metadata": {},
   "outputs": [],
   "source": [
    "tokens_input = tokenizer.encode(\"summarize: \" + text,\n",
    "                              return_tensors='pt',\n",
    "                              max_length=tokenizer.model_max_length,\n",
    "                              truncation=True)"
   ]
  },
  {
   "cell_type": "code",
   "execution_count": 32,
   "id": "c766053b",
   "metadata": {},
   "outputs": [],
   "source": [
    "summary_ids = model.generate(tokens_input, min_length=200, \n",
    "                           max_length=400, length_penalty=15, \n",
    "                           num_beams=2)"
   ]
  },
  {
   "cell_type": "code",
   "execution_count": 33,
   "id": "ca3e30ce",
   "metadata": {},
   "outputs": [],
   "source": [
    "summary = tokenizer.decode(summary_ids[0], skip_special_tokens=True)"
   ]
  },
  {
   "cell_type": "code",
   "execution_count": 34,
   "id": "18420669",
   "metadata": {},
   "outputs": [
    {
     "data": {
      "text/plain": [
       "'we are giving as many people as possible a chance to respond to the Kingdom message. people around the world can read Bible-based material on our jw.org website. people \"out of all the languages of the nations\" are learning to speak the \"pure language\" of Bible truth. we are seeing prophecies being fulfilled and people \"out of all the languages of the nations\" are learning to speak the \"pure language\" of Bible truth. jw.org: \"we are giving as many            .                                                            \" \" \" \" \" \" \" \" \" \" \" \" \" \" \" \" \" \" \" \" \" \" \" \" \" \" \" \" \" \" \" \" \" \" \" \" \" \" \" \" \" \" \" \" \" \" \" \" \" \" \" \" \" \" \" \" \" \" \" \" \" \" \" \" \" \" \" \" \" \" \" \" \" \" \" \" \" \" \" \" \" \" \" \" \" \" \" \" \" \" \" \" \" \" \" \" \" \" \" \" \" \" \" \" \" \" \" \" \" \" \" \" \" \" \" \" \" \" \" \" \" \" \" \" \" \" \" \" \" \" \" \" \" \" \" \" \" \" \" \" \" \" \" \" \" \" \" \" \" \" \" \" \" \" \" \" \" \" \" \" \" \" \" \" \" \" \" \" \" \" \" \" \" \"'"
      ]
     },
     "execution_count": 34,
     "metadata": {},
     "output_type": "execute_result"
    }
   ],
   "source": [
    "summary"
   ]
  },
  {
   "cell_type": "markdown",
   "id": "02bf3712",
   "metadata": {},
   "source": [
    "We tried considerably increasing the min_length and max_length by 100 and 200 respectively and we got an output of meaningless text with alot of noise"
   ]
  },
  {
   "cell_type": "code",
   "execution_count": 35,
   "id": "aaf744ee",
   "metadata": {},
   "outputs": [],
   "source": [
    "tokens_input = tokenizer.encode(\"summarize: \" + text,\n",
    "                              return_tensors='pt',\n",
    "                              max_length=tokenizer.model_max_length,\n",
    "                              truncation=True)"
   ]
  },
  {
   "cell_type": "code",
   "execution_count": 36,
   "id": "fe07a1fd",
   "metadata": {},
   "outputs": [],
   "source": [
    "summary_ids = model.generate(tokens_input, min_length=40, \n",
    "                           max_length=100, length_penalty=15, \n",
    "                           num_beams=2)"
   ]
  },
  {
   "cell_type": "code",
   "execution_count": 37,
   "id": "41c2914d",
   "metadata": {},
   "outputs": [],
   "source": [
    "summary = tokenizer.decode(summary_ids[0], skip_special_tokens=True)"
   ]
  },
  {
   "cell_type": "code",
   "execution_count": 38,
   "id": "16ee2e97",
   "metadata": {},
   "outputs": [
    {
     "data": {
      "text/plain": [
       "'we are giving as many people as possible a chance to respond to the Kingdom message. people around the world can read Bible-based material on our jw.org website. people \"out of all the languages of the nations\" are learning to speak the \"pure language\" of Bible truth. we are seeing prophecies being fulfilled and people \"out of all the languages of the nations\" are learning to speak the \"pure language\" of Bible truth'"
      ]
     },
     "execution_count": 38,
     "metadata": {},
     "output_type": "execute_result"
    }
   ],
   "source": [
    "summary"
   ]
  },
  {
   "cell_type": "markdown",
   "id": "25e31375",
   "metadata": {},
   "source": [
    "By setting min_length = 40 and max_length = 100 we got an output summary of meaningful yet shorter text than the original summarization"
   ]
  }
 ],
 "metadata": {
  "kernelspec": {
   "display_name": "Python 3.10.0 64-bit",
   "language": "python",
   "name": "python3"
  },
  "language_info": {
   "codemirror_mode": {
    "name": "ipython",
    "version": 3
   },
   "file_extension": ".py",
   "mimetype": "text/x-python",
   "name": "python",
   "nbconvert_exporter": "python",
   "pygments_lexer": "ipython3",
   "version": "3.10.0"
  },
  "vscode": {
   "interpreter": {
    "hash": "320c1f05b41b6296d6cdeadbc8f37198b22e160db062b16d8b8cc9d95c25d782"
   }
  }
 },
 "nbformat": 4,
 "nbformat_minor": 5
}
